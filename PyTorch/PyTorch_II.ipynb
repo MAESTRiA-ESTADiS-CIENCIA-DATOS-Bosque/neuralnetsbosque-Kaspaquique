{
  "nbformat": 4,
  "nbformat_minor": 0,
  "metadata": {
    "colab": {
      "provenance": []
    },
    "kernelspec": {
      "name": "python3",
      "display_name": "Python 3"
    },
    "language_info": {
      "name": "python"
    }
  },
  "cells": [
    {
      "cell_type": "markdown",
      "source": [
        "#**PyTorch II**\n",
        "Autor: Jheremy Reyes,\n",
        "\n",
        "estudiante de matemáticas,\n",
        "\n",
        "Universidad El Bosque"
      ],
      "metadata": {
        "id": "Ss5smtEknmi_"
      }
    },
    {
      "cell_type": "markdown",
      "source": [
        "**Introducción a las Operaciones en PyTorch: El Corazón del Deep Learning Moderno**\n",
        "\n",
        "PyTorch se ha consolidado como uno de los frameworks más poderosos para deep learning gracias a su diseño flexible y su rico conjunto de operaciones tensoriales. Estas operaciones —que van desde simples cálculos aritméticos hasta complejas transformaciones matriciales— forman los cimientos sobre los cuales se construyen modelos de inteligencia artificial avanzados. A diferencia de otros frameworks, PyTorch integra estas capacidades con una API intuitiva y la magia del cálculo diferencial automático (autograd), permitiendo prototipado rápido sin sacrificar rendimiento.\n",
        "\n"
      ],
      "metadata": {
        "id": "-6leX3Fvnv78"
      }
    },
    {
      "cell_type": "markdown",
      "source": [
        "**¿Qué son las Operaciones en PyTorch?**\n",
        "Las operaciones son funciones matemáticas que transforman tensores (arrays multidimensionales) preservando su estructura y permitiendo:\n",
        "\n",
        "Cálculos numéricos eficientes (usando CPU/GPU/TPU)\n",
        "\n",
        "Propagación automática de gradientes para entrenamiento de modelos\n",
        "\n",
        "Composición modular de operaciones para construir grafos computacionales dinámicos"
      ],
      "metadata": {
        "id": "As7HqOnMn-LD"
      }
    },
    {
      "cell_type": "markdown",
      "source": [
        "El siguiente bloque de código representa la inicialización estándar para cualquier proyecto en PyTorch, donde se importan las bibliotecas esenciales y se configura el entorno de ejecución. A continuación, se detalla cada componente:"
      ],
      "metadata": {
        "id": "HQSeZ5KmpKUV"
      }
    },
    {
      "cell_type": "code",
      "source": [
        "# Importaciones esenciales\n",
        "import torch\n",
        "import torch.nn as nn\n",
        "import torch.optim as optim\n",
        "import torch.nn.functional as F\n",
        "import numpy as np\n",
        "import matplotlib.pyplot as plt\n",
        "\n",
        "# Magic command para gráficos embebidos (debe ir en su propia línea, sin comentarios después)\n",
        "%matplotlib inline\n",
        "\n",
        "# Configuración adicional\n",
        "from torch.utils.data import DataLoader, Dataset\n",
        "import os\n",
        "from tqdm import tqdm\n",
        "\n",
        "# Verificación de GPU\n",
        "device = torch.device(\"cuda\" if torch.cuda.is_available() else \"cpu\")\n",
        "print(f\"\\nDispositivo de ejecución: {device}\")"
      ],
      "metadata": {
        "colab": {
          "base_uri": "https://localhost:8080/"
        },
        "id": "av8-ASeLoc30",
        "outputId": "aab3ce81-f955-43ee-c087-7133de74e302"
      },
      "execution_count": null,
      "outputs": [
        {
          "output_type": "stream",
          "name": "stdout",
          "text": [
            "\n",
            "Dispositivo de ejecución: cpu\n"
          ]
        }
      ]
    },
    {
      "cell_type": "markdown",
      "source": [
        "**torch:** Biblioteca central que proporciona tensores (estructuras de datos multidimensionales) y operaciones básicas para cómputo numérico acelerado (CPU/GPU).\n",
        "\n",
        "**torch.nn (nn)**: Módulo que contiene clases predefinidas para construir arquitecturas de redes neuronales (ej. Linear, Conv2d, LSTM).\n",
        "\n",
        "**torch.optim (optim):** Implementa algoritmos de optimización (ej. SGD, Adam) para el entrenamiento de modelos.\n",
        "\n",
        "**torch.nn.functional (F)**: Ofrece funciones de activación (ej. ReLU, softmax) y operaciones sin estado (stateless)."
      ],
      "metadata": {
        "id": "zufBb1jNpO4V"
      }
    },
    {
      "cell_type": "code",
      "source": [
        "import torch\n",
        "\n",
        "# Crear tensores en PyTorch\n",
        "a = torch.tensor([[1, 2],\n",
        "                   [3, 4]], dtype=torch.int32)\n",
        "\n",
        "b = torch.ones([2, 2], dtype=torch.int32)\n",
        "\n",
        "# Imprimir los tensores\n",
        "print(\"a:\\n\", a, \"\\n\")\n",
        "print(\"b:\\n\", b, \"\\n\")\n",
        "\n",
        "# Operaciones en PyTorch\n",
        "print(\"Miremos algunas operaciones:\\n\")\n",
        "\n",
        "# Suma de tensores\n",
        "print(\"Suma:\\n\", torch.add(a, b), \"\\n\")\n",
        "\n",
        "# Multiplicación elemento por elemento\n",
        "print(\"Multiplicación elementwise:\\n\", torch.mul(a, b), \"\\n\")\n",
        "\n",
        "# Multiplicación de matrices\n",
        "print(\"Multiplicación de matrices:\\n\", torch.matmul(a, b), \"\\n\")"
      ],
      "metadata": {
        "colab": {
          "base_uri": "https://localhost:8080/"
        },
        "id": "J8kbXU-Wpavb",
        "outputId": "6c1ca6b1-c00c-473e-debf-7f44c39ce5ca"
      },
      "execution_count": null,
      "outputs": [
        {
          "output_type": "stream",
          "name": "stdout",
          "text": [
            "a:\n",
            " tensor([[1, 2],\n",
            "        [3, 4]], dtype=torch.int32) \n",
            "\n",
            "b:\n",
            " tensor([[1, 1],\n",
            "        [1, 1]], dtype=torch.int32) \n",
            "\n",
            "Miremos algunas operaciones:\n",
            "\n",
            "Suma:\n",
            " tensor([[2, 3],\n",
            "        [4, 5]], dtype=torch.int32) \n",
            "\n",
            "Multiplicación elementwise:\n",
            " tensor([[1, 2],\n",
            "        [3, 4]], dtype=torch.int32) \n",
            "\n",
            "Multiplicación de matrices:\n",
            " tensor([[3, 3],\n",
            "        [7, 7]], dtype=torch.int32) \n",
            "\n"
          ]
        }
      ]
    },
    {
      "cell_type": "code",
      "source": [
        "c = torch.tensor([[4, 5], [10, 1]], dtype=torch.int32)\n",
        "print(\"b + c:\\n\", b + c, \"\\n\")"
      ],
      "metadata": {
        "colab": {
          "base_uri": "https://localhost:8080/"
        },
        "id": "p4-hY5VKphhY",
        "outputId": "a82e024f-53ca-4a1a-d77d-72c919ade901"
      },
      "execution_count": null,
      "outputs": [
        {
          "output_type": "stream",
          "name": "stdout",
          "text": [
            "b + c:\n",
            " tensor([[ 5,  6],\n",
            "        [11,  2]], dtype=torch.int32) \n",
            "\n"
          ]
        }
      ]
    },
    {
      "cell_type": "code",
      "source": [
        "c = torch.tensor([[4.0, 5.0], [10.0, 1.0]], dtype=torch.float64)\n",
        "print(\"Valor máximo de c:\", torch.max(c).item())"
      ],
      "metadata": {
        "colab": {
          "base_uri": "https://localhost:8080/"
        },
        "id": "XBGc5FAepl7K",
        "outputId": "21cfe7d4-0ddf-4142-ef32-72de45459e74"
      },
      "execution_count": null,
      "outputs": [
        {
          "output_type": "stream",
          "name": "stdout",
          "text": [
            "Valor máximo de c: 10.0\n"
          ]
        }
      ]
    },
    {
      "cell_type": "code",
      "source": [
        "# Máximo a lo largo de las filas (axis=0 en TensorFlow)\n",
        "print(\"Máximo a lo largo de las filas:\", torch.max(c, dim=0).values)\n",
        "\n",
        "# Máximo a lo largo de las columnas (axis=1 en TensorFlow)\n",
        "print(\"Máximo a lo largo de las columnas:\", torch.max(c, dim=1).values)"
      ],
      "metadata": {
        "colab": {
          "base_uri": "https://localhost:8080/"
        },
        "id": "QlAlbjQGprr8",
        "outputId": "f8c1e546-ccfd-4977-a3cc-a651bf72ecb9"
      },
      "execution_count": null,
      "outputs": [
        {
          "output_type": "stream",
          "name": "stdout",
          "text": [
            "Máximo a lo largo de las filas: tensor([10.,  5.], dtype=torch.float64)\n",
            "Máximo a lo largo de las columnas: tensor([ 5., 10.], dtype=torch.float64)\n"
          ]
        }
      ]
    },
    {
      "cell_type": "markdown",
      "source": [
        "**Aplicación y Visualización de la Función ReLU**"
      ],
      "metadata": {
        "id": "soJdwFsKp4p9"
      }
    },
    {
      "cell_type": "markdown",
      "source": [
        "Este fragmento de código ilustra un flujo de trabajo típico en PyTorch para:\n",
        "\n",
        "- Generar datos aleatorios,\n",
        "\n",
        "- Aplicar una función de activación clave en redes neuronales, y\n",
        "\n",
        "- Visualizar los resultados."
      ],
      "metadata": {
        "id": "oIyiOx8EqCAT"
      }
    },
    {
      "cell_type": "code",
      "source": [
        "# Generar un tensor con valores aleatorios uniformes\n",
        "d = torch.empty(200).uniform_(-10.0, 10.0)\n",
        "\n",
        "# Aplicar la función ReLU\n",
        "relu_d = torch.relu(d)\n",
        "\n",
        "# Graficar los valores\n",
        "plt.plot(relu_d.numpy())\n",
        "plt.title(\"Función ReLU aplicada a 'd'\")\n",
        "plt.xlabel(\"Índice\")\n",
        "plt.ylabel(\"Valor\")\n",
        "plt.show()"
      ],
      "metadata": {
        "colab": {
          "base_uri": "https://localhost:8080/",
          "height": 472
        },
        "id": "DsGtxh2Kp_yI",
        "outputId": "87ba3c72-08d7-4ee1-84e5-9798408ba878"
      },
      "execution_count": null,
      "outputs": [
        {
          "output_type": "display_data",
          "data": {
            "text/plain": [
              "<Figure size 640x480 with 1 Axes>"
            ],
            "image/png": "[encoded data removed]"
          },
          "metadata": {}
        }
      ]
    },
    {
      "cell_type": "markdown",
      "source": [
        "**Relevancia en Deep Learning**\n",
        "**Propósito de ReLU:**\n",
        "\n",
        "Introduce no-linealidad en redes neuronales.\n",
        "\n",
        "Mitiga el problema del vanishing gradient (comparado con sigmoid/tanh).\n",
        "\n",
        "**Uso típico:**\n",
        "\n",
        "Capas ocultas en CNNs y MLPs.\n",
        "\n",
        "Implementada como F.relu() o nn.ReLU() en PyTorch."
      ],
      "metadata": {
        "id": "n_Ix7SowqZna"
      }
    },
    {
      "cell_type": "markdown",
      "source": [
        "**Propiedades**"
      ],
      "metadata": {
        "id": "5fNwvb1Vp_RY"
      }
    },
    {
      "cell_type": "markdown",
      "source": [
        "**Creación y Análisis de un Tensor de Rango 4**\n",
        "\n",
        "El siguiente código demuestra cómo crear un tensor multidimensional en PyTorch y examinar sus propiedades fundamentales. Esta operación es esencial para trabajar con datos complejos en deep learning, como imágenes en batch o secuencias temporales."
      ],
      "metadata": {
        "id": "iA9hEWgaq46B"
      }
    },
    {
      "cell_type": "code",
      "source": [
        "# Crear un tensor de rango 4 lleno de ceros\n",
        "rank_4_tensor = torch.zeros([3, 2, 4, 5])\n",
        "\n",
        "# Propiedades del tensor\n",
        "print(\"Tensor de rango 4:\\n\", rank_4_tensor)\n",
        "print(\"\\nForma del tensor (shape):\", rank_4_tensor.shape)\n",
        "print(\"Número de dimensiones (rank):\", len(rank_4_tensor.shape))\n",
        "print(\"Número total de elementos:\", rank_4_tensor.numel())\n",
        "print(\"Tipo de dato (dtype):\", rank_4_tensor.dtype)"
      ],
      "metadata": {
        "colab": {
          "base_uri": "https://localhost:8080/"
        },
        "id": "nseOdMP4rCAB",
        "outputId": "688865b2-af3f-4c96-cdf5-930ed733dde6"
      },
      "execution_count": null,
      "outputs": [
        {
          "output_type": "stream",
          "name": "stdout",
          "text": [
            "Tensor de rango 4:\n",
            " tensor([[[[0., 0., 0., 0., 0.],\n",
            "          [0., 0., 0., 0., 0.],\n",
            "          [0., 0., 0., 0., 0.],\n",
            "          [0., 0., 0., 0., 0.]],\n",
            "\n",
            "         [[0., 0., 0., 0., 0.],\n",
            "          [0., 0., 0., 0., 0.],\n",
            "          [0., 0., 0., 0., 0.],\n",
            "          [0., 0., 0., 0., 0.]]],\n",
            "\n",
            "\n",
            "        [[[0., 0., 0., 0., 0.],\n",
            "          [0., 0., 0., 0., 0.],\n",
            "          [0., 0., 0., 0., 0.],\n",
            "          [0., 0., 0., 0., 0.]],\n",
            "\n",
            "         [[0., 0., 0., 0., 0.],\n",
            "          [0., 0., 0., 0., 0.],\n",
            "          [0., 0., 0., 0., 0.],\n",
            "          [0., 0., 0., 0., 0.]]],\n",
            "\n",
            "\n",
            "        [[[0., 0., 0., 0., 0.],\n",
            "          [0., 0., 0., 0., 0.],\n",
            "          [0., 0., 0., 0., 0.],\n",
            "          [0., 0., 0., 0., 0.]],\n",
            "\n",
            "         [[0., 0., 0., 0., 0.],\n",
            "          [0., 0., 0., 0., 0.],\n",
            "          [0., 0., 0., 0., 0.],\n",
            "          [0., 0., 0., 0., 0.]]]])\n",
            "\n",
            "Forma del tensor (shape): torch.Size([3, 2, 4, 5])\n",
            "Número de dimensiones (rank): 4\n",
            "Número total de elementos: 120\n",
            "Tipo de dato (dtype): torch.float32\n"
          ]
        }
      ]
    },
    {
      "cell_type": "markdown",
      "source": [
        "**Creación del tensor:**\n",
        "\n",
        "torch.zeros([3, 2, 4, 5]) genera un tensor de 4 dimensiones (rango 4) lleno de ceros, con forma (3, 2, 4, 5).\n",
        "\n",
        "Esta estructura podría representar, por ejemplo:\n",
        "\n",
        "- 3 lotes de datos\n",
        "\n",
        "- Cada lote contiene 2 canales (como imágenes RGB)\n",
        "\n",
        "- Cada canal tiene 4 filas y 5 columnas"
      ],
      "metadata": {
        "id": "S66pU_6grI63"
      }
    },
    {
      "cell_type": "markdown",
      "source": [
        "**Aplicaciones prácticas:**\n",
        "**Visión por computadora:** Tensores rank-4 son comunes para batches de imágenes (batch, canales, altura, ancho).\n",
        "\n",
        "**Procesamiento de secuencias:** Pueden modelar (batch, pasos temporales, características, embeddings)."
      ],
      "metadata": {
        "id": "ZXiTfsUzrXgw"
      }
    },
    {
      "cell_type": "code",
      "source": [
        "# Crear un tensor de rango 4 lleno de ceros\n",
        "rank_4_tensor = torch.zeros([3, 2, 4, 5])\n",
        "\n",
        "# Propiedades del tensor\n",
        "print(\"Rango (número de dimensiones):\", len(rank_4_tensor.shape))  # Equivalente a tf.rank\n",
        "print(\"Tipo de elemento:\", rank_4_tensor.dtype)\n",
        "print(\"Número de ejes o dimensiones:\", rank_4_tensor.ndim)\n",
        "print(\"Tamaño del tensor (shape):\", rank_4_tensor.shape)\n",
        "print(\"Elementos en el eje 0 del tensor:\", rank_4_tensor.shape[0])\n",
        "print(\"Elementos en el último eje del tensor:\", rank_4_tensor.shape[-1])\n",
        "print(\"Tamaño total de elementos (3*2*4*5):\", rank_4_tensor.numel())"
      ],
      "metadata": {
        "colab": {
          "base_uri": "https://localhost:8080/"
        },
        "id": "FD1ehXKXrkwv",
        "outputId": "1aaf842e-4827-4106-f203-d99caa197f35"
      },
      "execution_count": null,
      "outputs": [
        {
          "output_type": "stream",
          "name": "stdout",
          "text": [
            "Rango (número de dimensiones): 4\n",
            "Tipo de elemento: torch.float32\n",
            "Número de ejes o dimensiones: 4\n",
            "Tamaño del tensor (shape): torch.Size([3, 2, 4, 5])\n",
            "Elementos en el eje 0 del tensor: 3\n",
            "Elementos en el último eje del tensor: 5\n",
            "Tamaño total de elementos (3*2*4*5): 120\n"
          ]
        }
      ]
    },
    {
      "cell_type": "markdown",
      "source": [
        "**Reshape**"
      ],
      "metadata": {
        "id": "g7MYkG3rrvh7"
      }
    },
    {
      "cell_type": "markdown",
      "source": [
        "**Introducción a la Operación reshape en PyTorch: Concepto e Importancia**\n",
        "\n",
        "En PyTorch, reshape es una operación fundamental que permite reorganizar los elementos de un tensor en una nueva forma (shape) sin modificar sus datos subyacentes. Esta función garantiza que el número total de elementos (numel) se mantenga constante, cumpliendo la siguiente regla:\n",
        "\n",
        "numel\n",
        "(\n",
        "tensor_original\n",
        ")\n",
        "=\n",
        "numel\n",
        "(\n",
        "tensor_redimensionado\n",
        ")\n",
        "numel(tensor_original)=numel(tensor_redimensionado)"
      ],
      "metadata": {
        "id": "6y80dUC-r8XW"
      }
    },
    {
      "cell_type": "markdown",
      "source": [
        "**Importancia en Deep Learning**\n",
        "\n",
        "**Adaptabilidad de Datos**\n",
        "\n",
        "Permite ajustar tensores para que sean compatibles con las capas de una red neuronal.\n",
        "\n",
        "Ejemplo: Convertir un tensor de imágenes 3D (batch, altura, ancho) a 2D (batch, altura*ancho) para una capa Linear.\n",
        "\n",
        "**Eficiencia en Operaciones**\n",
        "\n",
        "Optimiza el cómputo al reorganizar datos para operaciones matriciales (ej: matmul).\n",
        "\n",
        "Ejemplo: Redimensionar un tensor (4, 5) a (5, 4) para multiplicación de matrices.\n",
        "\n",
        "**Manejo de Lotes (Batches)**\n",
        "\n",
        "Facilita el procesamiento de batches irregulares o la concatenación de tensores.\n",
        "\n",
        "**Compatibilidad con Hardware**\n",
        "\n",
        "Asegura que los tensores tengan formas óptimas para aceleración en GPU/TPU."
      ],
      "metadata": {
        "id": "G1jRKslfsJdJ"
      }
    },
    {
      "cell_type": "code",
      "source": [
        "# Tensor original (12 elementos)\n",
        "tensor_original = torch.arange(12)  # [0, 1, 2, ..., 11]\n",
        "\n",
        "# Redimensionar a 3x4\n",
        "tensor_reshaped = tensor_original.reshape(3, 4)\n",
        "\n",
        "print(\"Original (1D):\\n\", tensor_original)\n",
        "print(\"\\nReshaped (3x4):\\n\", tensor_reshaped)"
      ],
      "metadata": {
        "colab": {
          "base_uri": "https://localhost:8080/"
        },
        "id": "Kia8agmssWJS",
        "outputId": "99afc982-6a82-4611-99ae-3d04c807185b"
      },
      "execution_count": null,
      "outputs": [
        {
          "output_type": "stream",
          "name": "stdout",
          "text": [
            "Original (1D):\n",
            " tensor([ 0,  1,  2,  3,  4,  5,  6,  7,  8,  9, 10, 11])\n",
            "\n",
            "Reshaped (3x4):\n",
            " tensor([[ 0,  1,  2,  3],\n",
            "        [ 4,  5,  6,  7],\n",
            "        [ 8,  9, 10, 11]])\n"
          ]
        }
      ]
    },
    {
      "cell_type": "code",
      "source": [
        "# Crear un tensor de rango 3 (3 dimensiones)\n",
        "rank_3_tensor = torch.tensor([\n",
        "    [[1, 2, 3], [4, 5, 6]],\n",
        "    [[7, 8, 9], [10, 11, 12]],\n",
        "    [[13, 14, 15], [16, 17, 18]]\n",
        "])\n",
        "\n",
        "# Imprimir el tensor original\n",
        "print(\"Tensor original:\\n\", rank_3_tensor)\n",
        "\n",
        "# Cambiar la forma del tensor (reshape)\n",
        "reshaped_tensor = rank_3_tensor.reshape(2, 3, 3)  # Nueva forma: (2, 3, 3)\n",
        "print(\"\\nTensor después de reshape:\\n\", reshaped_tensor)"
      ],
      "metadata": {
        "colab": {
          "base_uri": "https://localhost:8080/"
        },
        "id": "QehD099lsfFA",
        "outputId": "97169787-ab99-48c6-9b15-c1e7aec3ae80"
      },
      "execution_count": null,
      "outputs": [
        {
          "output_type": "stream",
          "name": "stdout",
          "text": [
            "Tensor original:\n",
            " tensor([[[ 1,  2,  3],\n",
            "         [ 4,  5,  6]],\n",
            "\n",
            "        [[ 7,  8,  9],\n",
            "         [10, 11, 12]],\n",
            "\n",
            "        [[13, 14, 15],\n",
            "         [16, 17, 18]]])\n",
            "\n",
            "Tensor después de reshape:\n",
            " tensor([[[ 1,  2,  3],\n",
            "         [ 4,  5,  6],\n",
            "         [ 7,  8,  9]],\n",
            "\n",
            "        [[10, 11, 12],\n",
            "         [13, 14, 15],\n",
            "         [16, 17, 18]]])\n"
          ]
        }
      ]
    },
    {
      "cell_type": "code",
      "source": [
        "print(torch.reshape(rank_3_tensor, (-1,)))"
      ],
      "metadata": {
        "colab": {
          "base_uri": "https://localhost:8080/"
        },
        "id": "nl69RIDssm7A",
        "outputId": "d252114e-7a8e-4ba4-d0d6-0e6ce0b2adf3"
      },
      "execution_count": null,
      "outputs": [
        {
          "output_type": "stream",
          "name": "stdout",
          "text": [
            "tensor([ 1,  2,  3,  4,  5,  6,  7,  8,  9, 10, 11, 12, 13, 14, 15, 16, 17, 18])\n"
          ]
        }
      ]
    },
    {
      "cell_type": "code",
      "source": [
        "print(torch.reshape(rank_3_tensor, (3, -1)))"
      ],
      "metadata": {
        "colab": {
          "base_uri": "https://localhost:8080/"
        },
        "id": "10-34qJIsqcq",
        "outputId": "ff3f5f5d-11df-4656-f833-f1b0f8522a0f"
      },
      "execution_count": null,
      "outputs": [
        {
          "output_type": "stream",
          "name": "stdout",
          "text": [
            "tensor([[ 1,  2,  3,  4,  5,  6],\n",
            "        [ 7,  8,  9, 10, 11, 12],\n",
            "        [13, 14, 15, 16, 17, 18]])\n"
          ]
        }
      ]
    },
    {
      "cell_type": "code",
      "source": [
        "# Crear el tensor\n",
        "a = torch.tensor([[1.0, 2.0], [3.0, 4.0]])\n",
        "\n",
        "# Imprimir el tensor original\n",
        "print(\"Tensor original (a):\\n\", a)\n",
        "\n",
        "# Repetir a lo largo de las columnas (eje 1)\n",
        "b = a.repeat(1, 2)\n",
        "print(\"\\nRepetido a lo largo de las columnas (b):\\n\", b)\n",
        "\n",
        "# Repetir a lo largo de las filas y columnas (ejes 0 y 1)\n",
        "c = a.repeat(2, 3)\n",
        "print(\"\\nRepetido a lo largo de filas y columnas (c):\\n\", c)"
      ],
      "metadata": {
        "colab": {
          "base_uri": "https://localhost:8080/"
        },
        "id": "pKTkkFAasvG3",
        "outputId": "6cfdab1a-c3af-4979-a1fe-bcc92a0649d4"
      },
      "execution_count": null,
      "outputs": [
        {
          "output_type": "stream",
          "name": "stdout",
          "text": [
            "Tensor original (a):\n",
            " tensor([[1., 2.],\n",
            "        [3., 4.]])\n",
            "\n",
            "Repetido a lo largo de las columnas (b):\n",
            " tensor([[1., 2., 1., 2.],\n",
            "        [3., 4., 3., 4.]])\n",
            "\n",
            "Repetido a lo largo de filas y columnas (c):\n",
            " tensor([[1., 2., 1., 2., 1., 2.],\n",
            "        [3., 4., 3., 4., 3., 4.],\n",
            "        [1., 2., 1., 2., 1., 2.],\n",
            "        [3., 4., 3., 4., 3., 4.]])\n"
          ]
        }
      ]
    },
    {
      "cell_type": "markdown",
      "source": [
        "**Broadcasting**\n",
        "\n",
        "El broadcasting es un mecanismo fundamental en PyTorch (y NumPy) que permite realizar operaciones entre tensores de diferentes formas automáticamente, sin necesidad de replicar manualmente los datos. Aquí los puntos clave:\n",
        "\n",
        "**Definición**\n",
        "El broadcasting expande tensores de menor rango para que coincidan con la forma del tensor más grande en una operación, siguiendo reglas predefinidas.\n",
        "\n",
        "**Objetivo:** Evitar copias explícitas de datos y simplificar operaciones aritméticas.\n",
        "\n",
        "**Reglas del Broadcasting**\n",
        "PyTorch compara las dimensiones de los tensores de derecha a izquierda y aplica:\n",
        "\n",
        "- Igualdad de dimensiones: Si dos dimensiones son iguales, se opera directamente.\n",
        "\n",
        "- Dimensión 1: Si una dimensión es 1, se \"estira\" para igualar la otra.\n",
        "\n",
        "- Dimensión faltante: Si un tensor tiene menos dimensiones, se añaden dimensiones 1 a la izquierda."
      ],
      "metadata": {
        "id": "3xs7UXMB4euV"
      }
    },
    {
      "cell_type": "code",
      "source": [
        "# Crear los tensores\n",
        "x = torch.tensor([1, 2, 3])\n",
        "y = torch.tensor(3)\n",
        "z = torch.tensor([3, 3, 3])\n",
        "\n",
        "# Realizar las multiplicaciones\n",
        "print(\"Multiplicación con escalar (tf.multiply(x, 3)):\\n\", x * 3)\n",
        "print(\"Multiplicación con tensor escalar (x * y):\\n\", x * y)\n",
        "print(\"Multiplicación con tensor (x * z):\\n\", x * z)"
      ],
      "metadata": {
        "colab": {
          "base_uri": "https://localhost:8080/"
        },
        "id": "JMhdI-0i5Ryr",
        "outputId": "70a5c5d1-3112-4020-e1be-52bbed15d877"
      },
      "execution_count": null,
      "outputs": [
        {
          "output_type": "stream",
          "name": "stdout",
          "text": [
            "Multiplicación con escalar (tf.multiply(x, 3)):\n",
            " tensor([3, 6, 9])\n",
            "Multiplicación con tensor escalar (x * y):\n",
            " tensor([3, 6, 9])\n",
            "Multiplicación con tensor (x * z):\n",
            " tensor([3, 6, 9])\n"
          ]
        }
      ]
    },
    {
      "cell_type": "code",
      "source": [
        "# Crear los tensores\n",
        "a = torch.tensor([[1.0, 2.0], [3.0, 4.0]])\n",
        "b = torch.tensor([[1.0], [2.0]])\n",
        "\n",
        "# Repetir el tensor b a lo largo de las columnas\n",
        "d = b.repeat(1, 2)\n",
        "\n",
        "# Sumar tensores\n",
        "c = a + b\n",
        "e = a + d\n",
        "\n",
        "# Imprimir resultados\n",
        "print(\"Resultado de a + b (c):\\n\", c)\n",
        "print(\"Resultado de a + d (e):\\n\", e)"
      ],
      "metadata": {
        "colab": {
          "base_uri": "https://localhost:8080/"
        },
        "id": "UUxVOktP5inW",
        "outputId": "c5a24473-03b0-4d82-dd48-38f606b50a33"
      },
      "execution_count": null,
      "outputs": [
        {
          "output_type": "stream",
          "name": "stdout",
          "text": [
            "Resultado de a + b (c):\n",
            " tensor([[2., 3.],\n",
            "        [5., 6.]])\n",
            "Resultado de a + d (e):\n",
            " tensor([[2., 3.],\n",
            "        [5., 6.]])\n"
          ]
        }
      ]
    },
    {
      "cell_type": "markdown",
      "source": [
        "**Ragged, string & Sparse**"
      ],
      "metadata": {
        "id": "xngTqLee5tMy"
      }
    },
    {
      "cell_type": "markdown",
      "source": [
        "**Ragged Tensors (Tensores Irregulares)**\n",
        "\n",
        "**Definición:** Tensores donde las dimensiones tienen longitudes variables (ej: secuencias de texto con distinto número de palabras).\n",
        "\n",
        "Características:\n",
        "\n",
        "- No están soportados nativamente en PyTorch (a diferencia de TensorFlow).\n",
        "\n",
        "Alternativas:\n",
        "\n",
        "- Usar listas de tensores de 1D (List[torch.Tensor]).\n",
        "\n",
        "- Rellenar con valores especiales (padding) para crear tensores regulares.\n",
        "\n",
        "- Emplear máscaras para ignorar valores de relleno."
      ],
      "metadata": {
        "id": "CoBDKBbu55aC"
      }
    },
    {
      "cell_type": "code",
      "source": [
        "sequences = [torch.tensor([1, 2, 3]), torch.tensor([4, 5])]  # Lista de tensores irregulares\n",
        "padded = torch.nn.utils.rnn.pad_sequence(sequences, batch_first=True)"
      ],
      "metadata": {
        "id": "3u0B-mlB6K5F"
      },
      "execution_count": null,
      "outputs": []
    },
    {
      "cell_type": "markdown",
      "source": [
        "**Uso típico**: Procesamiento de lenguaje natural (NLP) o datos temporales de longitud variable."
      ],
      "metadata": {
        "id": "NUxGpmjZ6O8I"
      }
    },
    {
      "cell_type": "markdown",
      "source": [
        "**String Tensors (Tensores de Cadenas)**\n",
        "**Definición**: Tensores que almacenan datos de texto (cadenas de caracteres).\n",
        "Situación en PyTorch:\n",
        "\n",
        "No existe un tipo dtype para strings nativo en tensores PyTorch.\n",
        "\n",
        "Alternativas:\n",
        "\n",
        "- Codificar manualmente (ej: one-hot, embeddings).\n",
        "\n",
        "- Usar extensiones como torchtext para manejar texto.\n",
        "\n",
        "- Trabajar con tensores numéricos (índices de vocabulario)."
      ],
      "metadata": {
        "id": "4o3RSIiM6VHJ"
      }
    },
    {
      "cell_type": "code",
      "source": [
        "text_data = [\"hello\", \"world\"]\n",
        "# Convertir a índices numéricos\n",
        "vocab = {\"hello\": 0, \"world\": 1}\n",
        "encoded = torch.tensor([vocab[word] for word in text_data])"
      ],
      "metadata": {
        "id": "Fw350qdA6co9"
      },
      "execution_count": null,
      "outputs": []
    },
    {
      "cell_type": "markdown",
      "source": [
        "**Limitaciones**: Requiere preprocesamiento para convertir texto a números"
      ],
      "metadata": {
        "id": "nSh-nvW66ghh"
      }
    },
    {
      "cell_type": "markdown",
      "source": [
        "**Sparse Tensors (Tensores Dispersos)**\n",
        "\n",
        "**Definición**: Tensores que almacenan principalmente valores cero de manera eficiente (solo guardan valores no cero).\n",
        "\n",
        "Características:\n",
        "\n",
        "Formatos comunes: COO, CSR, CSC.\n",
        "\n",
        "Ahorran memoria y cómputo en operaciones matriciales."
      ],
      "metadata": {
        "id": "BeT2HrGP6kOV"
      }
    },
    {
      "cell_type": "code",
      "source": [
        "indices = torch.tensor([[0, 1], [2, 3]])  # Posiciones de valores no cero\n",
        "values = torch.tensor([1.5, 2.5])         # Valores\n",
        "sparse_tensor = torch.sparse_coo_tensor(indices, values, size=(4, 4))"
      ],
      "metadata": {
        "id": "HzboX6426i8H"
      },
      "execution_count": null,
      "outputs": []
    },
    {
      "cell_type": "markdown",
      "source": [
        "**Operaciones soportadas:**\n",
        "\n",
        "Multiplicación matriz-vector (torch.sparse.mm).\n",
        "\n",
        "Conversión a denso (sparse_tensor.to_dense()).\n",
        "\n",
        "**Uso típico:**\n",
        "\n",
        "Procesamiento de grafos (matrices de adyacencia).\n",
        "\n",
        "NLP (bag-of-words).\n",
        "\n",
        "Sistemas de recomendación."
      ],
      "metadata": {
        "id": "syb6jvqw64U1"
      }
    },
    {
      "cell_type": "code",
      "source": [
        "ragged_list = [\n",
        "    [0, 1, 2, 3],\n",
        "    [4, 5],\n",
        "    [6, 7, 8],\n",
        "    [9]\n",
        "]\n",
        "\n",
        "print(\"Lista irregular (ragged list):\\n\", ragged_list)"
      ],
      "metadata": {
        "colab": {
          "base_uri": "https://localhost:8080/"
        },
        "id": "2_QbGesA6sAb",
        "outputId": "9c52bc2e-54cc-4ff3-c63e-c6852611e7b1"
      },
      "execution_count": null,
      "outputs": [
        {
          "output_type": "stream",
          "name": "stdout",
          "text": [
            "Lista irregular (ragged list):\n",
            " [[0, 1, 2, 3], [4, 5], [6, 7, 8], [9]]\n"
          ]
        }
      ]
    },
    {
      "cell_type": "code",
      "source": [
        "# Lista de cadenas de texto\n",
        "tensor_strings = [\"Bienvenidos\",\n",
        "                  \"al\",\n",
        "                  \"curso de:\",\n",
        "                  \"TensorFlow 2\",\n",
        "                  \"para Deep Learning\",\n",
        "                  \"🥳👍\"]\n",
        "\n",
        "# Número de buckets\n",
        "num_buckets = 10\n",
        "\n",
        "# Función para asignar cada cadena a un bucket\n",
        "def to_hash_bucket(strings, num_buckets):\n",
        "    return [hash(s) % num_buckets for s in strings]\n",
        "\n",
        "# Aplicar la función\n",
        "word_buckets = to_hash_bucket(tensor_strings, num_buckets)\n",
        "\n",
        "# Imprimir el resultado\n",
        "print(\"Buckets asignados a cada cadena:\\n\", word_buckets)"
      ],
      "metadata": {
        "id": "xk00QKV47BSI",
        "outputId": "2aa755ac-e589-4b9f-89b5-e1736a874283",
        "colab": {
          "base_uri": "https://localhost:8080/"
        }
      },
      "execution_count": null,
      "outputs": [
        {
          "output_type": "stream",
          "name": "stdout",
          "text": [
            "Buckets asignados a cada cadena:\n",
            " [2, 0, 6, 9, 4, 1]\n"
          ]
        }
      ]
    },
    {
      "cell_type": "code",
      "source": [
        "# IDs de las palabras (índices)\n",
        "ids = torch.tensor([0, 0])\n",
        "\n",
        "# Buckets de las palabras (equivalente a los embeddings)\n",
        "word_buckets = torch.tensor([5, 3, 7, 8, 2, 9])\n",
        "\n",
        "# Crear una capa de embedding\n",
        "embedding_layer = nn.Embedding(num_embeddings=len(word_buckets), embedding_dim=1)\n",
        "\n",
        "# Asignar los buckets como pesos de la capa de embedding\n",
        "embedding_layer.weight = nn.Parameter(word_buckets.float().unsqueeze(1))\n",
        "\n",
        "# Realizar la búsqueda de embeddings\n",
        "word_embeddings = embedding_layer(ids)\n",
        "\n",
        "# Imprimir el resultado\n",
        "print(\"Embeddings buscados:\\n\", word_embeddings)"
      ],
      "metadata": {
        "id": "FDSMs9Fg7GHQ",
        "outputId": "c6ab270a-b47e-4028-b08e-eae385ecc2cd",
        "colab": {
          "base_uri": "https://localhost:8080/"
        }
      },
      "execution_count": null,
      "outputs": [
        {
          "output_type": "stream",
          "name": "stdout",
          "text": [
            "Embeddings buscados:\n",
            " tensor([[5.],\n",
            "        [5.]], grad_fn=<EmbeddingBackward0>)\n"
          ]
        }
      ]
    }
  ]
}