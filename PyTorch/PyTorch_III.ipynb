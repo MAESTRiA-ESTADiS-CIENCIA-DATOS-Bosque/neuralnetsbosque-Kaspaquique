{
  "nbformat": 4,
  "nbformat_minor": 0,
  "metadata": {
    "colab": {
      "provenance": []
    },
    "kernelspec": {
      "name": "python3",
      "display_name": "Python 3"
    },
    "language_info": {
      "name": "python"
    }
  },
  "cells": [
    {
      "cell_type": "markdown",
      "source": [
        "#**PyTorch III**\n",
        "Autor: Jheremy Reyes,\n",
        "\n",
        "estudiante de matemáticas,\n",
        "\n",
        "Universidad El Bosque\n"
      ],
      "metadata": {
        "id": "Cr5xn-LS77AM"
      }
    },
    {
      "cell_type": "markdown",
      "source": [
        "**Producto matricial**"
      ],
      "metadata": {
        "id": "PN6BoHNp8Q42"
      }
    },
    {
      "cell_type": "markdown",
      "source": [
        "**Conceptos Clave**\n",
        "\n",
        "El producto matricial (o producto punto) es una operación fundamental en álgebra lineal y deep learning, utilizada en:\n",
        "\n",
        "Capas fully connected (nn.Linear).\n",
        "\n",
        "Cálculo de atención en Transformers.\n",
        "\n",
        "Operaciones entre tensores de alta dimensión.\n",
        "\n",
        "PyTorch implementa múltiples variantes para diferentes casos de uso."
      ],
      "metadata": {
        "id": "0nOBzWao7--_"
      }
    },
    {
      "cell_type": "code",
      "source": [
        "import torch\n",
        "import numpy as np\n",
        "import matplotlib.pyplot as plt"
      ],
      "metadata": {
        "id": "RvNMYAk69OWJ"
      },
      "execution_count": null,
      "outputs": []
    },
    {
      "cell_type": "code",
      "execution_count": null,
      "metadata": {
        "id": "9nDFyO7t7btV"
      },
      "outputs": [],
      "source": [
        "A = torch.randn(3, 4)  # Matriz 3x4\n",
        "B = torch.randn(4, 5)  # Matriz 4x5\n",
        "C = torch.matmul(A, B) # Resultado 3x5\n",
        "# Equivalente: C = A @ B"
      ]
    },
    {
      "cell_type": "markdown",
      "source": [
        "**Producto estándar (matrices 2D)**"
      ],
      "metadata": {
        "id": "6gfiIjcj9cKg"
      }
    },
    {
      "cell_type": "code",
      "source": [
        "A = torch.randn(3, 4)  # Matriz 3x4\n",
        "B = torch.randn(4, 5)  # Matriz 4x5\n",
        "C = torch.matmul(A, B) # Resultado 3x5\n",
        "# Equivalente: C = A @ B"
      ],
      "metadata": {
        "id": "5JDzvBvs9Ym3"
      },
      "execution_count": null,
      "outputs": []
    },
    {
      "cell_type": "markdown",
      "source": [
        "**Producto por lotes (batched)**"
      ],
      "metadata": {
        "id": "WQmQtULz9eH7"
      }
    },
    {
      "cell_type": "code",
      "source": [
        "batch_A = torch.randn(10, 3, 4)  # Lote de 10 matrices 3x4\n",
        "batch_B = torch.randn(10, 4, 5)  # Lote de 10 matrices 4x5\n",
        "batch_C = torch.bmm(batch_A, batch_B)  # Resultado 10x3x5"
      ],
      "metadata": {
        "id": "ma0UqqEK9jzs"
      },
      "execution_count": null,
      "outputs": []
    },
    {
      "cell_type": "markdown",
      "source": [
        "**Producto vector-matriz**"
      ],
      "metadata": {
        "id": "U7vIy9mJ9owh"
      }
    },
    {
      "cell_type": "code",
      "source": [
        "v = torch.randn(4)     # Vector (4,)\n",
        "M = torch.randn(4, 5)\n",
        "result = v @ M         # Resultado (5,)"
      ],
      "metadata": {
        "id": "SykyfY4y9tMM"
      },
      "execution_count": null,
      "outputs": []
    },
    {
      "cell_type": "markdown",
      "source": [
        "**Einsum (notación Einstein)**"
      ],
      "metadata": {
        "id": "v6WhWUl19xD8"
      }
    },
    {
      "cell_type": "code",
      "source": [
        "# Equivalente a A @ B\n",
        "C = torch.einsum('ik,kj->ij', A, B)\n",
        "\n",
        "# Contrato múltiples dimensiones\n",
        "D = torch.einsum('bik,bkj->bij', batch_A, batch_B)  # = bmm"
      ],
      "metadata": {
        "id": "2nvNlieQ9ziX"
      },
      "execution_count": null,
      "outputs": []
    },
    {
      "cell_type": "markdown",
      "source": [
        "**Reglas de Broadcasting**"
      ],
      "metadata": {
        "id": "Prl4gKoL94fA"
      }
    },
    {
      "cell_type": "code",
      "source": [
        "A = torch.randn(5, 3, 4)  # 5 matrices 3x4\n",
        "B = torch.randn(4, 6)      # Matriz 4x6\n",
        "C = A @ B                  # Resultado 5x3x6 (broadcasting sobre el lote)"
      ],
      "metadata": {
        "id": "PN57TmDx97Uy"
      },
      "execution_count": null,
      "outputs": []
    },
    {
      "cell_type": "markdown",
      "source": [
        "**Consideraciones de Rendimiento**\n",
        "\n",
        "GPU: Todas las operaciones se aceleran con CUDA.\n",
        "\n",
        "Precisión mixta: Usar torch.cuda.amp para autocasting (FP16/FP32).\n",
        "\n",
        "**Optimización:**\n",
        "\n",
        "torch.backends.cudnn.allow_tf32 = True (TF32 en Ampere+).\n",
        "\n",
        "Para matrices grandes, preferir matmul sobre einsum."
      ],
      "metadata": {
        "id": "K8YtaLcK9_ef"
      }
    },
    {
      "cell_type": "code",
      "source": [
        "# Definir los tensores con dtype adecuado\n",
        "a = torch.tensor([[1, 2], [3, 4]], dtype=torch.int64)  # Cambié a int64\n",
        "b = torch.ones([2, 2], dtype=torch.int64)  # Cambié a int64\n",
        "\n",
        "# Multiplicación de matrices usando @\n",
        "print(a @ b)\n",
        "\n",
        "# Multiplicación de matrices usando einsum\n",
        "e = torch.einsum('ij,jk->ik', a, b)\n",
        "print(e)"
      ],
      "metadata": {
        "colab": {
          "base_uri": "https://localhost:8080/"
        },
        "id": "tyfHvxaa-Lgg",
        "outputId": "eabf2317-8695-4ff2-82d8-6fc78a822e5e"
      },
      "execution_count": null,
      "outputs": [
        {
          "output_type": "stream",
          "name": "stdout",
          "text": [
            "tensor([[3, 3],\n",
            "        [7, 7]])\n",
            "tensor([[3, 3],\n",
            "        [7, 7]])\n"
          ]
        }
      ]
    },
    {
      "cell_type": "code",
      "source": [
        "# Definir el tensor e\n",
        "e = torch.tensor([[3, 3], [7, 7]])\n",
        "\n",
        "# Transpuesta usando einsum\n",
        "et = torch.einsum('ij->ji', e)\n",
        "print(et)\n",
        "\n",
        "# Alternativamente, usando .T\n",
        "et_alt = e.T\n",
        "print(et_alt)\n",
        "\n",
        "# Otra forma usando .transpose()\n",
        "et_alt2 = e.transpose(0, 1)\n",
        "print(et_alt2)"
      ],
      "metadata": {
        "colab": {
          "base_uri": "https://localhost:8080/"
        },
        "id": "RfyqZwC--Pa-",
        "outputId": "434a84c9-4396-426a-d76c-72a8214b2584"
      },
      "execution_count": null,
      "outputs": [
        {
          "output_type": "stream",
          "name": "stdout",
          "text": [
            "tensor([[3, 7],\n",
            "        [3, 7]])\n",
            "tensor([[3, 7],\n",
            "        [3, 7]])\n",
            "tensor([[3, 7],\n",
            "        [3, 7]])\n"
          ]
        }
      ]
    },
    {
      "cell_type": "code",
      "source": [
        "# Crear los tensores con las mismas dimensiones\n",
        "s = torch.ones(size=(7, 5, 3))\n",
        "t = torch.ones(size=(7, 3, 2))\n",
        "\n",
        "# Producto matricial por lotes (batch)\n",
        "m = torch.einsum('bij,bjk->bik', s, t)\n",
        "\n",
        "# Imprimir la forma resultante\n",
        "print(m.shape)\n"
      ],
      "metadata": {
        "colab": {
          "base_uri": "https://localhost:8080/"
        },
        "id": "byAz9Uz_-TCi",
        "outputId": "afe12e7b-7f54-43d3-bc5f-44e6f693f2e9"
      },
      "execution_count": null,
      "outputs": [
        {
          "output_type": "stream",
          "name": "stdout",
          "text": [
            "torch.Size([7, 5, 2])\n"
          ]
        }
      ]
    },
    {
      "cell_type": "code",
      "source": [
        "# Definir los vectores\n",
        "u = torch.ones(size=(3,))\n",
        "v = torch.ones(size=(5,))\n",
        "\n",
        "# Producto exterior usando einsum\n",
        "e1 = torch.einsum('i,j->ij', u, v)\n",
        "print(e1.shape)\n",
        "\n",
        "# Alternativamente, usando torch.outer()\n",
        "e1_alt = torch.outer(u, v)\n",
        "print(e1_alt.shape)\n"
      ],
      "metadata": {
        "colab": {
          "base_uri": "https://localhost:8080/"
        },
        "id": "w-7XV9JL-W5Y",
        "outputId": "72d13738-349c-4cc1-8ec3-4997cddd02b9"
      },
      "execution_count": null,
      "outputs": [
        {
          "output_type": "stream",
          "name": "stdout",
          "text": [
            "torch.Size([3, 5])\n",
            "torch.Size([3, 5])\n"
          ]
        }
      ]
    },
    {
      "cell_type": "code",
      "source": [
        "# Generar vectores aleatorios con distribución normal\n",
        "u = torch.randn(3)  # Equivalente a tf.random.normal(shape=[3])\n",
        "v = torch.randn(3)\n",
        "\n",
        "# Producto punto usando einsum\n",
        "e2 = torch.einsum('i,i->', u, v)\n",
        "print(e2)\n",
        "\n",
        "# Alternativamente, usando torch.dot()\n",
        "e2_alt = torch.dot(u, v)\n",
        "print(e2_alt)"
      ],
      "metadata": {
        "colab": {
          "base_uri": "https://localhost:8080/"
        },
        "id": "M3TgeTWZ-ay7",
        "outputId": "4511ba5d-45dd-41c2-8951-a6ac667c0d21"
      },
      "execution_count": null,
      "outputs": [
        {
          "output_type": "stream",
          "name": "stdout",
          "text": [
            "tensor(-2.5587)\n",
            "tensor(-2.5587)\n"
          ]
        }
      ]
    },
    {
      "cell_type": "code",
      "source": [
        "# Crear una matriz 3x3 con valores de 0 a 8\n",
        "m = torch.arange(9).reshape(3, 3)\n",
        "\n",
        "# Extraer la diagonal usando einsum\n",
        "diag = torch.einsum('ii->i', m)\n",
        "print(diag.shape)\n",
        "\n",
        "# Alternativamente, usando torch.diag()\n",
        "diag_alt = torch.diag(m)\n",
        "print(diag_alt.shape)"
      ],
      "metadata": {
        "colab": {
          "base_uri": "https://localhost:8080/"
        },
        "id": "e4PZwy18-e_G",
        "outputId": "cc908b45-b637-4ff5-8c4a-033128b860f7"
      },
      "execution_count": null,
      "outputs": [
        {
          "output_type": "stream",
          "name": "stdout",
          "text": [
            "torch.Size([3])\n",
            "torch.Size([3])\n"
          ]
        }
      ]
    },
    {
      "cell_type": "markdown",
      "source": [
        "**Compatibilidad entre numpy arrays y tensores**"
      ],
      "metadata": {
        "id": "j2cj60wZ_J-K"
      }
    },
    {
      "cell_type": "markdown",
      "source": [
        "Uno de los aspectos más útiles de PyTorch para científicos de datos y usuarios de Python en general es su alta compatibilidad con numpy, la popular librería para cálculo numérico en Python. Esta interoperabilidad facilita la conversión y el trabajo conjunto entre arreglos (arrays) de numpy y los tensores (tensors) de PyTorch, lo cual permite aprovechar lo mejor de ambos mundos: la flexibilidad y riqueza de numpy, y la potencia computacional (incluyendo GPU) de PyTorch."
      ],
      "metadata": {
        "id": "63swGLee_T6N"
      }
    },
    {
      "cell_type": "markdown",
      "source": [
        "**Conversión de numpy a tensor**\n",
        "\n",
        "PyTorch permite convertir un numpy array a un tensor utilizando la función torch.from_numpy(). Esta conversión no copia los datos, sino que el tensor resultante comparte la misma memoria que el numpy array original. Esto significa que si se modifica uno, el otro también cambia."
      ],
      "metadata": {
        "id": "RH50DACS_Yz5"
      }
    },
    {
      "cell_type": "code",
      "source": [
        "import numpy as np\n",
        "import torch\n",
        "\n",
        "# Crear un numpy array\n",
        "np_array = np.array([1, 2, 3, 4, 5])\n",
        "\n",
        "# Convertir a tensor\n",
        "tensor_from_np = torch.from_numpy(np_array)\n",
        "\n",
        "print(\"Numpy array:\", np_array)\n",
        "print(\"Tensor:\", tensor_from_np)\n"
      ],
      "metadata": {
        "colab": {
          "base_uri": "https://localhost:8080/"
        },
        "id": "2aM980fv_fXY",
        "outputId": "75a8554f-7ebd-44c6-9a43-ef19e5653878"
      },
      "execution_count": null,
      "outputs": [
        {
          "output_type": "stream",
          "name": "stdout",
          "text": [
            "Numpy array: [1 2 3 4 5]\n",
            "Tensor: tensor([1, 2, 3, 4, 5])\n"
          ]
        }
      ]
    },
    {
      "cell_type": "markdown",
      "source": [
        "**Conversión de tensor a numpy**\n",
        "\n",
        "Para convertir un tensor a un numpy array, se puede usar el método .numpy(), pero esto solo es posible si el tensor está en la CPU. Si el tensor está en la GPU, primero debe moverse a la CPU usando .cpu()."
      ],
      "metadata": {
        "id": "-P2Ms-8P_jli"
      }
    },
    {
      "cell_type": "code",
      "source": [
        "# Convertir tensor a numpy array\n",
        "np_array_from_tensor = tensor_from_np.numpy()\n",
        "print(\"Array convertido de vuelta:\", np_array_from_tensor)\n"
      ],
      "metadata": {
        "colab": {
          "base_uri": "https://localhost:8080/"
        },
        "id": "C1LaCbwG_fOt",
        "outputId": "ee253429-251e-4c38-e895-dee844180e84"
      },
      "execution_count": null,
      "outputs": [
        {
          "output_type": "stream",
          "name": "stdout",
          "text": [
            "Array convertido de vuelta: [1 2 3 4 5]\n"
          ]
        }
      ]
    },
    {
      "cell_type": "markdown",
      "source": [
        "**Ejemplo de modificación compartida**\n",
        "Como el tensor y el array comparten memoria, cualquier cambio en uno afectará al otro"
      ],
      "metadata": {
        "id": "ph14om7O_vE6"
      }
    },
    {
      "cell_type": "code",
      "source": [
        "# Modificamos el numpy array\n",
        "np_array[0] = 100\n",
        "print(\"Tensor después del cambio en numpy array:\", tensor_from_np)\n",
        "\n",
        "# También podemos modificar el tensor\n",
        "tensor_from_np[1] = 200\n",
        "print(\"Numpy array después del cambio en tensor:\", np_array)\n"
      ],
      "metadata": {
        "colab": {
          "base_uri": "https://localhost:8080/"
        },
        "id": "8K857gtF_xeQ",
        "outputId": "563a4c6d-b90a-4974-ef01-769be97fcffa"
      },
      "execution_count": null,
      "outputs": [
        {
          "output_type": "stream",
          "name": "stdout",
          "text": [
            "Tensor después del cambio en numpy array: tensor([100,   2,   3,   4,   5])\n",
            "Numpy array después del cambio en tensor: [100 200   3   4   5]\n"
          ]
        }
      ]
    },
    {
      "cell_type": "markdown",
      "source": [
        "**Conversión con GPU**\n",
        "Si estamos trabajando con tensores en GPU, no podemos convertirlos directamente a numpy. Hay que pasarlos primero a CPU:"
      ],
      "metadata": {
        "id": "spNi90PA_4CS"
      }
    },
    {
      "cell_type": "code",
      "source": [
        "# Crear un tensor en PyTorch\n",
        "m = torch.arange(9).reshape(3, 3)\n",
        "\n",
        "# Sumar el tensor con su versión en NumPy\n",
        "result = m + m.numpy()\n",
        "\n",
        "print(result)"
      ],
      "metadata": {
        "colab": {
          "base_uri": "https://localhost:8080/"
        },
        "id": "_rdshsZCAEKY",
        "outputId": "749a4ed9-0867-4a38-9ea9-024c3bb058d6"
      },
      "execution_count": null,
      "outputs": [
        {
          "output_type": "stream",
          "name": "stdout",
          "text": [
            "tensor([[ 0,  2,  4],\n",
            "        [ 6,  8, 10],\n",
            "        [12, 14, 16]])\n"
          ]
        },
        {
          "output_type": "stream",
          "name": "stderr",
          "text": [
            "<ipython-input-19-a68e2d1f13de>:5: DeprecationWarning: __array_wrap__ must accept context and return_scalar arguments (positionally) in the future. (Deprecated NumPy 2.0)\n",
            "  result = m + m.numpy()\n"
          ]
        }
      ]
    },
    {
      "cell_type": "code",
      "source": [
        "# Crear un array de NumPy\n",
        "np_array = np.array([[1.0, 2.0], [3.0, 4.0]], dtype=np.float32)\n",
        "\n",
        "# Convertir a tensor en PyTorch\n",
        "value_3 = torch.tensor(np_array)  # O también torch.from_numpy(np_array)\n",
        "print(value_3)\n"
      ],
      "metadata": {
        "colab": {
          "base_uri": "https://localhost:8080/"
        },
        "id": "j6MZLU9lAHvq",
        "outputId": "82e492cc-5d2c-4a8f-cd02-f7fdaf151f2f"
      },
      "execution_count": null,
      "outputs": [
        {
          "output_type": "stream",
          "name": "stdout",
          "text": [
            "tensor([[1., 2.],\n",
            "        [3., 4.]])\n"
          ]
        }
      ]
    },
    {
      "cell_type": "markdown",
      "source": [
        "**Gradientes en PyTorch**\n",
        "\n",
        "Uno de los aspectos más poderosos de PyTorch es su sistema automático de diferenciación, conocido como Autograd. Este sistema permite calcular derivadas de manera automática, lo que es esencial para entrenar redes neuronales mediante descenso del gradiente.\n",
        "\n",
        "**¿Qué es un gradiente?**\n",
        "En el contexto del aprendizaje automático, un gradiente indica cómo cambia una función (por ejemplo, una función de pérdida) respecto a sus parámetros (pesos y sesgos). Es un vector que apunta en la dirección de máximo aumento, por lo tanto, moverse en la dirección opuesta al gradiente es lo que permite minimizar funciones durante el entrenamiento.\n",
        "\n",
        "**Tensores con gradientes**\n",
        "Para que PyTorch rastree operaciones y permita calcular derivadas, el tensor debe tener el atributo requires_grad=True:"
      ],
      "metadata": {
        "id": "yhfMFRdNAb92"
      }
    },
    {
      "cell_type": "code",
      "source": [
        "import torch\n",
        "\n",
        "x = torch.tensor(2.0, requires_grad=True)\n",
        "y = x**2 + 3*x + 1  # una función escalar\n",
        "y.backward()        # calcula dy/dx\n",
        "\n",
        "print(\"Gradiente de y respecto a x:\", x.grad)  # Resultado: 2x + 3 = 7\n"
      ],
      "metadata": {
        "colab": {
          "base_uri": "https://localhost:8080/"
        },
        "id": "yyc1YGEYA09x",
        "outputId": "ad775ff1-aa74-40e5-bbda-fb697f696f41"
      },
      "execution_count": null,
      "outputs": [
        {
          "output_type": "stream",
          "name": "stdout",
          "text": [
            "Gradiente de y respecto a x: tensor(7.)\n"
          ]
        }
      ]
    },
    {
      "cell_type": "markdown",
      "source": [
        "Cuando se llama a backward(), PyTorch propaga hacia atrás la derivada desde el resultado (un escalar) hacia las variables involucradas, acumulando el gradiente en el atributo .grad del tensor."
      ],
      "metadata": {
        "id": "3gpwk8fcA5zj"
      }
    },
    {
      "cell_type": "markdown",
      "source": [
        "**Acumulación de gradientes**\n",
        "Los gradientes en PyTorch se acumulan por defecto en .grad. Por eso, si haces múltiples pasos de backward() sin reiniciar los gradientes, se sumarán:"
      ],
      "metadata": {
        "id": "DGH8KoGQA9_L"
      }
    },
    {
      "cell_type": "code",
      "source": [
        "x = torch.tensor(2.0, requires_grad=True)\n",
        "y = x**2\n",
        "y.backward()\n",
        "print(x.grad)  # 4.0\n",
        "\n",
        "y = x**3\n",
        "y.backward()\n",
        "print(x.grad)  # 4.0 + 12.0 = 16.0 (acumulado)\n"
      ],
      "metadata": {
        "colab": {
          "base_uri": "https://localhost:8080/"
        },
        "id": "nhx7pe3RBBBq",
        "outputId": "85989928-078e-42c6-bd2c-b9da2f6f0882"
      },
      "execution_count": null,
      "outputs": [
        {
          "output_type": "stream",
          "name": "stdout",
          "text": [
            "tensor(4.)\n",
            "tensor(16.)\n"
          ]
        }
      ]
    },
    {
      "cell_type": "code",
      "source": [
        "# Definir una variable con gradientes habilitados\n",
        "x = torch.tensor(3.0, requires_grad=True)\n",
        "\n",
        "# Calcular y = x^2\n",
        "y = x**2\n",
        "\n",
        "# Calcular el gradiente de y respecto a x\n",
        "y.backward()  # Realiza la diferenciación automática\n",
        "\n",
        "# Extraer el gradiente\n",
        "dy_dx = x.grad\n",
        "print(dy_dx.item())  # Convertir a escalar como en TensorFlow"
      ],
      "metadata": {
        "colab": {
          "base_uri": "https://localhost:8080/"
        },
        "id": "XPKh-4h8BHzq",
        "outputId": "ef0871bc-aa29-414c-bc21-b53474cc77a3"
      },
      "execution_count": null,
      "outputs": [
        {
          "output_type": "stream",
          "name": "stdout",
          "text": [
            "6.0\n"
          ]
        }
      ]
    },
    {
      "cell_type": "code",
      "source": [
        "# Definir variables\n",
        "trainable = torch.tensor(1.0, requires_grad=True)  # Variable entrenable\n",
        "non_trainable = torch.tensor(2.0, requires_grad=False)  # Variable no entrenable\n",
        "\n",
        "# Cálculo dentro del contexto de autograd\n",
        "x1 = trainable * 2.0\n",
        "x2 = non_trainable * 2.0\n",
        "\n",
        "# Calcular gradiente solo para la variable entrenable\n",
        "x1.backward()  # Solo funciona si requires_grad=True\n",
        "\n",
        "# Extraer el gradiente\n",
        "print(trainable.grad)  # Esto imprimirá 2.0\n",
        "\n",
        "# Intentar calcular el gradiente de x2 (esto generaría un error si intentamos hacer x2.backward())\n",
        "# x2.backward()  # NO FUNCIONA porque non_trainable tiene requires_grad=False\n"
      ],
      "metadata": {
        "colab": {
          "base_uri": "https://localhost:8080/"
        },
        "id": "llhpDJ9NBLTJ",
        "outputId": "c3a00cfb-be51-4385-de23-110482300e9e"
      },
      "execution_count": null,
      "outputs": [
        {
          "output_type": "stream",
          "name": "stdout",
          "text": [
            "tensor(2.)\n"
          ]
        }
      ]
    },
    {
      "cell_type": "code",
      "source": [
        "# Definir variables\n",
        "trainable = torch.tensor(1.0, requires_grad=True)  # Variable entrenable\n",
        "non_trainable = torch.tensor(2.0, requires_grad=False)  # Variable no entrenable\n",
        "\n",
        "# Iniciar un contexto de autograd\n",
        "with torch.autograd.set_detect_anomaly(True):\n",
        "    x1 = trainable * 2.0\n",
        "    x2 = non_trainable * 2.0\n",
        "\n",
        "# Listar variables rastreadas\n",
        "watched_variables = [trainable] if trainable.requires_grad else []\n",
        "print([id(var) for var in watched_variables])  # No hay nombres directos, pero podemos usar IDs o direcciones de memoria"
      ],
      "metadata": {
        "colab": {
          "base_uri": "https://localhost:8080/"
        },
        "id": "nvAF7L6KBOf3",
        "outputId": "ed5ed091-a8f8-4c9b-b8c1-1f562b359320"
      },
      "execution_count": null,
      "outputs": [
        {
          "output_type": "stream",
          "name": "stdout",
          "text": [
            "[132829581794992]\n"
          ]
        }
      ]
    },
    {
      "cell_type": "code",
      "source": [
        "# Definir las variables\n",
        "w = torch.randn((3, 2), requires_grad=True)  # Matriz 3x2 con valores aleatorios\n",
        "b = torch.zeros(2, dtype=torch.float32, requires_grad=True)  # Vector de ceros de tamaño 2\n",
        "x = torch.tensor([[1., 2., 3.]])  # Tensor de entrada 1x3\n",
        "\n",
        "# Iniciar el contexto de autograd\n",
        "with torch.autograd.set_detect_anomaly(True):\n",
        "    y = x @ w + b  # Producto matricial + bias\n",
        "    loss = torch.mean(y**2)  # Función de pérdida (MSE-like)\n",
        "\n",
        "# Calcular gradientes\n",
        "loss.backward()\n",
        "\n",
        "# Extraer gradientes\n",
        "dl_dw = w.grad\n",
        "dl_db = b.grad\n",
        "\n",
        "# Imprimir formas de los tensores\n",
        "print(w.shape)       # torch.Size([3, 2])\n",
        "print(dl_dw.shape)   # torch.Size([3, 2])\n",
        "print(dl_db.shape)   # torch.Size([2])\n"
      ],
      "metadata": {
        "colab": {
          "base_uri": "https://localhost:8080/"
        },
        "id": "PG1_tfnOBR8w",
        "outputId": "13f764b0-03cf-4c5e-c1ec-da1c5f80ea1b"
      },
      "execution_count": null,
      "outputs": [
        {
          "output_type": "stream",
          "name": "stdout",
          "text": [
            "torch.Size([3, 2])\n",
            "torch.Size([3, 2])\n",
            "torch.Size([2])\n"
          ]
        }
      ]
    },
    {
      "cell_type": "code",
      "source": [
        "# Forward pass y cálculo de pérdida\n",
        "y = x @ w + b\n",
        "loss = torch.mean(y**2)\n",
        "\n",
        "# Backpropagation\n",
        "loss.backward()\n",
        "\n",
        "# Almacenar gradientes en un diccionario\n",
        "my_vars = {'w': w, 'b': b}\n",
        "grad = {key: var.grad for key, var in my_vars.items()}\n",
        "\n",
        "# Imprimir gradiente de 'b'\n",
        "print(grad['b'])\n",
        "\n",
        "# Listar variables que están siendo rastreadas por autograd\n",
        "watched_variables = [var for var in my_vars.values() if var.requires_grad]\n",
        "print(watched_variables)  # PyTorch no tiene nombre"
      ],
      "metadata": {
        "colab": {
          "base_uri": "https://localhost:8080/"
        },
        "id": "kp5ppu0zBVP_",
        "outputId": "1c1b9c9e-11e6-4a4a-e796-c2dd326f8522"
      },
      "execution_count": null,
      "outputs": [
        {
          "output_type": "stream",
          "name": "stdout",
          "text": [
            "tensor([-0.6524,  1.8107])\n",
            "[tensor([[ 0.5069, -1.3463],\n",
            "        [-1.4436,  0.2190],\n",
            "        [ 0.6847,  0.6045]], requires_grad=True), tensor([0., 0.], requires_grad=True)]\n"
          ]
        }
      ]
    },
    {
      "cell_type": "code",
      "source": [
        "# Definir variables\n",
        "x0 = torch.tensor(0.0, requires_grad=True)  # Variable rastreada\n",
        "x1 = torch.tensor(10.0, requires_grad=True)  # Variable rastreada manualmente\n",
        "\n",
        "# Forward pass\n",
        "y0 = torch.sin(x0)  # sin(x0)\n",
        "y1 = torch.nn.functional.softplus(x1)  # softplus(x1)\n",
        "y = y0 + y1  # Suma de términos\n",
        "ys = y  # Ya es un escalar, no se necesita `sum()`\n",
        "\n",
        "# Calcular gradientes de ys respecto a x0 y x1\n",
        "gradients = torch.autograd.grad(ys, [x0, x1])\n",
        "\n",
        "# Imprimir gradientes\n",
        "print('dy/dx0:', gradients[0].item())  # Derivada de sin(x0) = cos(x0)\n",
        "print('dy/dx1:', gradients[1].item())  # Derivada de softplus(x1) = sigmoide(x1)\n",
        "\n"
      ],
      "metadata": {
        "colab": {
          "base_uri": "https://localhost:8080/"
        },
        "id": "t9r5D9RzBZX0",
        "outputId": "290d2282-6c1f-4aff-87d1-415af0b48285"
      },
      "execution_count": null,
      "outputs": [
        {
          "output_type": "stream",
          "name": "stdout",
          "text": [
            "dy/dx0: 1.0\n",
            "dy/dx1: 0.9999545812606812\n"
          ]
        }
      ]
    },
    {
      "cell_type": "code",
      "source": [
        "# Crear un tensor de valores en el rango [-10, 10]\n",
        "x = torch.linspace(-10.0, 10.0, steps=201, requires_grad=True)\n",
        "\n",
        "# Calcular la función sigmoide\n",
        "y = torch.sigmoid(x)\n",
        "\n",
        "# Calcular la derivada usando autograd\n",
        "y.backward(torch.ones_like(x))  # Gradiente de y respecto a x\n",
        "\n",
        "# Obtener el gradiente\n",
        "dy_dx = x.grad\n",
        "\n",
        "# Graficar la función y su derivada\n",
        "plt.plot(x.detach().numpy(), y.detach().numpy(), label='y = sigmoid(x)')\n",
        "plt.plot(x.detach().numpy(), dy_dx.detach().numpy(), label=\"dy/dx\")\n",
        "plt.legend()\n",
        "plt.xlabel(\"x\")\n",
        "plt.show()"
      ],
      "metadata": {
        "colab": {
          "base_uri": "https://localhost:8080/",
          "height": 449
        },
        "id": "YjtT7O0lBdZ1",
        "outputId": "0a846031-9a86-44ee-cb8f-a61e885b800b"
      },
      "execution_count": null,
      "outputs": [
        {
          "output_type": "display_data",
          "data": {
            "text/plain": [
              "<Figure size 640x480 with 1 Axes>"
            ],
            "image/png": "[encoded data removed]"
          },
          "metadata": {}
        }
      ]
    },
    {
      "cell_type": "code",
      "source": [
        "# Definir constantes y variables\n",
        "x = torch.tensor(-1.0)  # No requiere gradiente\n",
        "v0 = torch.tensor(2.0, requires_grad=True)\n",
        "v1 = torch.tensor(2.0, requires_grad=True)\n",
        "\n",
        "# Calcular resultado con flujo condicional\n",
        "if x > 0.0:\n",
        "    result = 20 * v0\n",
        "else:\n",
        "    result = 3 * v1**2\n",
        "\n",
        "# Calcular gradientes\n",
        "result.backward()\n",
        "\n",
        "# Obtener los gradientes\n",
        "dv0 = v0.grad  # Gradiente respecto a v0\n",
        "dv1 = v1.grad  # Gradiente respecto a v1\n",
        "\n",
        "# Imprimir los gradientes\n",
        "print(dv0)  # Esperado: None (porque v0 no se usó en el cálculo)\n",
        "print(dv1)  # Esperado: 12 (derivada de 3*v1^2 es 6*v1, y v1=2)\n"
      ],
      "metadata": {
        "colab": {
          "base_uri": "https://localhost:8080/"
        },
        "id": "2xaAb2_ZBhD2",
        "outputId": "54f65063-29f9-4fcb-c177-59cc926e4881"
      },
      "execution_count": null,
      "outputs": [
        {
          "output_type": "stream",
          "name": "stdout",
          "text": [
            "None\n",
            "tensor(12.)\n"
          ]
        }
      ]
    }
  ]
}