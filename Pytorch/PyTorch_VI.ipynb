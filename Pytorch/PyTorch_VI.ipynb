{
  "nbformat": 4,
  "nbformat_minor": 0,
  "metadata": {
    "colab": {
      "provenance": []
    },
    "kernelspec": {
      "name": "python3",
      "display_name": "Python 3"
    },
    "language_info": {
      "name": "python"
    }
  },
  "cells": [
    {
      "cell_type": "markdown",
      "source": [
        "#**PyTorch VI**\n",
        "Autor: Jheremy Reyes,\n",
        "\n",
        "estudiante de matemáticas,\n",
        "\n",
        "Universidad El Bosque"
      ],
      "metadata": {
        "id": "_Tq6RErdIu1g"
      }
    },
    {
      "cell_type": "markdown",
      "source": [
        "![11.png](data:image/png;base64,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)"
      ],
      "metadata": {
        "id": "mNmZT64H8vJU"
      }
    },
    {
      "cell_type": "markdown",
      "source": [
        "##**Implementación de un Perceptrón Multicapa (MLP) en PyTorch**"
      ],
      "metadata": {
        "id": "P4hmgQeMI7xg"
      }
    },
    {
      "cell_type": "markdown",
      "source": [
        "Un Perceptrón Multicapa (MLP) es una red neuronal totalmente conectada (Feedforward Neural Network). Consiste en:\n",
        "\n",
        "Una capa de entrada.\n",
        "\n",
        "Una o más capas ocultas con activación no lineal (ReLU, Sigmoid, etc.).\n",
        "\n",
        "Una capa de salida para clasificación o regresión.\n",
        "\n",
        "A continuación, te muestro cómo implementar un MLP en PyTorch para clasificación binaria."
      ],
      "metadata": {
        "id": "4trNMW9oI8YA"
      }
    },
    {
      "cell_type": "code",
      "execution_count": null,
      "metadata": {
        "id": "z0QlhhsOIR_L",
        "colab": {
          "base_uri": "https://localhost:8080/"
        },
        "outputId": "9c8dda5a-9ed7-4800-c7de-6919ed2f20ea"
      },
      "outputs": [
        {
          "output_type": "stream",
          "name": "stdout",
          "text": [
            "tensor([[-0.5356, -0.1889, -0.1857,  0.8926],\n",
            "        [-0.5356, -0.1889, -0.1857,  0.8926],\n",
            "        [-0.5356, -0.1889, -0.1857,  0.8926]], grad_fn=<AddmmBackward0>)\n"
          ]
        }
      ],
      "source": [
        "import torch\n",
        "import torch.nn as nn\n",
        "\n",
        "# Definir las capas de la red neuronal\n",
        "layer1 = nn.Linear(3, 2)  # Entrada de tamaño 3, salida de tamaño 2\n",
        "layer2 = nn.Linear(2, 3)  # Entrada de tamaño 2, salida de tamaño 3\n",
        "layer3 = nn.Linear(3, 4)  # Entrada de tamaño 3, salida de tamaño 4\n",
        "\n",
        "# Funciones de activación\n",
        "relu = nn.ReLU()\n",
        "sigmoid = nn.Sigmoid()\n",
        "\n",
        "# Crear un tensor de prueba (equivalente a tf.ones((3,3)))\n",
        "x = torch.ones((3, 3))\n",
        "\n",
        "# Aplicar las capas secuencialmente\n",
        "y = layer3(sigmoid(layer2(relu(layer1(x)))))\n",
        "print(y)\n"
      ]
    },
    {
      "cell_type": "code",
      "source": [
        "# Definir el modelo equivalente en PyTorch\n",
        "class MyFirstModel(nn.Module):\n",
        "    def __init__(self):\n",
        "        super(MyFirstModel, self).__init__()\n",
        "        self.layer1 = nn.Linear(3, 2)  # Equivalente a Dense(2, activation=\"relu\")\n",
        "        self.layer2 = nn.Linear(2, 3)  # Equivalente a Dense(3, activation=\"sigmoid\")\n",
        "        self.layer3 = nn.Linear(3, 4)  # Equivalente a Dense(4)\n",
        "\n",
        "        # Funciones de activación\n",
        "        self.relu = nn.ReLU()\n",
        "        self.sigmoid = nn.Sigmoid()\n",
        "\n",
        "    def forward(self, x):\n",
        "        x = self.relu(self.layer1(x))   # Aplicar ReLU después de la primera capa\n",
        "        x = self.sigmoid(self.layer2(x))  # Aplicar Sigmoid después de la segunda capa\n",
        "        x = self.layer3(x)  # Tercera capa sin activación\n",
        "        return x\n",
        "\n",
        "# Crear una instancia del modelo\n",
        "model = MyFirstModel()\n",
        "\n",
        "# Crear un tensor de entrada (equivalente a tf.ones((3,3)))\n",
        "x = torch.ones((3, 3))\n",
        "\n",
        "# Pasar los datos a través del modelo\n",
        "y = model(x)\n",
        "print(y)\n"
      ],
      "metadata": {
        "id": "rXJ6P0DaJEhW",
        "colab": {
          "base_uri": "https://localhost:8080/"
        },
        "outputId": "8eb7618a-a978-46f1-ec0d-078f7dc84bbd"
      },
      "execution_count": null,
      "outputs": [
        {
          "output_type": "stream",
          "name": "stdout",
          "text": [
            "tensor([[ 0.1312,  0.6151, -0.5518,  0.0158],\n",
            "        [ 0.1312,  0.6151, -0.5518,  0.0158],\n",
            "        [ 0.1312,  0.6151, -0.5518,  0.0158]], grad_fn=<AddmmBackward0>)\n"
          ]
        }
      ]
    },
    {
      "cell_type": "code",
      "source": [
        "# Lista de capas en el modelo PyTorch\n",
        "print(list(model.children()))  # Obtiene las capas definidas en el modelo\n"
      ],
      "metadata": {
        "id": "TjSBQCCtJIGx",
        "colab": {
          "base_uri": "https://localhost:8080/"
        },
        "outputId": "edf05e9c-9fda-4093-8975-a3d6cf45fcd2"
      },
      "execution_count": null,
      "outputs": [
        {
          "output_type": "stream",
          "name": "stdout",
          "text": [
            "[Linear(in_features=3, out_features=2, bias=True), Linear(in_features=2, out_features=3, bias=True), Linear(in_features=3, out_features=4, bias=True), ReLU(), Sigmoid()]\n"
          ]
        }
      ]
    },
    {
      "cell_type": "code",
      "source": [
        "# Acceder a los pesos de la tercera capa (layer3 en este caso)\n",
        "weights = model.layer3.weight  # Pesos de la capa\n",
        "bias = model.layer3.bias  # Bias de la capa\n",
        "\n",
        "# Imprimir pesos y bias\n",
        "print(\"Pesos de la capa 3:\\n\", weights)\n",
        "print(\"Bias de la capa 3:\\n\", bias)\n"
      ],
      "metadata": {
        "id": "KbUDlMf4JKyH",
        "colab": {
          "base_uri": "https://localhost:8080/"
        },
        "outputId": "89d58202-dbcb-4edd-9965-5a76810970d4"
      },
      "execution_count": null,
      "outputs": [
        {
          "output_type": "stream",
          "name": "stdout",
          "text": [
            "Pesos de la capa 3:\n",
            " Parameter containing:\n",
            "tensor([[-0.0861, -0.2165,  0.3963],\n",
            "        [-0.5207,  0.5544, -0.2644],\n",
            "        [-0.3177,  0.2325, -0.3915],\n",
            "        [ 0.2440,  0.5245, -0.0993]], requires_grad=True)\n",
            "Bias de la capa 3:\n",
            " Parameter containing:\n",
            "tensor([ 0.1407,  0.5733, -0.4239, -0.3538], requires_grad=True)\n"
          ]
        }
      ]
    },
    {
      "cell_type": "markdown",
      "source": [
        "Definimos la red en InitialModel, equivalente al modelo Sequential en Keras.\n",
        "\n",
        "nn.Linear(in_features, out_features) se usa en lugar de Dense(units, activation=...).\n",
        "\n",
        "forward() maneja la propagación, aplicando las activaciones manualmente.\n",
        "\n",
        "El resumen se genera con torchinfo.summary(), similar a model.summary()."
      ],
      "metadata": {
        "id": "LJattN9vJRkw"
      }
    },
    {
      "cell_type": "code",
      "source": [
        "pip install torchsummary\n"
      ],
      "metadata": {
        "colab": {
          "base_uri": "https://localhost:8080/"
        },
        "id": "jB0r1WI69lx7",
        "outputId": "4cfe161c-b1ec-4aa9-d78a-167c42727275"
      },
      "execution_count": null,
      "outputs": [
        {
          "output_type": "stream",
          "name": "stdout",
          "text": [
            "Requirement already satisfied: torchsummary in /usr/local/lib/python3.11/dist-packages (1.5.1)\n"
          ]
        }
      ]
    },
    {
      "cell_type": "code",
      "source": [
        "import torch\n",
        "import torch.nn as nn\n",
        "from torchsummary import summary  # Asegúrate de tener instalado torchsummary\n",
        "\n",
        "# Definir el modelo en PyTorch\n",
        "class InitialModel(nn.Module):\n",
        "    def __init__(self):\n",
        "        super(InitialModel, self).__init__()\n",
        "        self.layer1 = nn.Linear(3, 2)\n",
        "        self.layer2 = nn.Linear(2, 3)\n",
        "        self.layer3 = nn.Linear(3, 4)\n",
        "        self.relu = nn.ReLU()\n",
        "        self.sigmoid = nn.Sigmoid()\n",
        "\n",
        "    def forward(self, x):\n",
        "        x = self.relu(self.layer1(x))\n",
        "        x = self.sigmoid(self.layer2(x))\n",
        "        x = self.layer3(x)\n",
        "        return x\n",
        "\n",
        "# Crear el modelo\n",
        "initial_model = InitialModel()\n",
        "\n",
        "# Mostrar resumen del modelo\n",
        "summary(initial_model, input_size=(3,))\n"
      ],
      "metadata": {
        "id": "F9o6CCuoJU39",
        "colab": {
          "base_uri": "https://localhost:8080/"
        },
        "outputId": "367349fc-ceec-441b-a6f0-aa9396a8586c"
      },
      "execution_count": null,
      "outputs": [
        {
          "output_type": "stream",
          "name": "stdout",
          "text": [
            "----------------------------------------------------------------\n",
            "        Layer (type)               Output Shape         Param #\n",
            "================================================================\n",
            "            Linear-1                    [-1, 2]               8\n",
            "              ReLU-2                    [-1, 2]               0\n",
            "            Linear-3                    [-1, 3]               9\n",
            "           Sigmoid-4                    [-1, 3]               0\n",
            "            Linear-5                    [-1, 4]              16\n",
            "================================================================\n",
            "Total params: 33\n",
            "Trainable params: 33\n",
            "Non-trainable params: 0\n",
            "----------------------------------------------------------------\n",
            "Input size (MB): 0.00\n",
            "Forward/backward pass size (MB): 0.00\n",
            "Params size (MB): 0.00\n",
            "Estimated Total Size (MB): 0.00\n",
            "----------------------------------------------------------------\n"
          ]
        }
      ]
    },
    {
      "cell_type": "code",
      "source": [
        "# Definir un tensor de entrada de prueba\n",
        "x = torch.randn(1, 3)  # Simula una entrada de tamaño (1,3)\n",
        "\n",
        "# Pasar la entrada al modelo\n",
        "output = initial_model(x)\n",
        "\n",
        "# Mostrar la forma de la entrada\n",
        "print(\"Forma de la entrada:\", x.shape)\n"
      ],
      "metadata": {
        "id": "FysxunmqJYAe",
        "colab": {
          "base_uri": "https://localhost:8080/"
        },
        "outputId": "d467119a-4f3f-4d5e-d63b-bc731431a2e8"
      },
      "execution_count": null,
      "outputs": [
        {
          "output_type": "stream",
          "name": "stdout",
          "text": [
            "Forma de la entrada: torch.Size([1, 3])\n"
          ]
        }
      ]
    },
    {
      "cell_type": "code",
      "source": [
        "# Definir un tensor de entrada de prueba\n",
        "x = torch.randn(1, 3)  # Simula una entrada de tamaño (batch=1, features=3)\n",
        "\n",
        "# Obtener la salida del modelo\n",
        "output = initial_model(x)\n",
        "\n",
        "# Mostrar la salida y su forma\n",
        "print(\"Salida del modelo:\\n\", output)\n",
        "print(\"Forma de la salida:\", output.shape)\n"
      ],
      "metadata": {
        "id": "LsMimKz9JbIN",
        "colab": {
          "base_uri": "https://localhost:8080/"
        },
        "outputId": "d3b21706-06b4-4517-eff9-25c4c8563333"
      },
      "execution_count": null,
      "outputs": [
        {
          "output_type": "stream",
          "name": "stdout",
          "text": [
            "Salida del modelo:\n",
            " tensor([[-0.0920, -0.0161,  0.2709, -0.0564]], grad_fn=<AddmmBackward0>)\n",
            "Forma de la salida: torch.Size([1, 4])\n"
          ]
        }
      ]
    },
    {
      "cell_type": "markdown",
      "source": [
        "En TensorFlow/Keras, model.trainable_variables devuelve una lista con los pesos y sesgos entrenables del modelo.\n",
        "\n",
        "En PyTorch, el equivalente es model.parameters(), que devuelve los tensores de los parámetros entrenables."
      ],
      "metadata": {
        "id": "z5LDiqXtJhiF"
      }
    },
    {
      "cell_type": "code",
      "source": [
        "# Definir el modelo en PyTorch\n",
        "class MyModel(nn.Module):\n",
        "    def __init__(self):\n",
        "        super(MyModel, self).__init__()\n",
        "        self.layer1 = nn.Linear(3, 2)  # Equivalente a Dense(2, activation=\"relu\")\n",
        "        self.layer2 = nn.Linear(2, 3)  # Equivalente a Dense(3, activation=\"sigmoid\")\n",
        "        self.layer3 = nn.Linear(3, 4)  # Equivalente a Dense(4, activation=\"relu\")\n",
        "\n",
        "        # Activaciones\n",
        "        self.relu = nn.ReLU()\n",
        "        self.sigmoid = nn.Sigmoid()\n",
        "\n",
        "    def forward(self, x):\n",
        "        x = self.relu(self.layer1(x))   # ReLU después de la primera capa\n",
        "        x = self.sigmoid(self.layer2(x))  # Sigmoid después de la segunda capa\n",
        "        x = self.relu(self.layer3(x))  # ReLU después de la tercera capa\n",
        "        return x\n",
        "\n",
        "# Crear el modelo\n",
        "model = MyModel()\n",
        "\n",
        "# Resumen del modelo\n",
        "summary(model, input_size=(1, 3))  # Input con batch_size=1 y 3 features"
      ],
      "metadata": {
        "id": "0lCXWxPjJdxv",
        "colab": {
          "base_uri": "https://localhost:8080/"
        },
        "outputId": "e81decc6-26c8-4c2d-db93-8b87d0f8b77b"
      },
      "execution_count": null,
      "outputs": [
        {
          "output_type": "stream",
          "name": "stdout",
          "text": [
            "----------------------------------------------------------------\n",
            "        Layer (type)               Output Shape         Param #\n",
            "================================================================\n",
            "            Linear-1                 [-1, 1, 2]               8\n",
            "              ReLU-2                 [-1, 1, 2]               0\n",
            "            Linear-3                 [-1, 1, 3]               9\n",
            "           Sigmoid-4                 [-1, 1, 3]               0\n",
            "            Linear-5                 [-1, 1, 4]              16\n",
            "              ReLU-6                 [-1, 1, 4]               0\n",
            "================================================================\n",
            "Total params: 33\n",
            "Trainable params: 33\n",
            "Non-trainable params: 0\n",
            "----------------------------------------------------------------\n",
            "Input size (MB): 0.00\n",
            "Forward/backward pass size (MB): 0.00\n",
            "Params size (MB): 0.00\n",
            "Estimated Total Size (MB): 0.00\n",
            "----------------------------------------------------------------\n"
          ]
        }
      ]
    },
    {
      "cell_type": "code",
      "source": [
        "# Obtener los parámetros entrenables del modelo\n",
        "for name, param in model.named_parameters():\n",
        "    if param.requires_grad:  # Solo muestra los parámetros entrenables\n",
        "        print(f\"Nombre: {name}, Forma: {param.shape}\")"
      ],
      "metadata": {
        "id": "dWIbJJeYJkxo",
        "colab": {
          "base_uri": "https://localhost:8080/"
        },
        "outputId": "bb56594c-72a5-4f31-e004-746f3f1d7c57"
      },
      "execution_count": null,
      "outputs": [
        {
          "output_type": "stream",
          "name": "stdout",
          "text": [
            "Nombre: layer1.weight, Forma: torch.Size([2, 3])\n",
            "Nombre: layer1.bias, Forma: torch.Size([2])\n",
            "Nombre: layer2.weight, Forma: torch.Size([3, 2])\n",
            "Nombre: layer2.bias, Forma: torch.Size([3])\n",
            "Nombre: layer3.weight, Forma: torch.Size([4, 3])\n",
            "Nombre: layer3.bias, Forma: torch.Size([4])\n"
          ]
        }
      ]
    },
    {
      "cell_type": "markdown",
      "source": [
        "En TensorFlow/Keras, model.layers permite iterar sobre las capas de un modelo Sequential, y layer.trainable indica si los parámetros de la capa se pueden entrenar.\n",
        "\n",
        "En PyTorch, el equivalente es iterar sobre model.children() y verificar requires_grad en los parámetros de cada capa."
      ],
      "metadata": {
        "id": "wwBPAqU-JoPg"
      }
    },
    {
      "cell_type": "code",
      "source": [
        "# Iterar sobre las capas del modelo y verificar si son entrenables\n",
        "for name, layer in model.named_children():\n",
        "    trainable = any(param.requires_grad for param in layer.parameters())\n",
        "    print(f\"Capa: {name}, Entrenable: {trainable}\")"
      ],
      "metadata": {
        "id": "_jFDVewsJrAk",
        "colab": {
          "base_uri": "https://localhost:8080/"
        },
        "outputId": "fce83db2-4ef6-4b98-c6f6-d98e7f9fc779"
      },
      "execution_count": null,
      "outputs": [
        {
          "output_type": "stream",
          "name": "stdout",
          "text": [
            "Capa: layer1, Entrenable: True\n",
            "Capa: layer2, Entrenable: True\n",
            "Capa: layer3, Entrenable: True\n",
            "Capa: relu, Entrenable: False\n",
            "Capa: sigmoid, Entrenable: False\n"
          ]
        }
      ]
    },
    {
      "cell_type": "markdown",
      "source": [
        "En TensorFlow/Keras, la propiedad model.trainable = False congela todas las capas del modelo, haciendo que model.trainable_variables devuelva una lista vacía.\n",
        "\n",
        "En PyTorch, el equivalente es desactivar requires_grad en todos los parámetros del modelo."
      ],
      "metadata": {
        "id": "RZexYy_WJvex"
      }
    },
    {
      "cell_type": "code",
      "source": [
        "# Congelar todos los parámetros del modelo\n",
        "for param in model.parameters():\n",
        "    param.requires_grad = False\n",
        "\n",
        "# Verificar los parámetros entrenables después de la congelación\n",
        "trainable_params = [param for param in model.parameters() if param.requires_grad]\n",
        "print(\"Parámetros entrenables:\", len(trainable_params))  # Debe ser 0 si todo está congelado"
      ],
      "metadata": {
        "id": "7gAfd0BIJyrM",
        "colab": {
          "base_uri": "https://localhost:8080/"
        },
        "outputId": "97b3ac7a-81f3-48e5-c3d5-a77f8ff3b747"
      },
      "execution_count": null,
      "outputs": [
        {
          "output_type": "stream",
          "name": "stdout",
          "text": [
            "Parámetros entrenables: 0\n"
          ]
        }
      ]
    },
    {
      "cell_type": "markdown",
      "source": [
        "En TensorFlow/Keras, puedes iterar sobre model.layers y verificar si cada capa es entrenable con layer.trainable.\n",
        "\n",
        "En PyTorch, no existe model.layers, pero puedes usar model.children() o model.named_children() para acceder a las capas y verificar si sus parámetros son entrenables."
      ],
      "metadata": {
        "id": "vhjs4aY3J180"
      }
    },
    {
      "cell_type": "code",
      "source": [
        "# Iterar sobre las capas del modelo y verificar si son entrenables\n",
        "for name, layer in model.named_children():\n",
        "    trainable = any(param.requires_grad for param in layer.parameters())\n",
        "    print(f\"Capa: {name}, Entrenable: {trainable}\")"
      ],
      "metadata": {
        "id": "JROPxTCDJ4nI",
        "colab": {
          "base_uri": "https://localhost:8080/"
        },
        "outputId": "c9e64024-74dc-4734-b14d-785b2d7c84f8"
      },
      "execution_count": null,
      "outputs": [
        {
          "output_type": "stream",
          "name": "stdout",
          "text": [
            "Capa: layer1, Entrenable: False\n",
            "Capa: layer2, Entrenable: False\n",
            "Capa: layer3, Entrenable: False\n",
            "Capa: relu, Entrenable: False\n",
            "Capa: sigmoid, Entrenable: False\n"
          ]
        }
      ]
    },
    {
      "cell_type": "code",
      "source": [
        "# Definir el modelo en PyTorch\n",
        "class MyModel(nn.Module):\n",
        "    def __init__(self):\n",
        "        super(MyModel, self).__init__()\n",
        "        self.layer1 = nn.Linear(3, 2)  # Equivalente a Dense(2, activation=\"relu\")\n",
        "        self.layer2 = nn.Linear(2, 3)  # Equivalente a Dense(3, activation=\"sigmoid\")\n",
        "        self.layer3 = nn.Linear(3, 4)  # Equivalente a Dense(4, activation=\"relu\")\n",
        "        self.layer4 = nn.Linear(4, 5)  # Equivalente a Dense(5, activation=\"relu\")\n",
        "        self.layer5 = nn.Linear(5, 6)  # Equivalente a Dense(6, activation=\"sigmoid\")\n",
        "        self.layer6 = nn.Linear(6, 7)  # Equivalente a Dense(7, activation=\"relu\")\n",
        "\n",
        "        # Activaciones\n",
        "        self.relu = nn.ReLU()\n",
        "        self.sigmoid = nn.Sigmoid()\n",
        "\n",
        "    def forward(self, x):\n",
        "        x = self.relu(self.layer1(x))   # ReLU después de la primera capa\n",
        "        x = self.sigmoid(self.layer2(x))  # Sigmoid después de la segunda capa\n",
        "        x = self.relu(self.layer3(x))  # ReLU después de la tercera capa\n",
        "        x = self.relu(self.layer4(x))  # ReLU después de la cuarta capa\n",
        "        x = self.sigmoid(self.layer5(x))  # Sigmoid después de la quinta capa\n",
        "        x = self.relu(self.layer6(x))  # ReLU después de la sexta capa\n",
        "        return x\n",
        "\n",
        "# Crear el modelo\n",
        "model = MyModel()\n",
        "\n",
        "# Resumen del modelo\n",
        "summary(model, input_size=(1, 3))  # Input con batch_size=1 y 3 features"
      ],
      "metadata": {
        "id": "b5RI6PiXJ7hU",
        "colab": {
          "base_uri": "https://localhost:8080/"
        },
        "outputId": "af29276d-7427-4d33-ce64-049c54a05825"
      },
      "execution_count": null,
      "outputs": [
        {
          "output_type": "stream",
          "name": "stdout",
          "text": [
            "----------------------------------------------------------------\n",
            "        Layer (type)               Output Shape         Param #\n",
            "================================================================\n",
            "            Linear-1                 [-1, 1, 2]               8\n",
            "              ReLU-2                 [-1, 1, 2]               0\n",
            "            Linear-3                 [-1, 1, 3]               9\n",
            "           Sigmoid-4                 [-1, 1, 3]               0\n",
            "            Linear-5                 [-1, 1, 4]              16\n",
            "              ReLU-6                 [-1, 1, 4]               0\n",
            "            Linear-7                 [-1, 1, 5]              25\n",
            "              ReLU-8                 [-1, 1, 5]               0\n",
            "            Linear-9                 [-1, 1, 6]              36\n",
            "          Sigmoid-10                 [-1, 1, 6]               0\n",
            "           Linear-11                 [-1, 1, 7]              49\n",
            "             ReLU-12                 [-1, 1, 7]               0\n",
            "================================================================\n",
            "Total params: 143\n",
            "Trainable params: 143\n",
            "Non-trainable params: 0\n",
            "----------------------------------------------------------------\n",
            "Input size (MB): 0.00\n",
            "Forward/backward pass size (MB): 0.00\n",
            "Params size (MB): 0.00\n",
            "Estimated Total Size (MB): 0.00\n",
            "----------------------------------------------------------------\n"
          ]
        }
      ]
    },
    {
      "cell_type": "markdown",
      "source": [
        "En TensorFlow/Keras, la API funcional permite extraer características de un modelo definiendo una nueva arquitectura con entradas y salidas específicas.\n",
        "\n",
        "En PyTorch, puedes hacer algo similar accediendo directamente a las capas del modelo en forward()."
      ],
      "metadata": {
        "id": "pJmuIKHUJ-Xn"
      }
    },
    {
      "cell_type": "code",
      "source": [
        "# Definir el modelo base en PyTorch\n",
        "class MyModel(nn.Module):\n",
        "    def __init__(self):\n",
        "        super(MyModel, self).__init__()\n",
        "        self.layer1 = nn.Linear(3, 2)\n",
        "        self.layer2 = nn.Linear(2, 3)\n",
        "        self.layer3 = nn.Linear(3, 4)\n",
        "        self.layer4 = nn.Linear(4, 5)  # Salida deseada del extractor\n",
        "        self.layer5 = nn.Linear(5, 6)\n",
        "        self.layer6 = nn.Linear(6, 7)\n",
        "\n",
        "        self.relu = nn.ReLU()\n",
        "        self.sigmoid = nn.Sigmoid()\n",
        "\n",
        "    def forward(self, x, return_features=False):\n",
        "        x = self.relu(self.layer1(x))\n",
        "        x = self.sigmoid(self.layer2(x))\n",
        "        x = self.relu(self.layer3(x))\n",
        "        features = self.relu(self.layer4(x))  # Extracción en \"layer4\"\n",
        "\n",
        "        if return_features:\n",
        "            return features  # Devuelve solo hasta \"layer4\"\n",
        "\n",
        "        x = self.sigmoid(self.layer5(features))\n",
        "        x = self.relu(self.layer6(x))\n",
        "        return x\n",
        "\n",
        "# Crear el modelo base\n",
        "model = MyModel()\n",
        "\n",
        "# Crear el \"feature extractor\"\n",
        "def feature_extractor(x):\n",
        "    return model(x, return_features=True)\n",
        "\n",
        "# Prueba con una entrada\n",
        "x_test = torch.randn(1, 3)  # Entrada de prueba (batch_size=1, features=3)\n",
        "features = feature_extractor(x_test)\n",
        "\n",
        "print(\"Salida del extractor de características:\\n\", features)"
      ],
      "metadata": {
        "id": "OZfvFCfHKB1O",
        "colab": {
          "base_uri": "https://localhost:8080/"
        },
        "outputId": "eec983c5-68a4-4bc8-d230-569ba6b10c28"
      },
      "execution_count": null,
      "outputs": [
        {
          "output_type": "stream",
          "name": "stdout",
          "text": [
            "Salida del extractor de características:\n",
            " tensor([[0.0000, 0.4983, 0.0427, 0.8068, 0.6914]], grad_fn=<ReluBackward0>)\n"
          ]
        }
      ]
    },
    {
      "cell_type": "markdown",
      "source": [
        "En Keras, feature_extractor.summary() muestra el resumen del modelo intermedio.\n",
        "\n",
        "En PyTorch, puedes usar torchinfo.summary() para obtener información similar."
      ],
      "metadata": {
        "id": "hdSCZcnUKFv_"
      }
    },
    {
      "cell_type": "code",
      "source": [
        "!pip install torchinfo\n"
      ],
      "metadata": {
        "colab": {
          "base_uri": "https://localhost:8080/"
        },
        "id": "YGGVdnay-bXJ",
        "outputId": "77dd4a21-d279-4fc7-cf8f-30ac62269840"
      },
      "execution_count": null,
      "outputs": [
        {
          "output_type": "stream",
          "name": "stdout",
          "text": [
            "Collecting torchinfo\n",
            "  Downloading torchinfo-1.8.0-py3-none-any.whl.metadata (21 kB)\n",
            "Downloading torchinfo-1.8.0-py3-none-any.whl (23 kB)\n",
            "Installing collected packages: torchinfo\n",
            "Successfully installed torchinfo-1.8.0\n"
          ]
        }
      ]
    },
    {
      "cell_type": "markdown",
      "source": [
        "Este código define un modelo de red neuronal simple usando PyTorch, y luego genera un resumen de su arquitectura utilizando la librería torchinfo. También se asegura de que el modelo se ejecute en la GPU si está disponible (de lo contrario, en la CPU)."
      ],
      "metadata": {
        "id": "Hs3yX4bt-0Jk"
      }
    },
    {
      "cell_type": "code",
      "source": [
        "import torch\n",
        "import torch.nn as nn\n",
        "from torchinfo import summary  # Ojo: diferente de torchsummary\n",
        "\n",
        "# Verificar el dispositivo\n",
        "device = torch.device(\"cuda\" if torch.cuda.is_available() else \"cpu\")\n",
        "\n",
        "# Modelo ejemplo\n",
        "class InitialModel(nn.Module):\n",
        "    def __init__(self):\n",
        "        super(InitialModel, self).__init__()\n",
        "        self.layer1 = nn.Linear(3, 2)\n",
        "        self.layer2 = nn.Linear(2, 3)\n",
        "        self.layer3 = nn.Linear(3, 4)\n",
        "        self.relu = nn.ReLU()\n",
        "        self.sigmoid = nn.Sigmoid()\n",
        "\n",
        "    def forward(self, x):\n",
        "        x = self.relu(self.layer1(x))\n",
        "        x = self.sigmoid(self.layer2(x))\n",
        "        x = self.layer3(x)\n",
        "        return x\n",
        "\n",
        "# Instanciar modelo y moverlo al dispositivo\n",
        "model = InitialModel().to(device)\n",
        "\n",
        "# Usar torchinfo.summary\n",
        "summary(model, input_size=(1, 3), depth=4, device=device)\n"
      ],
      "metadata": {
        "id": "N5Afp-OWKJOZ",
        "colab": {
          "base_uri": "https://localhost:8080/"
        },
        "outputId": "52221c54-65a8-40b4-97ec-c3094391ebb7"
      },
      "execution_count": null,
      "outputs": [
        {
          "output_type": "execute_result",
          "data": {
            "text/plain": [
              "==========================================================================================\n",
              "Layer (type:depth-idx)                   Output Shape              Param #\n",
              "==========================================================================================\n",
              "InitialModel                             [1, 4]                    --\n",
              "├─Linear: 1-1                            [1, 2]                    8\n",
              "├─ReLU: 1-2                              [1, 2]                    --\n",
              "├─Linear: 1-3                            [1, 3]                    9\n",
              "├─Sigmoid: 1-4                           [1, 3]                    --\n",
              "├─Linear: 1-5                            [1, 4]                    16\n",
              "==========================================================================================\n",
              "Total params: 33\n",
              "Trainable params: 33\n",
              "Non-trainable params: 0\n",
              "Total mult-adds (Units.MEGABYTES): 0.00\n",
              "==========================================================================================\n",
              "Input size (MB): 0.00\n",
              "Forward/backward pass size (MB): 0.00\n",
              "Params size (MB): 0.00\n",
              "Estimated Total Size (MB): 0.00\n",
              "=========================================================================================="
            ]
          },
          "metadata": {},
          "execution_count": 15
        }
      ]
    },
    {
      "cell_type": "markdown",
      "source": [
        "En TensorFlow/Keras, tf.keras.utils.plot_model() genera un diagrama visual del modelo.\n",
        "\n",
        "En PyTorch, no hay un equivalente directo pero se puede usar torchviz o hiddenlayer para visualizar la arquitectura."
      ],
      "metadata": {
        "id": "nz8FqrNEKMAj"
      }
    },
    {
      "cell_type": "markdown",
      "source": [
        "**¿Qué es torchviz?**\n",
        "\n",
        "torchviz es una herramienta de visualización para modelos de PyTorch. Permite dibujar el grafo computacional de un modelo, es decir, representar gráficamente cómo se conectan las operaciones (capas, funciones, etc.) desde la entrada hasta la salida. Esto es especialmente útil para:\n",
        "\n",
        "Verificar la estructura de una red neuronal.\n",
        "Depurar errores relacionados con las dimensiones o conexiones.\n",
        "Enseñar o presentar cómo fluye la información en el modelo."
      ],
      "metadata": {
        "id": "1jWq4m7g_GiJ"
      }
    },
    {
      "cell_type": "markdown",
      "source": [
        "**¿Para qué usar torchviz?**\n",
        "\n",
        "- Comprender modelos complejos.\n",
        "- Presentar gráficamente redes neuronales en clases o papers.\n",
        "- Detectar errores en la construcción del modelo.\n",
        "- Visualizar redes recurrentes, convolucionales o personalizadas."
      ],
      "metadata": {
        "id": "kkOssK1b_QkH"
      }
    },
    {
      "cell_type": "code",
      "source": [
        "pip install torchviz"
      ],
      "metadata": {
        "id": "g0jTtpd_KOl2",
        "colab": {
          "base_uri": "https://localhost:8080/"
        },
        "outputId": "6175e2bc-105d-4818-eb93-642e717bc2c2"
      },
      "execution_count": null,
      "outputs": [
        {
          "output_type": "stream",
          "name": "stdout",
          "text": [
            "Collecting torchviz\n",
            "  Downloading torchviz-0.0.3-py3-none-any.whl.metadata (2.1 kB)\n",
            "Requirement already satisfied: torch in /usr/local/lib/python3.11/dist-packages (from torchviz) (2.6.0+cu124)\n",
            "Requirement already satisfied: graphviz in /usr/local/lib/python3.11/dist-packages (from torchviz) (0.20.3)\n",
            "Requirement already satisfied: filelock in /usr/local/lib/python3.11/dist-packages (from torch->torchviz) (3.18.0)\n",
            "Requirement already satisfied: typing-extensions>=4.10.0 in /usr/local/lib/python3.11/dist-packages (from torch->torchviz) (4.13.2)\n",
            "Requirement already satisfied: networkx in /usr/local/lib/python3.11/dist-packages (from torch->torchviz) (3.4.2)\n",
            "Requirement already satisfied: jinja2 in /usr/local/lib/python3.11/dist-packages (from torch->torchviz) (3.1.6)\n",
            "Requirement already satisfied: fsspec in /usr/local/lib/python3.11/dist-packages (from torch->torchviz) (2025.3.2)\n",
            "Collecting nvidia-cuda-nvrtc-cu12==12.4.127 (from torch->torchviz)\n",
            "  Downloading nvidia_cuda_nvrtc_cu12-12.4.127-py3-none-manylinux2014_x86_64.whl.metadata (1.5 kB)\n",
            "Collecting nvidia-cuda-runtime-cu12==12.4.127 (from torch->torchviz)\n",
            "  Downloading nvidia_cuda_runtime_cu12-12.4.127-py3-none-manylinux2014_x86_64.whl.metadata (1.5 kB)\n",
            "Collecting nvidia-cuda-cupti-cu12==12.4.127 (from torch->torchviz)\n",
            "  Downloading nvidia_cuda_cupti_cu12-12.4.127-py3-none-manylinux2014_x86_64.whl.metadata (1.6 kB)\n",
            "Collecting nvidia-cudnn-cu12==9.1.0.70 (from torch->torchviz)\n",
            "  Downloading nvidia_cudnn_cu12-9.1.0.70-py3-none-manylinux2014_x86_64.whl.metadata (1.6 kB)\n",
            "Collecting nvidia-cublas-cu12==12.4.5.8 (from torch->torchviz)\n",
            "  Downloading nvidia_cublas_cu12-12.4.5.8-py3-none-manylinux2014_x86_64.whl.metadata (1.5 kB)\n",
            "Collecting nvidia-cufft-cu12==11.2.1.3 (from torch->torchviz)\n",
            "  Downloading nvidia_cufft_cu12-11.2.1.3-py3-none-manylinux2014_x86_64.whl.metadata (1.5 kB)\n",
            "Collecting nvidia-curand-cu12==10.3.5.147 (from torch->torchviz)\n",
            "  Downloading nvidia_curand_cu12-10.3.5.147-py3-none-manylinux2014_x86_64.whl.metadata (1.5 kB)\n",
            "Collecting nvidia-cusolver-cu12==11.6.1.9 (from torch->torchviz)\n",
            "  Downloading nvidia_cusolver_cu12-11.6.1.9-py3-none-manylinux2014_x86_64.whl.metadata (1.6 kB)\n",
            "Collecting nvidia-cusparse-cu12==12.3.1.170 (from torch->torchviz)\n",
            "  Downloading nvidia_cusparse_cu12-12.3.1.170-py3-none-manylinux2014_x86_64.whl.metadata (1.6 kB)\n",
            "Requirement already satisfied: nvidia-cusparselt-cu12==0.6.2 in /usr/local/lib/python3.11/dist-packages (from torch->torchviz) (0.6.2)\n",
            "Requirement already satisfied: nvidia-nccl-cu12==2.21.5 in /usr/local/lib/python3.11/dist-packages (from torch->torchviz) (2.21.5)\n",
            "Requirement already satisfied: nvidia-nvtx-cu12==12.4.127 in /usr/local/lib/python3.11/dist-packages (from torch->torchviz) (12.4.127)\n",
            "Collecting nvidia-nvjitlink-cu12==12.4.127 (from torch->torchviz)\n",
            "  Downloading nvidia_nvjitlink_cu12-12.4.127-py3-none-manylinux2014_x86_64.whl.metadata (1.5 kB)\n",
            "Requirement already satisfied: triton==3.2.0 in /usr/local/lib/python3.11/dist-packages (from torch->torchviz) (3.2.0)\n",
            "Requirement already satisfied: sympy==1.13.1 in /usr/local/lib/python3.11/dist-packages (from torch->torchviz) (1.13.1)\n",
            "Requirement already satisfied: mpmath<1.4,>=1.1.0 in /usr/local/lib/python3.11/dist-packages (from sympy==1.13.1->torch->torchviz) (1.3.0)\n",
            "Requirement already satisfied: MarkupSafe>=2.0 in /usr/local/lib/python3.11/dist-packages (from jinja2->torch->torchviz) (3.0.2)\n",
            "Downloading torchviz-0.0.3-py3-none-any.whl (5.7 kB)\n",
            "Downloading nvidia_cublas_cu12-12.4.5.8-py3-none-manylinux2014_x86_64.whl (363.4 MB)\n",
            "\u001b[2K   \u001b[90m━━━━━━━━━━━━━━━━━━━━━━━━━━━━━━━━━━━━━━━━\u001b[0m \u001b[32m363.4/363.4 MB\u001b[0m \u001b[31m4.3 MB/s\u001b[0m eta \u001b[36m0:00:00\u001b[0m\n",
            "\u001b[?25hDownloading nvidia_cuda_cupti_cu12-12.4.127-py3-none-manylinux2014_x86_64.whl (13.8 MB)\n",
            "\u001b[2K   \u001b[90m━━━━━━━━━━━━━━━━━━━━━━━━━━━━━━━━━━━━━━━━\u001b[0m \u001b[32m13.8/13.8 MB\u001b[0m \u001b[31m51.9 MB/s\u001b[0m eta \u001b[36m0:00:00\u001b[0m\n",
            "\u001b[?25hDownloading nvidia_cuda_nvrtc_cu12-12.4.127-py3-none-manylinux2014_x86_64.whl (24.6 MB)\n",
            "\u001b[2K   \u001b[90m━━━━━━━━━━━━━━━━━━━━━━━━━━━━━━━━━━━━━━━━\u001b[0m \u001b[32m24.6/24.6 MB\u001b[0m \u001b[31m30.5 MB/s\u001b[0m eta \u001b[36m0:00:00\u001b[0m\n",
            "\u001b[?25hDownloading nvidia_cuda_runtime_cu12-12.4.127-py3-none-manylinux2014_x86_64.whl (883 kB)\n",
            "\u001b[2K   \u001b[90m━━━━━━━━━━━━━━━━━━━━━━━━━━━━━━━━━━━━━━━━\u001b[0m \u001b[32m883.7/883.7 kB\u001b[0m \u001b[31m39.4 MB/s\u001b[0m eta \u001b[36m0:00:00\u001b[0m\n",
            "\u001b[?25hDownloading nvidia_cudnn_cu12-9.1.0.70-py3-none-manylinux2014_x86_64.whl (664.8 MB)\n",
            "\u001b[2K   \u001b[90m━━━━━━━━━━━━━━━━━━━━━━━━━━━━━━━━━━━━━━━━\u001b[0m \u001b[32m664.8/664.8 MB\u001b[0m \u001b[31m2.9 MB/s\u001b[0m eta \u001b[36m0:00:00\u001b[0m\n",
            "\u001b[?25hDownloading nvidia_cufft_cu12-11.2.1.3-py3-none-manylinux2014_x86_64.whl (211.5 MB)\n",
            "\u001b[2K   \u001b[90m━━━━━━━━━━━━━━━━━━━━━━━━━━━━━━━━━━━━━━━━\u001b[0m \u001b[32m211.5/211.5 MB\u001b[0m \u001b[31m5.7 MB/s\u001b[0m eta \u001b[36m0:00:00\u001b[0m\n",
            "\u001b[?25hDownloading nvidia_curand_cu12-10.3.5.147-py3-none-manylinux2014_x86_64.whl (56.3 MB)\n",
            "\u001b[2K   \u001b[90m━━━━━━━━━━━━━━━━━━━━━━━━━━━━━━━━━━━━━━━━\u001b[0m \u001b[32m56.3/56.3 MB\u001b[0m \u001b[31m12.3 MB/s\u001b[0m eta \u001b[36m0:00:00\u001b[0m\n",
            "\u001b[?25hDownloading nvidia_cusolver_cu12-11.6.1.9-py3-none-manylinux2014_x86_64.whl (127.9 MB)\n",
            "\u001b[2K   \u001b[90m━━━━━━━━━━━━━━━━━━━━━━━━━━━━━━━━━━━━━━━━\u001b[0m \u001b[32m127.9/127.9 MB\u001b[0m \u001b[31m7.6 MB/s\u001b[0m eta \u001b[36m0:00:00\u001b[0m\n",
            "\u001b[?25hDownloading nvidia_cusparse_cu12-12.3.1.170-py3-none-manylinux2014_x86_64.whl (207.5 MB)\n",
            "\u001b[2K   \u001b[90m━━━━━━━━━━━━━━━━━━━━━━━━━━━━━━━━━━━━━━━━\u001b[0m \u001b[32m207.5/207.5 MB\u001b[0m \u001b[31m6.0 MB/s\u001b[0m eta \u001b[36m0:00:00\u001b[0m\n",
            "\u001b[?25hDownloading nvidia_nvjitlink_cu12-12.4.127-py3-none-manylinux2014_x86_64.whl (21.1 MB)\n",
            "\u001b[2K   \u001b[90m━━━━━━━━━━━━━━━━━━━━━━━━━━━━━━━━━━━━━━━━\u001b[0m \u001b[32m21.1/21.1 MB\u001b[0m \u001b[31m87.8 MB/s\u001b[0m eta \u001b[36m0:00:00\u001b[0m\n",
            "\u001b[?25hInstalling collected packages: nvidia-nvjitlink-cu12, nvidia-curand-cu12, nvidia-cufft-cu12, nvidia-cuda-runtime-cu12, nvidia-cuda-nvrtc-cu12, nvidia-cuda-cupti-cu12, nvidia-cublas-cu12, nvidia-cusparse-cu12, nvidia-cudnn-cu12, nvidia-cusolver-cu12, torchviz\n",
            "  Attempting uninstall: nvidia-nvjitlink-cu12\n",
            "    Found existing installation: nvidia-nvjitlink-cu12 12.5.82\n",
            "    Uninstalling nvidia-nvjitlink-cu12-12.5.82:\n",
            "      Successfully uninstalled nvidia-nvjitlink-cu12-12.5.82\n",
            "  Attempting uninstall: nvidia-curand-cu12\n",
            "    Found existing installation: nvidia-curand-cu12 10.3.6.82\n",
            "    Uninstalling nvidia-curand-cu12-10.3.6.82:\n",
            "      Successfully uninstalled nvidia-curand-cu12-10.3.6.82\n",
            "  Attempting uninstall: nvidia-cufft-cu12\n",
            "    Found existing installation: nvidia-cufft-cu12 11.2.3.61\n",
            "    Uninstalling nvidia-cufft-cu12-11.2.3.61:\n",
            "      Successfully uninstalled nvidia-cufft-cu12-11.2.3.61\n",
            "  Attempting uninstall: nvidia-cuda-runtime-cu12\n",
            "    Found existing installation: nvidia-cuda-runtime-cu12 12.5.82\n",
            "    Uninstalling nvidia-cuda-runtime-cu12-12.5.82:\n",
            "      Successfully uninstalled nvidia-cuda-runtime-cu12-12.5.82\n",
            "  Attempting uninstall: nvidia-cuda-nvrtc-cu12\n",
            "    Found existing installation: nvidia-cuda-nvrtc-cu12 12.5.82\n",
            "    Uninstalling nvidia-cuda-nvrtc-cu12-12.5.82:\n",
            "      Successfully uninstalled nvidia-cuda-nvrtc-cu12-12.5.82\n",
            "  Attempting uninstall: nvidia-cuda-cupti-cu12\n",
            "    Found existing installation: nvidia-cuda-cupti-cu12 12.5.82\n",
            "    Uninstalling nvidia-cuda-cupti-cu12-12.5.82:\n",
            "      Successfully uninstalled nvidia-cuda-cupti-cu12-12.5.82\n",
            "  Attempting uninstall: nvidia-cublas-cu12\n",
            "    Found existing installation: nvidia-cublas-cu12 12.5.3.2\n",
            "    Uninstalling nvidia-cublas-cu12-12.5.3.2:\n",
            "      Successfully uninstalled nvidia-cublas-cu12-12.5.3.2\n",
            "  Attempting uninstall: nvidia-cusparse-cu12\n",
            "    Found existing installation: nvidia-cusparse-cu12 12.5.1.3\n",
            "    Uninstalling nvidia-cusparse-cu12-12.5.1.3:\n",
            "      Successfully uninstalled nvidia-cusparse-cu12-12.5.1.3\n",
            "  Attempting uninstall: nvidia-cudnn-cu12\n",
            "    Found existing installation: nvidia-cudnn-cu12 9.3.0.75\n",
            "    Uninstalling nvidia-cudnn-cu12-9.3.0.75:\n",
            "      Successfully uninstalled nvidia-cudnn-cu12-9.3.0.75\n",
            "  Attempting uninstall: nvidia-cusolver-cu12\n",
            "    Found existing installation: nvidia-cusolver-cu12 11.6.3.83\n",
            "    Uninstalling nvidia-cusolver-cu12-11.6.3.83:\n",
            "      Successfully uninstalled nvidia-cusolver-cu12-11.6.3.83\n",
            "Successfully installed nvidia-cublas-cu12-12.4.5.8 nvidia-cuda-cupti-cu12-12.4.127 nvidia-cuda-nvrtc-cu12-12.4.127 nvidia-cuda-runtime-cu12-12.4.127 nvidia-cudnn-cu12-9.1.0.70 nvidia-cufft-cu12-11.2.1.3 nvidia-curand-cu12-10.3.5.147 nvidia-cusolver-cu12-11.6.1.9 nvidia-cusparse-cu12-12.3.1.170 nvidia-nvjitlink-cu12-12.4.127 torchviz-0.0.3\n"
          ]
        }
      ]
    },
    {
      "cell_type": "code",
      "source": [
        "import torch\n",
        "from torchviz import make_dot\n",
        "\n",
        "# Entrada de ejemplo\n",
        "x_sample = torch.randn(1, 3)\n",
        "\n",
        "# Obtener la salida del modelo\n",
        "y_sample = model(x_sample)\n",
        "\n",
        "# Generar el diagrama\n",
        "dot = make_dot(y_sample, params=dict(model.named_parameters()))\n",
        "\n",
        "# Guardar la imagen\n",
        "dot.format = \"png\"\n",
        "dot.render(\"model\")\n",
        "\n",
        "# Mostrar en Jupyter Notebook (si lo estás usando)\n",
        "dot\n"
      ],
      "metadata": {
        "id": "7GvnhZaeKSB6",
        "colab": {
          "base_uri": "https://localhost:8080/",
          "height": 748
        },
        "outputId": "d93d4484-556b-48a5-802a-3f060de7fd95"
      },
      "execution_count": null,
      "outputs": [
        {
          "output_type": "execute_result",
          "data": {
            "image/svg+xml": "<?xml version=\"1.0\" encoding=\"UTF-8\" standalone=\"no\"?>\n<!DOCTYPE svg PUBLIC \"-//W3C//DTD SVG 1.1//EN\"\n \"http://www.w3.org/Graphics/SVG/1.1/DTD/svg11.dtd\">\n<!-- Generated by graphviz version 2.43.0 (0)\n -->\n<!-- Title: %3 Pages: 1 -->\n<svg width=\"430pt\" height=\"545pt\"\n viewBox=\"0.00 0.00 430.00 545.00\" xmlns=\"http://www.w3.org/2000/svg\" xmlns:xlink=\"http://www.w3.org/1999/xlink\">\n<g id=\"graph0\" class=\"graph\" transform=\"scale(1 1) rotate(0) translate(4 541)\">\n<title>%3</title>\n<polygon fill=\"white\" stroke=\"transparent\" points=\"-4,4 -4,-541 426,-541 426,4 -4,4\"/>\n<!-- 138161000887696 -->\n<g id=\"node1\" class=\"node\">\n<title>138161000887696</title>\n<polygon fill=\"#caff70\" stroke=\"black\" points=\"228,-31 169,-31 169,0 228,0 228,-31\"/>\n<text text-anchor=\"middle\" x=\"198.5\" y=\"-7\" font-family=\"monospace\" font-size=\"10.00\"> (1, 4)</text>\n</g>\n<!-- 138161001072240 -->\n<g id=\"node2\" class=\"node\">\n<title>138161001072240</title>\n<polygon fill=\"lightgrey\" stroke=\"black\" points=\"249,-86 148,-86 148,-67 249,-67 249,-86\"/>\n<text text-anchor=\"middle\" x=\"198.5\" y=\"-74\" font-family=\"monospace\" font-size=\"10.00\">AddmmBackward0</text>\n</g>\n<!-- 138161001072240&#45;&gt;138161000887696 -->\n<g id=\"edge20\" class=\"edge\">\n<title>138161001072240&#45;&gt;138161000887696</title>\n<path fill=\"none\" stroke=\"black\" d=\"M198.5,-66.79C198.5,-60.07 198.5,-50.4 198.5,-41.34\"/>\n<polygon fill=\"black\" stroke=\"black\" points=\"202,-41.19 198.5,-31.19 195,-41.19 202,-41.19\"/>\n</g>\n<!-- 138161001077376 -->\n<g id=\"node3\" class=\"node\">\n<title>138161001077376</title>\n<polygon fill=\"lightgrey\" stroke=\"black\" points=\"124,-141 23,-141 23,-122 124,-122 124,-141\"/>\n<text text-anchor=\"middle\" x=\"73.5\" y=\"-129\" font-family=\"monospace\" font-size=\"10.00\">AccumulateGrad</text>\n</g>\n<!-- 138161001077376&#45;&gt;138161001072240 -->\n<g id=\"edge1\" class=\"edge\">\n<title>138161001077376&#45;&gt;138161001072240</title>\n<path fill=\"none\" stroke=\"black\" d=\"M93.58,-121.98C113.87,-113.38 145.46,-99.99 168.67,-90.15\"/>\n<polygon fill=\"black\" stroke=\"black\" points=\"170.21,-93.3 178.05,-86.17 167.48,-86.85 170.21,-93.3\"/>\n</g>\n<!-- 138165187529616 -->\n<g id=\"node4\" class=\"node\">\n<title>138165187529616</title>\n<polygon fill=\"lightblue\" stroke=\"black\" points=\"115,-207 32,-207 32,-177 115,-177 115,-207\"/>\n<text text-anchor=\"middle\" x=\"73.5\" y=\"-195\" font-family=\"monospace\" font-size=\"10.00\">layer3.bias</text>\n<text text-anchor=\"middle\" x=\"73.5\" y=\"-184\" font-family=\"monospace\" font-size=\"10.00\"> (4)</text>\n</g>\n<!-- 138165187529616&#45;&gt;138161001077376 -->\n<g id=\"edge2\" class=\"edge\">\n<title>138165187529616&#45;&gt;138161001077376</title>\n<path fill=\"none\" stroke=\"black\" d=\"M73.5,-176.84C73.5,-169.21 73.5,-159.7 73.5,-151.45\"/>\n<polygon fill=\"black\" stroke=\"black\" points=\"77,-151.27 73.5,-141.27 70,-151.27 77,-151.27\"/>\n</g>\n<!-- 138161001077712 -->\n<g id=\"node5\" class=\"node\">\n<title>138161001077712</title>\n<polygon fill=\"lightgrey\" stroke=\"black\" points=\"255,-141 142,-141 142,-122 255,-122 255,-141\"/>\n<text text-anchor=\"middle\" x=\"198.5\" y=\"-129\" font-family=\"monospace\" font-size=\"10.00\">SigmoidBackward0</text>\n</g>\n<!-- 138161001077712&#45;&gt;138161001072240 -->\n<g id=\"edge3\" class=\"edge\">\n<title>138161001077712&#45;&gt;138161001072240</title>\n<path fill=\"none\" stroke=\"black\" d=\"M198.5,-121.75C198.5,-114.8 198.5,-104.85 198.5,-96.13\"/>\n<polygon fill=\"black\" stroke=\"black\" points=\"202,-96.09 198.5,-86.09 195,-96.09 202,-96.09\"/>\n</g>\n<!-- 138161001077808 -->\n<g id=\"node6\" class=\"node\">\n<title>138161001077808</title>\n<polygon fill=\"lightgrey\" stroke=\"black\" points=\"238,-201.5 137,-201.5 137,-182.5 238,-182.5 238,-201.5\"/>\n<text text-anchor=\"middle\" x=\"187.5\" y=\"-189.5\" font-family=\"monospace\" font-size=\"10.00\">AddmmBackward0</text>\n</g>\n<!-- 138161001077808&#45;&gt;138161001077712 -->\n<g id=\"edge4\" class=\"edge\">\n<title>138161001077808&#45;&gt;138161001077712</title>\n<path fill=\"none\" stroke=\"black\" d=\"M189.12,-182.37C190.67,-174.16 193.04,-161.54 195.01,-151.05\"/>\n<polygon fill=\"black\" stroke=\"black\" points=\"198.46,-151.64 196.87,-141.17 191.58,-150.35 198.46,-151.64\"/>\n</g>\n<!-- 138161001077952 -->\n<g id=\"node7\" class=\"node\">\n<title>138161001077952</title>\n<polygon fill=\"lightgrey\" stroke=\"black\" points=\"101,-267.5 0,-267.5 0,-248.5 101,-248.5 101,-267.5\"/>\n<text text-anchor=\"middle\" x=\"50.5\" y=\"-255.5\" font-family=\"monospace\" font-size=\"10.00\">AccumulateGrad</text>\n</g>\n<!-- 138161001077952&#45;&gt;138161001077808 -->\n<g id=\"edge5\" class=\"edge\">\n<title>138161001077952&#45;&gt;138161001077808</title>\n<path fill=\"none\" stroke=\"black\" d=\"M68.98,-248.37C92.26,-237.49 132.51,-218.69 159.56,-206.05\"/>\n<polygon fill=\"black\" stroke=\"black\" points=\"161.3,-209.1 168.88,-201.7 158.34,-202.76 161.3,-209.1\"/>\n</g>\n<!-- 138165187534224 -->\n<g id=\"node8\" class=\"node\">\n<title>138165187534224</title>\n<polygon fill=\"lightblue\" stroke=\"black\" points=\"92,-339 9,-339 9,-309 92,-309 92,-339\"/>\n<text text-anchor=\"middle\" x=\"50.5\" y=\"-327\" font-family=\"monospace\" font-size=\"10.00\">layer2.bias</text>\n<text text-anchor=\"middle\" x=\"50.5\" y=\"-316\" font-family=\"monospace\" font-size=\"10.00\"> (3)</text>\n</g>\n<!-- 138165187534224&#45;&gt;138161001077952 -->\n<g id=\"edge6\" class=\"edge\">\n<title>138165187534224&#45;&gt;138161001077952</title>\n<path fill=\"none\" stroke=\"black\" d=\"M50.5,-308.8C50.5,-299.7 50.5,-287.79 50.5,-277.9\"/>\n<polygon fill=\"black\" stroke=\"black\" points=\"54,-277.84 50.5,-267.84 47,-277.84 54,-277.84\"/>\n</g>\n<!-- 138161001077904 -->\n<g id=\"node9\" class=\"node\">\n<title>138161001077904</title>\n<polygon fill=\"lightgrey\" stroke=\"black\" points=\"214,-267.5 119,-267.5 119,-248.5 214,-248.5 214,-267.5\"/>\n<text text-anchor=\"middle\" x=\"166.5\" y=\"-255.5\" font-family=\"monospace\" font-size=\"10.00\">ReluBackward0</text>\n</g>\n<!-- 138161001077904&#45;&gt;138161001077808 -->\n<g id=\"edge7\" class=\"edge\">\n<title>138161001077904&#45;&gt;138161001077808</title>\n<path fill=\"none\" stroke=\"black\" d=\"M169.33,-248.37C172.41,-238.97 177.44,-223.67 181.42,-211.53\"/>\n<polygon fill=\"black\" stroke=\"black\" points=\"184.79,-212.5 184.58,-201.91 178.13,-210.32 184.79,-212.5\"/>\n</g>\n<!-- 138161001078192 -->\n<g id=\"node10\" class=\"node\">\n<title>138161001078192</title>\n<polygon fill=\"lightgrey\" stroke=\"black\" points=\"214,-333.5 113,-333.5 113,-314.5 214,-314.5 214,-333.5\"/>\n<text text-anchor=\"middle\" x=\"163.5\" y=\"-321.5\" font-family=\"monospace\" font-size=\"10.00\">AddmmBackward0</text>\n</g>\n<!-- 138161001078192&#45;&gt;138161001077904 -->\n<g id=\"edge8\" class=\"edge\">\n<title>138161001078192&#45;&gt;138161001077904</title>\n<path fill=\"none\" stroke=\"black\" d=\"M163.9,-314.37C164.34,-305.07 165.05,-289.98 165.61,-277.9\"/>\n<polygon fill=\"black\" stroke=\"black\" points=\"169.11,-278.06 166.08,-267.91 162.12,-277.73 169.11,-278.06\"/>\n</g>\n<!-- 138161001078384 -->\n<g id=\"node11\" class=\"node\">\n<title>138161001078384</title>\n<polygon fill=\"lightgrey\" stroke=\"black\" points=\"113,-399.5 12,-399.5 12,-380.5 113,-380.5 113,-399.5\"/>\n<text text-anchor=\"middle\" x=\"62.5\" y=\"-387.5\" font-family=\"monospace\" font-size=\"10.00\">AccumulateGrad</text>\n</g>\n<!-- 138161001078384&#45;&gt;138161001078192 -->\n<g id=\"edge9\" class=\"edge\">\n<title>138161001078384&#45;&gt;138161001078192</title>\n<path fill=\"none\" stroke=\"black\" d=\"M76.12,-380.37C92.84,-369.78 121.41,-351.67 141.31,-339.06\"/>\n<polygon fill=\"black\" stroke=\"black\" points=\"143.2,-342.01 149.77,-333.7 139.45,-336.1 143.2,-342.01\"/>\n</g>\n<!-- 138165187534512 -->\n<g id=\"node12\" class=\"node\">\n<title>138165187534512</title>\n<polygon fill=\"lightblue\" stroke=\"black\" points=\"103,-471 20,-471 20,-441 103,-441 103,-471\"/>\n<text text-anchor=\"middle\" x=\"61.5\" y=\"-459\" font-family=\"monospace\" font-size=\"10.00\">layer1.bias</text>\n<text text-anchor=\"middle\" x=\"61.5\" y=\"-448\" font-family=\"monospace\" font-size=\"10.00\"> (2)</text>\n</g>\n<!-- 138165187534512&#45;&gt;138161001078384 -->\n<g id=\"edge10\" class=\"edge\">\n<title>138165187534512&#45;&gt;138161001078384</title>\n<path fill=\"none\" stroke=\"black\" d=\"M61.72,-440.8C61.86,-431.7 62.05,-419.79 62.2,-409.9\"/>\n<polygon fill=\"black\" stroke=\"black\" points=\"65.71,-409.9 62.36,-399.84 58.71,-409.79 65.71,-409.9\"/>\n</g>\n<!-- 138161001078336 -->\n<g id=\"node13\" class=\"node\">\n<title>138161001078336</title>\n<polygon fill=\"lightgrey\" stroke=\"black\" points=\"209,-399.5 132,-399.5 132,-380.5 209,-380.5 209,-399.5\"/>\n<text text-anchor=\"middle\" x=\"170.5\" y=\"-387.5\" font-family=\"monospace\" font-size=\"10.00\">TBackward0</text>\n</g>\n<!-- 138161001078336&#45;&gt;138161001078192 -->\n<g id=\"edge11\" class=\"edge\">\n<title>138161001078336&#45;&gt;138161001078192</title>\n<path fill=\"none\" stroke=\"black\" d=\"M169.56,-380.37C168.54,-371.07 166.89,-355.98 165.57,-343.9\"/>\n<polygon fill=\"black\" stroke=\"black\" points=\"169.04,-343.47 164.47,-333.91 162.08,-344.23 169.04,-343.47\"/>\n</g>\n<!-- 138161001078432 -->\n<g id=\"node14\" class=\"node\">\n<title>138161001078432</title>\n<polygon fill=\"lightgrey\" stroke=\"black\" points=\"222,-465.5 121,-465.5 121,-446.5 222,-446.5 222,-465.5\"/>\n<text text-anchor=\"middle\" x=\"171.5\" y=\"-453.5\" font-family=\"monospace\" font-size=\"10.00\">AccumulateGrad</text>\n</g>\n<!-- 138161001078432&#45;&gt;138161001078336 -->\n<g id=\"edge12\" class=\"edge\">\n<title>138161001078432&#45;&gt;138161001078336</title>\n<path fill=\"none\" stroke=\"black\" d=\"M171.37,-446.37C171.22,-437.16 170.99,-422.29 170.8,-410.27\"/>\n<polygon fill=\"black\" stroke=\"black\" points=\"174.3,-409.85 170.64,-399.91 167.3,-409.96 174.3,-409.85\"/>\n</g>\n<!-- 138165187532208 -->\n<g id=\"node15\" class=\"node\">\n<title>138165187532208</title>\n<polygon fill=\"lightblue\" stroke=\"black\" points=\"219,-537 124,-537 124,-507 219,-507 219,-537\"/>\n<text text-anchor=\"middle\" x=\"171.5\" y=\"-525\" font-family=\"monospace\" font-size=\"10.00\">layer1.weight</text>\n<text text-anchor=\"middle\" x=\"171.5\" y=\"-514\" font-family=\"monospace\" font-size=\"10.00\"> (2, 3)</text>\n</g>\n<!-- 138165187532208&#45;&gt;138161001078432 -->\n<g id=\"edge13\" class=\"edge\">\n<title>138165187532208&#45;&gt;138161001078432</title>\n<path fill=\"none\" stroke=\"black\" d=\"M171.5,-506.8C171.5,-497.7 171.5,-485.79 171.5,-475.9\"/>\n<polygon fill=\"black\" stroke=\"black\" points=\"175,-475.84 171.5,-465.84 168,-475.84 175,-475.84\"/>\n</g>\n<!-- 138161001077856 -->\n<g id=\"node16\" class=\"node\">\n<title>138161001077856</title>\n<polygon fill=\"lightgrey\" stroke=\"black\" points=\"309,-267.5 232,-267.5 232,-248.5 309,-248.5 309,-267.5\"/>\n<text text-anchor=\"middle\" x=\"270.5\" y=\"-255.5\" font-family=\"monospace\" font-size=\"10.00\">TBackward0</text>\n</g>\n<!-- 138161001077856&#45;&gt;138161001077808 -->\n<g id=\"edge14\" class=\"edge\">\n<title>138161001077856&#45;&gt;138161001077808</title>\n<path fill=\"none\" stroke=\"black\" d=\"M259.31,-248.37C245.94,-238.06 223.35,-220.65 207.08,-208.09\"/>\n<polygon fill=\"black\" stroke=\"black\" points=\"208.84,-205.03 198.78,-201.7 204.56,-210.58 208.84,-205.03\"/>\n</g>\n<!-- 138161001081792 -->\n<g id=\"node17\" class=\"node\">\n<title>138161001081792</title>\n<polygon fill=\"lightgrey\" stroke=\"black\" points=\"333,-333.5 232,-333.5 232,-314.5 333,-314.5 333,-333.5\"/>\n<text text-anchor=\"middle\" x=\"282.5\" y=\"-321.5\" font-family=\"monospace\" font-size=\"10.00\">AccumulateGrad</text>\n</g>\n<!-- 138161001081792&#45;&gt;138161001077856 -->\n<g id=\"edge15\" class=\"edge\">\n<title>138161001081792&#45;&gt;138161001077856</title>\n<path fill=\"none\" stroke=\"black\" d=\"M280.88,-314.37C279.14,-305.07 276.31,-289.98 274.04,-277.9\"/>\n<polygon fill=\"black\" stroke=\"black\" points=\"277.45,-277.09 272.17,-267.91 270.57,-278.38 277.45,-277.09\"/>\n</g>\n<!-- 138165187527504 -->\n<g id=\"node18\" class=\"node\">\n<title>138165187527504</title>\n<polygon fill=\"lightblue\" stroke=\"black\" points=\"330,-405 235,-405 235,-375 330,-375 330,-405\"/>\n<text text-anchor=\"middle\" x=\"282.5\" y=\"-393\" font-family=\"monospace\" font-size=\"10.00\">layer2.weight</text>\n<text text-anchor=\"middle\" x=\"282.5\" y=\"-382\" font-family=\"monospace\" font-size=\"10.00\"> (3, 2)</text>\n</g>\n<!-- 138165187527504&#45;&gt;138161001081792 -->\n<g id=\"edge16\" class=\"edge\">\n<title>138165187527504&#45;&gt;138161001081792</title>\n<path fill=\"none\" stroke=\"black\" d=\"M282.5,-374.8C282.5,-365.7 282.5,-353.79 282.5,-343.9\"/>\n<polygon fill=\"black\" stroke=\"black\" points=\"286,-343.84 282.5,-333.84 279,-343.84 286,-343.84\"/>\n</g>\n<!-- 138161001077760 -->\n<g id=\"node19\" class=\"node\">\n<title>138161001077760</title>\n<polygon fill=\"lightgrey\" stroke=\"black\" points=\"392,-141 315,-141 315,-122 392,-122 392,-141\"/>\n<text text-anchor=\"middle\" x=\"353.5\" y=\"-129\" font-family=\"monospace\" font-size=\"10.00\">TBackward0</text>\n</g>\n<!-- 138161001077760&#45;&gt;138161001072240 -->\n<g id=\"edge17\" class=\"edge\">\n<title>138161001077760&#45;&gt;138161001072240</title>\n<path fill=\"none\" stroke=\"black\" d=\"M328.6,-121.98C302.8,-113.16 262.28,-99.31 233.32,-89.41\"/>\n<polygon fill=\"black\" stroke=\"black\" points=\"234.19,-86.01 223.6,-86.08 231.93,-92.63 234.19,-86.01\"/>\n</g>\n<!-- 138161001078288 -->\n<g id=\"node20\" class=\"node\">\n<title>138161001078288</title>\n<polygon fill=\"lightgrey\" stroke=\"black\" points=\"414,-201.5 313,-201.5 313,-182.5 414,-182.5 414,-201.5\"/>\n<text text-anchor=\"middle\" x=\"363.5\" y=\"-189.5\" font-family=\"monospace\" font-size=\"10.00\">AccumulateGrad</text>\n</g>\n<!-- 138161001078288&#45;&gt;138161001077760 -->\n<g id=\"edge18\" class=\"edge\">\n<title>138161001078288&#45;&gt;138161001077760</title>\n<path fill=\"none\" stroke=\"black\" d=\"M362.02,-182.37C360.62,-174.16 358.46,-161.54 356.67,-151.05\"/>\n<polygon fill=\"black\" stroke=\"black\" points=\"360.12,-150.43 354.98,-141.17 353.22,-151.61 360.12,-150.43\"/>\n</g>\n<!-- 138165187531152 -->\n<g id=\"node21\" class=\"node\">\n<title>138165187531152</title>\n<polygon fill=\"lightblue\" stroke=\"black\" points=\"422,-273 327,-273 327,-243 422,-243 422,-273\"/>\n<text text-anchor=\"middle\" x=\"374.5\" y=\"-261\" font-family=\"monospace\" font-size=\"10.00\">layer3.weight</text>\n<text text-anchor=\"middle\" x=\"374.5\" y=\"-250\" font-family=\"monospace\" font-size=\"10.00\"> (4, 3)</text>\n</g>\n<!-- 138165187531152&#45;&gt;138161001078288 -->\n<g id=\"edge19\" class=\"edge\">\n<title>138165187531152&#45;&gt;138161001078288</title>\n<path fill=\"none\" stroke=\"black\" d=\"M372.06,-242.8C370.5,-233.7 368.45,-221.79 366.75,-211.9\"/>\n<polygon fill=\"black\" stroke=\"black\" points=\"370.16,-211.11 365.02,-201.84 363.26,-212.29 370.16,-211.11\"/>\n</g>\n</g>\n</svg>\n",
            "text/plain": [
              "<graphviz.graphs.Digraph at 0x7da916ece090>"
            ]
          },
          "metadata": {},
          "execution_count": 17
        }
      ]
    },
    {
      "cell_type": "markdown",
      "source": [
        "nn.Linear(in_features, out_features) es el equivalente de Dense(units).\n",
        "\n",
        "Activaciones (ReLU y Softmax) se aplican en forward(), ya que PyTorch no las incluye dentro de Linear().\n",
        "\n",
        "Resumen del modelo se obtiene con torchinfo.summary()."
      ],
      "metadata": {
        "id": "9GXd-3JQKVAS"
      }
    },
    {
      "cell_type": "code",
      "source": [
        "# Definir el modelo en PyTorch\n",
        "class MyModel(nn.Module):\n",
        "    def __init__(self):\n",
        "        super(MyModel, self).__init__()\n",
        "        self.fc1 = nn.Linear(784, 64)  # Capa densa de 64 neuronas\n",
        "        self.fc2 = nn.Linear(64, 64)   # Otra capa de 64 neuronas\n",
        "        self.fc3 = nn.Linear(64, 10)   # Capa de salida con 10 clases\n",
        "\n",
        "        self.relu = nn.ReLU()\n",
        "        self.softmax = nn.Softmax(dim=1)  # Softmax en la dimensión de las clases\n",
        "\n",
        "    def forward(self, x):\n",
        "        x = self.relu(self.fc1(x))\n",
        "        x = self.relu(self.fc2(x))\n",
        "        x = self.softmax(self.fc3(x))\n",
        "        return x\n",
        "\n",
        "# Crear el modelo\n",
        "model = MyModel()\n",
        "\n",
        "# Mostrar resumen del modelo\n",
        "summary(model, input_size=(1, 784))\n"
      ],
      "metadata": {
        "id": "K6P5pDcKKYFr",
        "colab": {
          "base_uri": "https://localhost:8080/"
        },
        "outputId": "74fbee15-fd19-4f61-f365-755954110dc5"
      },
      "execution_count": null,
      "outputs": [
        {
          "output_type": "execute_result",
          "data": {
            "text/plain": [
              "==========================================================================================\n",
              "Layer (type:depth-idx)                   Output Shape              Param #\n",
              "==========================================================================================\n",
              "MyModel                                  [1, 10]                   --\n",
              "├─Linear: 1-1                            [1, 64]                   50,240\n",
              "├─ReLU: 1-2                              [1, 64]                   --\n",
              "├─Linear: 1-3                            [1, 64]                   4,160\n",
              "├─ReLU: 1-4                              [1, 64]                   --\n",
              "├─Linear: 1-5                            [1, 10]                   650\n",
              "├─Softmax: 1-6                           [1, 10]                   --\n",
              "==========================================================================================\n",
              "Total params: 55,050\n",
              "Trainable params: 55,050\n",
              "Non-trainable params: 0\n",
              "Total mult-adds (Units.MEGABYTES): 0.06\n",
              "==========================================================================================\n",
              "Input size (MB): 0.00\n",
              "Forward/backward pass size (MB): 0.00\n",
              "Params size (MB): 0.22\n",
              "Estimated Total Size (MB): 0.22\n",
              "=========================================================================================="
            ]
          },
          "metadata": {},
          "execution_count": 18
        }
      ]
    },
    {
      "cell_type": "markdown",
      "source": [
        "Se aplanan las imágenes de (32, 32, 3) a 3072 (x.view(x.size(0), -1)).\n",
        "\n",
        "Se replican las conexiones residuales (torch.add()) en block_2_output y block_3_output.\n",
        "\n",
        "Las activaciones (ReLU, Softmax) se aplican manualmente en forward().\n",
        "\n",
        "Se mantiene Dropout(0.5) antes de la salida.\n",
        "\n",
        "Resumen del modelo se obtiene con torchinfo.summary()."
      ],
      "metadata": {
        "id": "1LfEMEzGKfgb"
      }
    },
    {
      "cell_type": "code",
      "source": [
        "import torch\n",
        "import torch.nn as nn\n",
        "import torch.nn.functional as F\n",
        "from torchinfo import summary\n",
        "\n",
        "\n",
        "# Definir el modelo en PyTorch\n",
        "class VeryDenseNet(nn.Module):\n",
        "    def __init__(self):\n",
        "        super(VeryDenseNet, self).__init__()\n",
        "\n",
        "        # Bloque 1\n",
        "        self.fc1 = nn.Linear(32 * 32 * 3, 64)\n",
        "        self.fc2 = nn.Linear(64, 64)\n",
        "        self.fc3 = nn.Linear(64, 64)  # block_1_output\n",
        "\n",
        "        # Bloque 2\n",
        "        self.fc4 = nn.Linear(64, 32)\n",
        "        self.fc5 = nn.Linear(32, 64)\n",
        "\n",
        "        # Bloque 3\n",
        "        self.fc6 = nn.Linear(64, 32)\n",
        "        self.fc7 = nn.Linear(32, 64)\n",
        "\n",
        "        # Capa de salida\n",
        "        self.fc8 = nn.Linear(64, 16)\n",
        "        self.fc9 = nn.Linear(16, 32)\n",
        "        self.fc10 = nn.Linear(32, 256)\n",
        "        self.fc_out = nn.Linear(256, 10)\n",
        "\n",
        "        self.dropout = nn.Dropout(0.5)\n",
        "\n",
        "    def forward(self, x):\n",
        "        x = x.view(x.size(0), -1)  # Aplanar la imagen (32x32x3 → 3072)\n",
        "\n",
        "        # Bloque 1\n",
        "        x = F.relu(self.fc1(x))\n",
        "        x = F.relu(self.fc2(x))\n",
        "        block_1_output = F.relu(self.fc3(x))\n",
        "\n",
        "        # Bloque 2 con skip connection\n",
        "        x = F.relu(self.fc4(block_1_output))\n",
        "        x = F.relu(self.fc5(x))\n",
        "        block_2_output = torch.add(x, block_1_output)  # Residual sum\n",
        "\n",
        "        # Bloque 3 con skip connection\n",
        "        x = F.relu(self.fc6(block_2_output))\n",
        "        x = F.relu(self.fc7(x))\n",
        "        block_3_output = torch.add(x, block_2_output)  # Residual sum\n",
        "\n",
        "        # Capas finales\n",
        "        x = F.relu(self.fc8(block_3_output))\n",
        "        x = F.relu(self.fc9(x))\n",
        "        x = F.relu(self.fc10(x))\n",
        "        x = self.dropout(x)  # Dropout antes de la salida\n",
        "        x = F.softmax(self.fc_out(x), dim=1)  # Softmax para clasificación\n",
        "\n",
        "        return x\n",
        "\n",
        "# Crear el modelo\n",
        "model = VeryDenseNet()\n",
        "\n",
        "# Resumen del modelo\n",
        "summary(model, input_size=(1, 3, 32, 32))\n"
      ],
      "metadata": {
        "id": "KV3TcYXcKkLX",
        "colab": {
          "base_uri": "https://localhost:8080/"
        },
        "outputId": "a1553772-6c1d-4186-fbab-19fe1294240f"
      },
      "execution_count": null,
      "outputs": [
        {
          "output_type": "execute_result",
          "data": {
            "text/plain": [
              "==========================================================================================\n",
              "Layer (type:depth-idx)                   Output Shape              Param #\n",
              "==========================================================================================\n",
              "VeryDenseNet                             [1, 10]                   --\n",
              "├─Linear: 1-1                            [1, 64]                   196,672\n",
              "├─Linear: 1-2                            [1, 64]                   4,160\n",
              "├─Linear: 1-3                            [1, 64]                   4,160\n",
              "├─Linear: 1-4                            [1, 32]                   2,080\n",
              "├─Linear: 1-5                            [1, 64]                   2,112\n",
              "├─Linear: 1-6                            [1, 32]                   2,080\n",
              "├─Linear: 1-7                            [1, 64]                   2,112\n",
              "├─Linear: 1-8                            [1, 16]                   1,040\n",
              "├─Linear: 1-9                            [1, 32]                   544\n",
              "├─Linear: 1-10                           [1, 256]                  8,448\n",
              "├─Dropout: 1-11                          [1, 256]                  --\n",
              "├─Linear: 1-12                           [1, 10]                   2,570\n",
              "==========================================================================================\n",
              "Total params: 225,978\n",
              "Trainable params: 225,978\n",
              "Non-trainable params: 0\n",
              "Total mult-adds (Units.MEGABYTES): 0.23\n",
              "==========================================================================================\n",
              "Input size (MB): 0.01\n",
              "Forward/backward pass size (MB): 0.01\n",
              "Params size (MB): 0.90\n",
              "Estimated Total Size (MB): 0.92\n",
              "=========================================================================================="
            ]
          },
          "metadata": {},
          "execution_count": 20
        }
      ]
    },
    {
      "cell_type": "markdown",
      "source": [
        "torch.randn(1, 3, 32, 32) crea un tensor de entrada con el mismo tamaño que en Keras.\n",
        "\n",
        "make_dot(y_sample, params=dict(model.named_parameters())) genera la estructura del modelo.\n",
        "\n",
        "dot.render(\"model_visualization\") guarda el modelo en un archivo .png.\n",
        "\n",
        "dot lo muestra en un Jupyter Notebook."
      ],
      "metadata": {
        "id": "KJk1bUDOKnx0"
      }
    },
    {
      "cell_type": "code",
      "source": [
        "# Crear una entrada de prueba (batch de 1 imagen de 32x32x3)\n",
        "x_sample = torch.randn(1, 3, 32, 32)\n",
        "\n",
        "# Obtener la salida del modelo\n",
        "y_sample = model(x_sample)\n",
        "\n",
        "# Generar el diagrama de flujo del modelo\n",
        "dot = make_dot(y_sample, params=dict(model.named_parameters()))\n",
        "\n",
        "# Guardar la imagen\n",
        "dot.format = \"png\"\n",
        "dot.render(\"model_visualization\")\n",
        "\n",
        "# Mostrar en Jupyter Notebook\n",
        "dot"
      ],
      "metadata": {
        "id": "eSRHMzN0Kqk-",
        "colab": {
          "base_uri": "https://localhost:8080/",
          "height": 1000
        },
        "outputId": "8314e56c-d643-43b9-bc95-b30641442646"
      },
      "execution_count": null,
      "outputs": [
        {
          "output_type": "execute_result",
          "data": {
            "image/svg+xml": "<?xml version=\"1.0\" encoding=\"UTF-8\" standalone=\"no\"?>\n<!DOCTYPE svg PUBLIC \"-//W3C//DTD SVG 1.1//EN\"\n \"http://www.w3.org/Graphics/SVG/1.1/DTD/svg11.dtd\">\n<!-- Generated by graphviz version 2.43.0 (0)\n -->\n<!-- Title: %3 Pages: 1 -->\n<svg width=\"1209pt\" height=\"1760pt\"\n viewBox=\"0.00 0.00 1209.09 1760.00\" xmlns=\"http://www.w3.org/2000/svg\" xmlns:xlink=\"http://www.w3.org/1999/xlink\">\n<g id=\"graph0\" class=\"graph\" transform=\"scale(0.97 0.97) rotate(0) translate(4 1817)\">\n<title>%3</title>\n<polygon fill=\"white\" stroke=\"transparent\" points=\"-4,4 -4,-1817 1247,-1817 1247,4 -4,4\"/>\n<!-- 138161001316432 -->\n<g id=\"node1\" class=\"node\">\n<title>138161001316432</title>\n<polygon fill=\"#caff70\" stroke=\"black\" points=\"1050,-31 985,-31 985,0 1050,0 1050,-31\"/>\n<text text-anchor=\"middle\" x=\"1017.5\" y=\"-7\" font-family=\"monospace\" font-size=\"10.00\"> (1, 10)</text>\n</g>\n<!-- 138161001077136 -->\n<g id=\"node2\" class=\"node\">\n<title>138161001077136</title>\n<polygon fill=\"lightgrey\" stroke=\"black\" points=\"1074,-86 961,-86 961,-67 1074,-67 1074,-86\"/>\n<text text-anchor=\"middle\" x=\"1017.5\" y=\"-74\" font-family=\"monospace\" font-size=\"10.00\">SoftmaxBackward0</text>\n</g>\n<!-- 138161001077136&#45;&gt;138161001316432 -->\n<g id=\"edge82\" class=\"edge\">\n<title>138161001077136&#45;&gt;138161001316432</title>\n<path fill=\"none\" stroke=\"black\" d=\"M1017.5,-66.79C1017.5,-60.07 1017.5,-50.4 1017.5,-41.34\"/>\n<polygon fill=\"black\" stroke=\"black\" points=\"1021,-41.19 1017.5,-31.19 1014,-41.19 1021,-41.19\"/>\n</g>\n<!-- 138161001074208 -->\n<g id=\"node3\" class=\"node\">\n<title>138161001074208</title>\n<polygon fill=\"lightgrey\" stroke=\"black\" points=\"1068,-141 967,-141 967,-122 1068,-122 1068,-141\"/>\n<text text-anchor=\"middle\" x=\"1017.5\" y=\"-129\" font-family=\"monospace\" font-size=\"10.00\">AddmmBackward0</text>\n</g>\n<!-- 138161001074208&#45;&gt;138161001077136 -->\n<g id=\"edge1\" class=\"edge\">\n<title>138161001074208&#45;&gt;138161001077136</title>\n<path fill=\"none\" stroke=\"black\" d=\"M1017.5,-121.75C1017.5,-114.8 1017.5,-104.85 1017.5,-96.13\"/>\n<polygon fill=\"black\" stroke=\"black\" points=\"1021,-96.09 1017.5,-86.09 1014,-96.09 1021,-96.09\"/>\n</g>\n<!-- 138161001074160 -->\n<g id=\"node4\" class=\"node\">\n<title>138161001074160</title>\n<polygon fill=\"lightgrey\" stroke=\"black\" points=\"955,-196 854,-196 854,-177 955,-177 955,-196\"/>\n<text text-anchor=\"middle\" x=\"904.5\" y=\"-184\" font-family=\"monospace\" font-size=\"10.00\">AccumulateGrad</text>\n</g>\n<!-- 138161001074160&#45;&gt;138161001074208 -->\n<g id=\"edge2\" class=\"edge\">\n<title>138161001074160&#45;&gt;138161001074208</title>\n<path fill=\"none\" stroke=\"black\" d=\"M922.66,-176.98C940.75,-168.5 968.78,-155.35 989.69,-145.54\"/>\n<polygon fill=\"black\" stroke=\"black\" points=\"991.45,-148.59 999.01,-141.17 988.47,-142.25 991.45,-148.59\"/>\n</g>\n<!-- 138161001752304 -->\n<g id=\"node5\" class=\"node\">\n<title>138161001752304</title>\n<polygon fill=\"lightblue\" stroke=\"black\" points=\"946,-262 863,-262 863,-232 946,-232 946,-262\"/>\n<text text-anchor=\"middle\" x=\"904.5\" y=\"-250\" font-family=\"monospace\" font-size=\"10.00\">fc_out.bias</text>\n<text text-anchor=\"middle\" x=\"904.5\" y=\"-239\" font-family=\"monospace\" font-size=\"10.00\"> (10)</text>\n</g>\n<!-- 138161001752304&#45;&gt;138161001074160 -->\n<g id=\"edge3\" class=\"edge\">\n<title>138161001752304&#45;&gt;138161001074160</title>\n<path fill=\"none\" stroke=\"black\" d=\"M904.5,-231.84C904.5,-224.21 904.5,-214.7 904.5,-206.45\"/>\n<polygon fill=\"black\" stroke=\"black\" points=\"908,-206.27 904.5,-196.27 901,-206.27 908,-206.27\"/>\n</g>\n<!-- 138161001076896 -->\n<g id=\"node6\" class=\"node\">\n<title>138161001076896</title>\n<polygon fill=\"lightgrey\" stroke=\"black\" points=\"1062,-196 973,-196 973,-177 1062,-177 1062,-196\"/>\n<text text-anchor=\"middle\" x=\"1017.5\" y=\"-184\" font-family=\"monospace\" font-size=\"10.00\">MulBackward0</text>\n</g>\n<!-- 138161001076896&#45;&gt;138161001074208 -->\n<g id=\"edge4\" class=\"edge\">\n<title>138161001076896&#45;&gt;138161001074208</title>\n<path fill=\"none\" stroke=\"black\" d=\"M1017.5,-176.75C1017.5,-169.8 1017.5,-159.85 1017.5,-151.13\"/>\n<polygon fill=\"black\" stroke=\"black\" points=\"1021,-151.09 1017.5,-141.09 1014,-151.09 1021,-151.09\"/>\n</g>\n<!-- 138161001073968 -->\n<g id=\"node7\" class=\"node\">\n<title>138161001073968</title>\n<polygon fill=\"lightgrey\" stroke=\"black\" points=\"1062,-256.5 967,-256.5 967,-237.5 1062,-237.5 1062,-256.5\"/>\n<text text-anchor=\"middle\" x=\"1014.5\" y=\"-244.5\" font-family=\"monospace\" font-size=\"10.00\">ReluBackward0</text>\n</g>\n<!-- 138161001073968&#45;&gt;138161001076896 -->\n<g id=\"edge5\" class=\"edge\">\n<title>138161001073968&#45;&gt;138161001076896</title>\n<path fill=\"none\" stroke=\"black\" d=\"M1014.94,-237.37C1015.36,-229.25 1016,-216.81 1016.53,-206.39\"/>\n<polygon fill=\"black\" stroke=\"black\" points=\"1020.04,-206.33 1017.06,-196.17 1013.05,-205.97 1020.04,-206.33\"/>\n</g>\n<!-- 138161001071904 -->\n<g id=\"node8\" class=\"node\">\n<title>138161001071904</title>\n<polygon fill=\"lightgrey\" stroke=\"black\" points=\"1065,-322.5 964,-322.5 964,-303.5 1065,-303.5 1065,-322.5\"/>\n<text text-anchor=\"middle\" x=\"1014.5\" y=\"-310.5\" font-family=\"monospace\" font-size=\"10.00\">AddmmBackward0</text>\n</g>\n<!-- 138161001071904&#45;&gt;138161001073968 -->\n<g id=\"edge6\" class=\"edge\">\n<title>138161001071904&#45;&gt;138161001073968</title>\n<path fill=\"none\" stroke=\"black\" d=\"M1014.5,-303.37C1014.5,-294.16 1014.5,-279.29 1014.5,-267.27\"/>\n<polygon fill=\"black\" stroke=\"black\" points=\"1018,-266.91 1014.5,-256.91 1011,-266.91 1018,-266.91\"/>\n</g>\n<!-- 138161001077856 -->\n<g id=\"node9\" class=\"node\">\n<title>138161001077856</title>\n<polygon fill=\"lightgrey\" stroke=\"black\" points=\"949,-383 848,-383 848,-364 949,-364 949,-383\"/>\n<text text-anchor=\"middle\" x=\"898.5\" y=\"-371\" font-family=\"monospace\" font-size=\"10.00\">AccumulateGrad</text>\n</g>\n<!-- 138161001077856&#45;&gt;138161001071904 -->\n<g id=\"edge7\" class=\"edge\">\n<title>138161001077856&#45;&gt;138161001071904</title>\n<path fill=\"none\" stroke=\"black\" d=\"M915.62,-363.87C934.72,-354.23 965.87,-338.53 988.1,-327.31\"/>\n<polygon fill=\"black\" stroke=\"black\" points=\"989.96,-330.3 997.31,-322.67 986.81,-324.05 989.96,-330.3\"/>\n</g>\n<!-- 138161001752112 -->\n<g id=\"node10\" class=\"node\">\n<title>138161001752112</title>\n<polygon fill=\"lightblue\" stroke=\"black\" points=\"934,-449 863,-449 863,-419 934,-419 934,-449\"/>\n<text text-anchor=\"middle\" x=\"898.5\" y=\"-437\" font-family=\"monospace\" font-size=\"10.00\">fc10.bias</text>\n<text text-anchor=\"middle\" x=\"898.5\" y=\"-426\" font-family=\"monospace\" font-size=\"10.00\"> (256)</text>\n</g>\n<!-- 138161001752112&#45;&gt;138161001077856 -->\n<g id=\"edge8\" class=\"edge\">\n<title>138161001752112&#45;&gt;138161001077856</title>\n<path fill=\"none\" stroke=\"black\" d=\"M898.5,-418.84C898.5,-411.21 898.5,-401.7 898.5,-393.45\"/>\n<polygon fill=\"black\" stroke=\"black\" points=\"902,-393.27 898.5,-383.27 895,-393.27 902,-393.27\"/>\n</g>\n<!-- 138161001077328 -->\n<g id=\"node11\" class=\"node\">\n<title>138161001077328</title>\n<polygon fill=\"lightgrey\" stroke=\"black\" points=\"1062,-383 967,-383 967,-364 1062,-364 1062,-383\"/>\n<text text-anchor=\"middle\" x=\"1014.5\" y=\"-371\" font-family=\"monospace\" font-size=\"10.00\">ReluBackward0</text>\n</g>\n<!-- 138161001077328&#45;&gt;138161001071904 -->\n<g id=\"edge9\" class=\"edge\">\n<title>138161001077328&#45;&gt;138161001071904</title>\n<path fill=\"none\" stroke=\"black\" d=\"M1014.5,-363.87C1014.5,-355.75 1014.5,-343.31 1014.5,-332.89\"/>\n<polygon fill=\"black\" stroke=\"black\" points=\"1018,-332.67 1014.5,-322.67 1011,-332.67 1018,-332.67\"/>\n</g>\n<!-- 138161001080784 -->\n<g id=\"node12\" class=\"node\">\n<title>138161001080784</title>\n<polygon fill=\"lightgrey\" stroke=\"black\" points=\"1059,-443.5 958,-443.5 958,-424.5 1059,-424.5 1059,-443.5\"/>\n<text text-anchor=\"middle\" x=\"1008.5\" y=\"-431.5\" font-family=\"monospace\" font-size=\"10.00\">AddmmBackward0</text>\n</g>\n<!-- 138161001080784&#45;&gt;138161001077328 -->\n<g id=\"edge10\" class=\"edge\">\n<title>138161001080784&#45;&gt;138161001077328</title>\n<path fill=\"none\" stroke=\"black\" d=\"M1009.39,-424.37C1010.22,-416.25 1011.49,-403.81 1012.56,-393.39\"/>\n<polygon fill=\"black\" stroke=\"black\" points=\"1016.07,-393.47 1013.61,-383.17 1009.11,-392.76 1016.07,-393.47\"/>\n</g>\n<!-- 138161001074064 -->\n<g id=\"node13\" class=\"node\">\n<title>138161001074064</title>\n<polygon fill=\"lightgrey\" stroke=\"black\" points=\"1142,-509.5 1041,-509.5 1041,-490.5 1142,-490.5 1142,-509.5\"/>\n<text text-anchor=\"middle\" x=\"1091.5\" y=\"-497.5\" font-family=\"monospace\" font-size=\"10.00\">AccumulateGrad</text>\n</g>\n<!-- 138161001074064&#45;&gt;138161001080784 -->\n<g id=\"edge11\" class=\"edge\">\n<title>138161001074064&#45;&gt;138161001080784</title>\n<path fill=\"none\" stroke=\"black\" d=\"M1080.31,-490.37C1066.94,-480.06 1044.35,-462.65 1028.08,-450.09\"/>\n<polygon fill=\"black\" stroke=\"black\" points=\"1029.84,-447.03 1019.78,-443.7 1025.56,-452.58 1029.84,-447.03\"/>\n</g>\n<!-- 138161001751920 -->\n<g id=\"node14\" class=\"node\">\n<title>138161001751920</title>\n<polygon fill=\"lightblue\" stroke=\"black\" points=\"1124,-581 1059,-581 1059,-551 1124,-551 1124,-581\"/>\n<text text-anchor=\"middle\" x=\"1091.5\" y=\"-569\" font-family=\"monospace\" font-size=\"10.00\">fc9.bias</text>\n<text text-anchor=\"middle\" x=\"1091.5\" y=\"-558\" font-family=\"monospace\" font-size=\"10.00\"> (32)</text>\n</g>\n<!-- 138161001751920&#45;&gt;138161001074064 -->\n<g id=\"edge12\" class=\"edge\">\n<title>138161001751920&#45;&gt;138161001074064</title>\n<path fill=\"none\" stroke=\"black\" d=\"M1091.5,-550.8C1091.5,-541.7 1091.5,-529.79 1091.5,-519.9\"/>\n<polygon fill=\"black\" stroke=\"black\" points=\"1095,-519.84 1091.5,-509.84 1088,-519.84 1095,-519.84\"/>\n</g>\n<!-- 138161001083568 -->\n<g id=\"node15\" class=\"node\">\n<title>138161001083568</title>\n<polygon fill=\"lightgrey\" stroke=\"black\" points=\"924,-509.5 829,-509.5 829,-490.5 924,-490.5 924,-509.5\"/>\n<text text-anchor=\"middle\" x=\"876.5\" y=\"-497.5\" font-family=\"monospace\" font-size=\"10.00\">ReluBackward0</text>\n</g>\n<!-- 138161001083568&#45;&gt;138161001080784 -->\n<g id=\"edge13\" class=\"edge\">\n<title>138161001083568&#45;&gt;138161001080784</title>\n<path fill=\"none\" stroke=\"black\" d=\"M894.3,-490.37C916.64,-479.54 955.18,-460.85 981.24,-448.22\"/>\n<polygon fill=\"black\" stroke=\"black\" points=\"983.09,-451.21 990.56,-443.7 980.03,-444.91 983.09,-451.21\"/>\n</g>\n<!-- 138161001075312 -->\n<g id=\"node16\" class=\"node\">\n<title>138161001075312</title>\n<polygon fill=\"lightgrey\" stroke=\"black\" points=\"895,-575.5 794,-575.5 794,-556.5 895,-556.5 895,-575.5\"/>\n<text text-anchor=\"middle\" x=\"844.5\" y=\"-563.5\" font-family=\"monospace\" font-size=\"10.00\">AddmmBackward0</text>\n</g>\n<!-- 138161001075312&#45;&gt;138161001083568 -->\n<g id=\"edge14\" class=\"edge\">\n<title>138161001075312&#45;&gt;138161001083568</title>\n<path fill=\"none\" stroke=\"black\" d=\"M848.82,-556.37C853.56,-546.88 861.32,-531.36 867.42,-519.16\"/>\n<polygon fill=\"black\" stroke=\"black\" points=\"870.71,-520.41 872.05,-509.91 864.44,-517.28 870.71,-520.41\"/>\n</g>\n<!-- 138161001079296 -->\n<g id=\"node17\" class=\"node\">\n<title>138161001079296</title>\n<polygon fill=\"lightgrey\" stroke=\"black\" points=\"955,-641.5 854,-641.5 854,-622.5 955,-622.5 955,-641.5\"/>\n<text text-anchor=\"middle\" x=\"904.5\" y=\"-629.5\" font-family=\"monospace\" font-size=\"10.00\">AccumulateGrad</text>\n</g>\n<!-- 138161001079296&#45;&gt;138161001075312 -->\n<g id=\"edge15\" class=\"edge\">\n<title>138161001079296&#45;&gt;138161001075312</title>\n<path fill=\"none\" stroke=\"black\" d=\"M896.41,-622.37C887.07,-612.4 871.49,-595.79 859.84,-583.36\"/>\n<polygon fill=\"black\" stroke=\"black\" points=\"862.24,-580.81 852.85,-575.91 857.13,-585.59 862.24,-580.81\"/>\n</g>\n<!-- 138161001751728 -->\n<g id=\"node18\" class=\"node\">\n<title>138161001751728</title>\n<polygon fill=\"lightblue\" stroke=\"black\" points=\"937,-713 872,-713 872,-683 937,-683 937,-713\"/>\n<text text-anchor=\"middle\" x=\"904.5\" y=\"-701\" font-family=\"monospace\" font-size=\"10.00\">fc8.bias</text>\n<text text-anchor=\"middle\" x=\"904.5\" y=\"-690\" font-family=\"monospace\" font-size=\"10.00\"> (16)</text>\n</g>\n<!-- 138161001751728&#45;&gt;138161001079296 -->\n<g id=\"edge16\" class=\"edge\">\n<title>138161001751728&#45;&gt;138161001079296</title>\n<path fill=\"none\" stroke=\"black\" d=\"M904.5,-682.8C904.5,-673.7 904.5,-661.79 904.5,-651.9\"/>\n<polygon fill=\"black\" stroke=\"black\" points=\"908,-651.84 904.5,-641.84 901,-651.84 908,-651.84\"/>\n</g>\n<!-- 138161001077184 -->\n<g id=\"node19\" class=\"node\">\n<title>138161001077184</title>\n<polygon fill=\"lightgrey\" stroke=\"black\" points=\"729,-641.5 640,-641.5 640,-622.5 729,-622.5 729,-641.5\"/>\n<text text-anchor=\"middle\" x=\"684.5\" y=\"-629.5\" font-family=\"monospace\" font-size=\"10.00\">AddBackward0</text>\n</g>\n<!-- 138161001077184&#45;&gt;138161001075312 -->\n<g id=\"edge17\" class=\"edge\">\n<title>138161001077184&#45;&gt;138161001075312</title>\n<path fill=\"none\" stroke=\"black\" d=\"M706.08,-622.37C733.71,-611.32 781.79,-592.08 813.38,-579.45\"/>\n<polygon fill=\"black\" stroke=\"black\" points=\"815.02,-582.56 823.01,-575.6 812.42,-576.06 815.02,-582.56\"/>\n</g>\n<!-- 138161001074112 -->\n<g id=\"node20\" class=\"node\">\n<title>138161001074112</title>\n<polygon fill=\"lightgrey\" stroke=\"black\" points=\"732,-707.5 637,-707.5 637,-688.5 732,-688.5 732,-707.5\"/>\n<text text-anchor=\"middle\" x=\"684.5\" y=\"-695.5\" font-family=\"monospace\" font-size=\"10.00\">ReluBackward0</text>\n</g>\n<!-- 138161001074112&#45;&gt;138161001077184 -->\n<g id=\"edge18\" class=\"edge\">\n<title>138161001074112&#45;&gt;138161001077184</title>\n<path fill=\"none\" stroke=\"black\" d=\"M684.5,-688.37C684.5,-679.16 684.5,-664.29 684.5,-652.27\"/>\n<polygon fill=\"black\" stroke=\"black\" points=\"688,-651.91 684.5,-641.91 681,-651.91 688,-651.91\"/>\n</g>\n<!-- 138161001082512 -->\n<g id=\"node21\" class=\"node\">\n<title>138161001082512</title>\n<polygon fill=\"lightgrey\" stroke=\"black\" points=\"743,-773.5 642,-773.5 642,-754.5 743,-754.5 743,-773.5\"/>\n<text text-anchor=\"middle\" x=\"692.5\" y=\"-761.5\" font-family=\"monospace\" font-size=\"10.00\">AddmmBackward0</text>\n</g>\n<!-- 138161001082512&#45;&gt;138161001074112 -->\n<g id=\"edge19\" class=\"edge\">\n<title>138161001082512&#45;&gt;138161001074112</title>\n<path fill=\"none\" stroke=\"black\" d=\"M691.42,-754.37C690.26,-745.07 688.37,-729.98 686.86,-717.9\"/>\n<polygon fill=\"black\" stroke=\"black\" points=\"690.33,-717.39 685.61,-707.91 683.38,-718.26 690.33,-717.39\"/>\n</g>\n<!-- 138161001072240 -->\n<g id=\"node22\" class=\"node\">\n<title>138161001072240</title>\n<polygon fill=\"lightgrey\" stroke=\"black\" points=\"957,-834 856,-834 856,-815 957,-815 957,-834\"/>\n<text text-anchor=\"middle\" x=\"906.5\" y=\"-822\" font-family=\"monospace\" font-size=\"10.00\">AccumulateGrad</text>\n</g>\n<!-- 138161001072240&#45;&gt;138161001082512 -->\n<g id=\"edge20\" class=\"edge\">\n<title>138161001072240&#45;&gt;138161001082512</title>\n<path fill=\"none\" stroke=\"black\" d=\"M875.38,-814.99C837.9,-804.75 774.82,-787.5 733.43,-776.19\"/>\n<polygon fill=\"black\" stroke=\"black\" points=\"734.22,-772.78 723.65,-773.52 732.38,-779.53 734.22,-772.78\"/>\n</g>\n<!-- 138161001751536 -->\n<g id=\"node23\" class=\"node\">\n<title>138161001751536</title>\n<polygon fill=\"lightblue\" stroke=\"black\" points=\"941,-900 876,-900 876,-870 941,-870 941,-900\"/>\n<text text-anchor=\"middle\" x=\"908.5\" y=\"-888\" font-family=\"monospace\" font-size=\"10.00\">fc7.bias</text>\n<text text-anchor=\"middle\" x=\"908.5\" y=\"-877\" font-family=\"monospace\" font-size=\"10.00\"> (64)</text>\n</g>\n<!-- 138161001751536&#45;&gt;138161001072240 -->\n<g id=\"edge21\" class=\"edge\">\n<title>138161001751536&#45;&gt;138161001072240</title>\n<path fill=\"none\" stroke=\"black\" d=\"M908.02,-869.84C907.76,-862.21 907.43,-852.7 907.15,-844.45\"/>\n<polygon fill=\"black\" stroke=\"black\" points=\"910.64,-844.14 906.8,-834.27 903.64,-844.38 910.64,-844.14\"/>\n</g>\n<!-- 138161001081456 -->\n<g id=\"node24\" class=\"node\">\n<title>138161001081456</title>\n<polygon fill=\"lightgrey\" stroke=\"black\" points=\"737,-834 642,-834 642,-815 737,-815 737,-834\"/>\n<text text-anchor=\"middle\" x=\"689.5\" y=\"-822\" font-family=\"monospace\" font-size=\"10.00\">ReluBackward0</text>\n</g>\n<!-- 138161001081456&#45;&gt;138161001082512 -->\n<g id=\"edge22\" class=\"edge\">\n<title>138161001081456&#45;&gt;138161001082512</title>\n<path fill=\"none\" stroke=\"black\" d=\"M689.94,-814.87C690.36,-806.75 691,-794.31 691.53,-783.89\"/>\n<polygon fill=\"black\" stroke=\"black\" points=\"695.04,-783.83 692.06,-773.67 688.05,-783.47 695.04,-783.83\"/>\n</g>\n<!-- 138161001071952 -->\n<g id=\"node25\" class=\"node\">\n<title>138161001071952</title>\n<polygon fill=\"lightgrey\" stroke=\"black\" points=\"739,-894.5 638,-894.5 638,-875.5 739,-875.5 739,-894.5\"/>\n<text text-anchor=\"middle\" x=\"688.5\" y=\"-882.5\" font-family=\"monospace\" font-size=\"10.00\">AddmmBackward0</text>\n</g>\n<!-- 138161001071952&#45;&gt;138161001081456 -->\n<g id=\"edge23\" class=\"edge\">\n<title>138161001071952&#45;&gt;138161001081456</title>\n<path fill=\"none\" stroke=\"black\" d=\"M688.65,-875.37C688.79,-867.25 689,-854.81 689.18,-844.39\"/>\n<polygon fill=\"black\" stroke=\"black\" points=\"692.68,-844.23 689.35,-834.17 685.68,-844.11 692.68,-844.23\"/>\n</g>\n<!-- 138161001080976 -->\n<g id=\"node26\" class=\"node\">\n<title>138161001080976</title>\n<polygon fill=\"lightgrey\" stroke=\"black\" points=\"739,-960.5 638,-960.5 638,-941.5 739,-941.5 739,-960.5\"/>\n<text text-anchor=\"middle\" x=\"688.5\" y=\"-948.5\" font-family=\"monospace\" font-size=\"10.00\">AccumulateGrad</text>\n</g>\n<!-- 138161001080976&#45;&gt;138161001071952 -->\n<g id=\"edge24\" class=\"edge\">\n<title>138161001080976&#45;&gt;138161001071952</title>\n<path fill=\"none\" stroke=\"black\" d=\"M688.5,-941.37C688.5,-932.16 688.5,-917.29 688.5,-905.27\"/>\n<polygon fill=\"black\" stroke=\"black\" points=\"692,-904.91 688.5,-894.91 685,-904.91 692,-904.91\"/>\n</g>\n<!-- 138161001751344 -->\n<g id=\"node27\" class=\"node\">\n<title>138161001751344</title>\n<polygon fill=\"lightblue\" stroke=\"black\" points=\"721,-1032 656,-1032 656,-1002 721,-1002 721,-1032\"/>\n<text text-anchor=\"middle\" x=\"688.5\" y=\"-1020\" font-family=\"monospace\" font-size=\"10.00\">fc6.bias</text>\n<text text-anchor=\"middle\" x=\"688.5\" y=\"-1009\" font-family=\"monospace\" font-size=\"10.00\"> (32)</text>\n</g>\n<!-- 138161001751344&#45;&gt;138161001080976 -->\n<g id=\"edge25\" class=\"edge\">\n<title>138161001751344&#45;&gt;138161001080976</title>\n<path fill=\"none\" stroke=\"black\" d=\"M688.5,-1001.8C688.5,-992.7 688.5,-980.79 688.5,-970.9\"/>\n<polygon fill=\"black\" stroke=\"black\" points=\"692,-970.84 688.5,-960.84 685,-970.84 692,-970.84\"/>\n</g>\n<!-- 138161001083904 -->\n<g id=\"node28\" class=\"node\">\n<title>138161001083904</title>\n<polygon fill=\"lightgrey\" stroke=\"black\" points=\"620,-960.5 531,-960.5 531,-941.5 620,-941.5 620,-960.5\"/>\n<text text-anchor=\"middle\" x=\"575.5\" y=\"-948.5\" font-family=\"monospace\" font-size=\"10.00\">AddBackward0</text>\n</g>\n<!-- 138161001083904&#45;&gt;138161001077184 -->\n<g id=\"edge69\" class=\"edge\">\n<title>138161001083904&#45;&gt;138161001077184</title>\n<path fill=\"none\" stroke=\"black\" d=\"M577.52,-941.3C582.02,-921.09 592.5,-869.35 592.5,-825.5 592.5,-825.5 592.5,-825.5 592.5,-763 592.5,-724.19 604.59,-714.32 627.5,-683 637.51,-669.32 651.87,-656.75 663.67,-647.64\"/>\n<polygon fill=\"black\" stroke=\"black\" points=\"665.78,-650.43 671.71,-641.65 661.6,-644.82 665.78,-650.43\"/>\n</g>\n<!-- 138161001083904&#45;&gt;138161001071952 -->\n<g id=\"edge26\" class=\"edge\">\n<title>138161001083904&#45;&gt;138161001071952</title>\n<path fill=\"none\" stroke=\"black\" d=\"M590.74,-941.37C609.61,-930.68 641.98,-912.35 664.27,-899.72\"/>\n<polygon fill=\"black\" stroke=\"black\" points=\"666.16,-902.67 673.14,-894.7 662.71,-896.58 666.16,-902.67\"/>\n</g>\n<!-- 138161001080688 -->\n<g id=\"node29\" class=\"node\">\n<title>138161001080688</title>\n<polygon fill=\"lightgrey\" stroke=\"black\" points=\"631,-1026.5 536,-1026.5 536,-1007.5 631,-1007.5 631,-1026.5\"/>\n<text text-anchor=\"middle\" x=\"583.5\" y=\"-1014.5\" font-family=\"monospace\" font-size=\"10.00\">ReluBackward0</text>\n</g>\n<!-- 138161001080688&#45;&gt;138161001083904 -->\n<g id=\"edge27\" class=\"edge\">\n<title>138161001080688&#45;&gt;138161001083904</title>\n<path fill=\"none\" stroke=\"black\" d=\"M582.42,-1007.37C581.26,-998.07 579.37,-982.98 577.86,-970.9\"/>\n<polygon fill=\"black\" stroke=\"black\" points=\"581.33,-970.39 576.61,-960.91 574.38,-971.26 581.33,-970.39\"/>\n</g>\n<!-- 138161001081744 -->\n<g id=\"node30\" class=\"node\">\n<title>138161001081744</title>\n<polygon fill=\"lightgrey\" stroke=\"black\" points=\"701,-1092.5 600,-1092.5 600,-1073.5 701,-1073.5 701,-1092.5\"/>\n<text text-anchor=\"middle\" x=\"650.5\" y=\"-1080.5\" font-family=\"monospace\" font-size=\"10.00\">AddmmBackward0</text>\n</g>\n<!-- 138161001081744&#45;&gt;138161001080688 -->\n<g id=\"edge28\" class=\"edge\">\n<title>138161001081744&#45;&gt;138161001080688</title>\n<path fill=\"none\" stroke=\"black\" d=\"M641.46,-1073.37C630.93,-1063.31 613.31,-1046.48 600.26,-1034.01\"/>\n<polygon fill=\"black\" stroke=\"black\" points=\"602.47,-1031.28 592.82,-1026.91 597.64,-1036.34 602.47,-1031.28\"/>\n</g>\n<!-- 138161001078624 -->\n<g id=\"node31\" class=\"node\">\n<title>138161001078624</title>\n<polygon fill=\"lightgrey\" stroke=\"black\" points=\"839,-1153 738,-1153 738,-1134 839,-1134 839,-1153\"/>\n<text text-anchor=\"middle\" x=\"788.5\" y=\"-1141\" font-family=\"monospace\" font-size=\"10.00\">AccumulateGrad</text>\n</g>\n<!-- 138161001078624&#45;&gt;138161001081744 -->\n<g id=\"edge29\" class=\"edge\">\n<title>138161001078624&#45;&gt;138161001081744</title>\n<path fill=\"none\" stroke=\"black\" d=\"M768.43,-1133.99C745.13,-1124.12 706.49,-1107.73 679.82,-1096.43\"/>\n<polygon fill=\"black\" stroke=\"black\" points=\"681.16,-1093.2 670.59,-1092.52 678.43,-1099.64 681.16,-1093.2\"/>\n</g>\n<!-- 138161001751152 -->\n<g id=\"node32\" class=\"node\">\n<title>138161001751152</title>\n<polygon fill=\"lightblue\" stroke=\"black\" points=\"823,-1219 758,-1219 758,-1189 823,-1189 823,-1219\"/>\n<text text-anchor=\"middle\" x=\"790.5\" y=\"-1207\" font-family=\"monospace\" font-size=\"10.00\">fc5.bias</text>\n<text text-anchor=\"middle\" x=\"790.5\" y=\"-1196\" font-family=\"monospace\" font-size=\"10.00\"> (64)</text>\n</g>\n<!-- 138161001751152&#45;&gt;138161001078624 -->\n<g id=\"edge30\" class=\"edge\">\n<title>138161001751152&#45;&gt;138161001078624</title>\n<path fill=\"none\" stroke=\"black\" d=\"M790.02,-1188.84C789.76,-1181.21 789.43,-1171.7 789.15,-1163.45\"/>\n<polygon fill=\"black\" stroke=\"black\" points=\"792.64,-1163.14 788.8,-1153.27 785.64,-1163.38 792.64,-1163.14\"/>\n</g>\n<!-- 138161001072432 -->\n<g id=\"node33\" class=\"node\">\n<title>138161001072432</title>\n<polygon fill=\"lightgrey\" stroke=\"black\" points=\"619,-1153 524,-1153 524,-1134 619,-1134 619,-1153\"/>\n<text text-anchor=\"middle\" x=\"571.5\" y=\"-1141\" font-family=\"monospace\" font-size=\"10.00\">ReluBackward0</text>\n</g>\n<!-- 138161001072432&#45;&gt;138161001081744 -->\n<g id=\"edge31\" class=\"edge\">\n<title>138161001072432&#45;&gt;138161001081744</title>\n<path fill=\"none\" stroke=\"black\" d=\"M583.16,-1133.87C595.64,-1124.62 615.68,-1109.78 630.66,-1098.69\"/>\n<polygon fill=\"black\" stroke=\"black\" points=\"632.84,-1101.43 638.8,-1092.67 628.68,-1095.81 632.84,-1101.43\"/>\n</g>\n<!-- 138161001081072 -->\n<g id=\"node34\" class=\"node\">\n<title>138161001081072</title>\n<polygon fill=\"lightgrey\" stroke=\"black\" points=\"621,-1213.5 520,-1213.5 520,-1194.5 621,-1194.5 621,-1213.5\"/>\n<text text-anchor=\"middle\" x=\"570.5\" y=\"-1201.5\" font-family=\"monospace\" font-size=\"10.00\">AddmmBackward0</text>\n</g>\n<!-- 138161001081072&#45;&gt;138161001072432 -->\n<g id=\"edge32\" class=\"edge\">\n<title>138161001081072&#45;&gt;138161001072432</title>\n<path fill=\"none\" stroke=\"black\" d=\"M570.65,-1194.37C570.79,-1186.25 571,-1173.81 571.18,-1163.39\"/>\n<polygon fill=\"black\" stroke=\"black\" points=\"574.68,-1163.23 571.35,-1153.17 567.68,-1163.11 574.68,-1163.23\"/>\n</g>\n<!-- 138161001071232 -->\n<g id=\"node35\" class=\"node\">\n<title>138161001071232</title>\n<polygon fill=\"lightgrey\" stroke=\"black\" points=\"621,-1279.5 520,-1279.5 520,-1260.5 621,-1260.5 621,-1279.5\"/>\n<text text-anchor=\"middle\" x=\"570.5\" y=\"-1267.5\" font-family=\"monospace\" font-size=\"10.00\">AccumulateGrad</text>\n</g>\n<!-- 138161001071232&#45;&gt;138161001081072 -->\n<g id=\"edge33\" class=\"edge\">\n<title>138161001071232&#45;&gt;138161001081072</title>\n<path fill=\"none\" stroke=\"black\" d=\"M570.5,-1260.37C570.5,-1251.16 570.5,-1236.29 570.5,-1224.27\"/>\n<polygon fill=\"black\" stroke=\"black\" points=\"574,-1223.91 570.5,-1213.91 567,-1223.91 574,-1223.91\"/>\n</g>\n<!-- 138161001750960 -->\n<g id=\"node36\" class=\"node\">\n<title>138161001750960</title>\n<polygon fill=\"lightblue\" stroke=\"black\" points=\"603,-1351 538,-1351 538,-1321 603,-1321 603,-1351\"/>\n<text text-anchor=\"middle\" x=\"570.5\" y=\"-1339\" font-family=\"monospace\" font-size=\"10.00\">fc4.bias</text>\n<text text-anchor=\"middle\" x=\"570.5\" y=\"-1328\" font-family=\"monospace\" font-size=\"10.00\"> (32)</text>\n</g>\n<!-- 138161001750960&#45;&gt;138161001071232 -->\n<g id=\"edge34\" class=\"edge\">\n<title>138161001750960&#45;&gt;138161001071232</title>\n<path fill=\"none\" stroke=\"black\" d=\"M570.5,-1320.8C570.5,-1311.7 570.5,-1299.79 570.5,-1289.9\"/>\n<polygon fill=\"black\" stroke=\"black\" points=\"574,-1289.84 570.5,-1279.84 567,-1289.84 574,-1289.84\"/>\n</g>\n<!-- 138161001084192 -->\n<g id=\"node37\" class=\"node\">\n<title>138161001084192</title>\n<polygon fill=\"lightgrey\" stroke=\"black\" points=\"502,-1279.5 407,-1279.5 407,-1260.5 502,-1260.5 502,-1279.5\"/>\n<text text-anchor=\"middle\" x=\"454.5\" y=\"-1267.5\" font-family=\"monospace\" font-size=\"10.00\">ReluBackward0</text>\n</g>\n<!-- 138161001084192&#45;&gt;138161001083904 -->\n<g id=\"edge62\" class=\"edge\">\n<title>138161001084192&#45;&gt;138161001083904</title>\n<path fill=\"none\" stroke=\"black\" d=\"M456.64,-1260.31C461.4,-1240.11 472.5,-1188.4 472.5,-1144.5 472.5,-1144.5 472.5,-1144.5 472.5,-1082 472.5,-1030.63 522.52,-987.73 552.84,-966.44\"/>\n<polygon fill=\"black\" stroke=\"black\" points=\"554.87,-969.29 561.18,-960.78 550.94,-963.5 554.87,-969.29\"/>\n</g>\n<!-- 138161001084192&#45;&gt;138161001081072 -->\n<g id=\"edge35\" class=\"edge\">\n<title>138161001084192&#45;&gt;138161001081072</title>\n<path fill=\"none\" stroke=\"black\" d=\"M470.14,-1260.37C489.6,-1249.63 523.05,-1231.18 545.94,-1218.55\"/>\n<polygon fill=\"black\" stroke=\"black\" points=\"547.67,-1221.59 554.73,-1213.7 544.29,-1215.47 547.67,-1221.59\"/>\n</g>\n<!-- 138161001074832 -->\n<g id=\"node38\" class=\"node\">\n<title>138161001074832</title>\n<polygon fill=\"lightgrey\" stroke=\"black\" points=\"505,-1345.5 404,-1345.5 404,-1326.5 505,-1326.5 505,-1345.5\"/>\n<text text-anchor=\"middle\" x=\"454.5\" y=\"-1333.5\" font-family=\"monospace\" font-size=\"10.00\">AddmmBackward0</text>\n</g>\n<!-- 138161001074832&#45;&gt;138161001084192 -->\n<g id=\"edge36\" class=\"edge\">\n<title>138161001074832&#45;&gt;138161001084192</title>\n<path fill=\"none\" stroke=\"black\" d=\"M454.5,-1326.37C454.5,-1317.16 454.5,-1302.29 454.5,-1290.27\"/>\n<polygon fill=\"black\" stroke=\"black\" points=\"458,-1289.91 454.5,-1279.91 451,-1289.91 458,-1289.91\"/>\n</g>\n<!-- 138161001084576 -->\n<g id=\"node39\" class=\"node\">\n<title>138161001084576</title>\n<polygon fill=\"lightgrey\" stroke=\"black\" points=\"612,-1411.5 511,-1411.5 511,-1392.5 612,-1392.5 612,-1411.5\"/>\n<text text-anchor=\"middle\" x=\"561.5\" y=\"-1399.5\" font-family=\"monospace\" font-size=\"10.00\">AccumulateGrad</text>\n</g>\n<!-- 138161001084576&#45;&gt;138161001074832 -->\n<g id=\"edge37\" class=\"edge\">\n<title>138161001084576&#45;&gt;138161001074832</title>\n<path fill=\"none\" stroke=\"black\" d=\"M547.07,-1392.37C529.28,-1381.73 498.82,-1363.51 477.72,-1350.89\"/>\n<polygon fill=\"black\" stroke=\"black\" points=\"479.42,-1347.83 469.04,-1345.7 475.83,-1353.84 479.42,-1347.83\"/>\n</g>\n<!-- 138161001750768 -->\n<g id=\"node40\" class=\"node\">\n<title>138161001750768</title>\n<polygon fill=\"lightblue\" stroke=\"black\" points=\"594,-1483 529,-1483 529,-1453 594,-1453 594,-1483\"/>\n<text text-anchor=\"middle\" x=\"561.5\" y=\"-1471\" font-family=\"monospace\" font-size=\"10.00\">fc3.bias</text>\n<text text-anchor=\"middle\" x=\"561.5\" y=\"-1460\" font-family=\"monospace\" font-size=\"10.00\"> (64)</text>\n</g>\n<!-- 138161001750768&#45;&gt;138161001084576 -->\n<g id=\"edge38\" class=\"edge\">\n<title>138161001750768&#45;&gt;138161001084576</title>\n<path fill=\"none\" stroke=\"black\" d=\"M561.5,-1452.8C561.5,-1443.7 561.5,-1431.79 561.5,-1421.9\"/>\n<polygon fill=\"black\" stroke=\"black\" points=\"565,-1421.84 561.5,-1411.84 558,-1421.84 565,-1421.84\"/>\n</g>\n<!-- 138161001076800 -->\n<g id=\"node41\" class=\"node\">\n<title>138161001076800</title>\n<polygon fill=\"lightgrey\" stroke=\"black\" points=\"380,-1411.5 285,-1411.5 285,-1392.5 380,-1392.5 380,-1411.5\"/>\n<text text-anchor=\"middle\" x=\"332.5\" y=\"-1399.5\" font-family=\"monospace\" font-size=\"10.00\">ReluBackward0</text>\n</g>\n<!-- 138161001076800&#45;&gt;138161001074832 -->\n<g id=\"edge39\" class=\"edge\">\n<title>138161001076800&#45;&gt;138161001074832</title>\n<path fill=\"none\" stroke=\"black\" d=\"M348.95,-1392.37C369.51,-1381.59 404.9,-1363.02 428.99,-1350.38\"/>\n<polygon fill=\"black\" stroke=\"black\" points=\"430.69,-1353.44 437.92,-1345.7 427.44,-1347.25 430.69,-1353.44\"/>\n</g>\n<!-- 138161001084912 -->\n<g id=\"node42\" class=\"node\">\n<title>138161001084912</title>\n<polygon fill=\"lightgrey\" stroke=\"black\" points=\"365,-1477.5 264,-1477.5 264,-1458.5 365,-1458.5 365,-1477.5\"/>\n<text text-anchor=\"middle\" x=\"314.5\" y=\"-1465.5\" font-family=\"monospace\" font-size=\"10.00\">AddmmBackward0</text>\n</g>\n<!-- 138161001084912&#45;&gt;138161001076800 -->\n<g id=\"edge40\" class=\"edge\">\n<title>138161001084912&#45;&gt;138161001076800</title>\n<path fill=\"none\" stroke=\"black\" d=\"M316.93,-1458.37C319.54,-1449.07 323.79,-1433.98 327.18,-1421.9\"/>\n<polygon fill=\"black\" stroke=\"black\" points=\"330.66,-1422.48 330,-1411.91 323.92,-1420.58 330.66,-1422.48\"/>\n</g>\n<!-- 138161001082080 -->\n<g id=\"node43\" class=\"node\">\n<title>138161001082080</title>\n<polygon fill=\"lightgrey\" stroke=\"black\" points=\"425,-1543.5 324,-1543.5 324,-1524.5 425,-1524.5 425,-1543.5\"/>\n<text text-anchor=\"middle\" x=\"374.5\" y=\"-1531.5\" font-family=\"monospace\" font-size=\"10.00\">AccumulateGrad</text>\n</g>\n<!-- 138161001082080&#45;&gt;138161001084912 -->\n<g id=\"edge41\" class=\"edge\">\n<title>138161001082080&#45;&gt;138161001084912</title>\n<path fill=\"none\" stroke=\"black\" d=\"M366.41,-1524.37C357.07,-1514.4 341.49,-1497.79 329.84,-1485.36\"/>\n<polygon fill=\"black\" stroke=\"black\" points=\"332.24,-1482.81 322.85,-1477.91 327.13,-1487.59 332.24,-1482.81\"/>\n</g>\n<!-- 138161001750192 -->\n<g id=\"node44\" class=\"node\">\n<title>138161001750192</title>\n<polygon fill=\"lightblue\" stroke=\"black\" points=\"407,-1615 342,-1615 342,-1585 407,-1585 407,-1615\"/>\n<text text-anchor=\"middle\" x=\"374.5\" y=\"-1603\" font-family=\"monospace\" font-size=\"10.00\">fc2.bias</text>\n<text text-anchor=\"middle\" x=\"374.5\" y=\"-1592\" font-family=\"monospace\" font-size=\"10.00\"> (64)</text>\n</g>\n<!-- 138161001750192&#45;&gt;138161001082080 -->\n<g id=\"edge42\" class=\"edge\">\n<title>138161001750192&#45;&gt;138161001082080</title>\n<path fill=\"none\" stroke=\"black\" d=\"M374.5,-1584.8C374.5,-1575.7 374.5,-1563.79 374.5,-1553.9\"/>\n<polygon fill=\"black\" stroke=\"black\" points=\"378,-1553.84 374.5,-1543.84 371,-1553.84 378,-1553.84\"/>\n</g>\n<!-- 138161001078000 -->\n<g id=\"node45\" class=\"node\">\n<title>138161001078000</title>\n<polygon fill=\"lightgrey\" stroke=\"black\" points=\"205,-1543.5 110,-1543.5 110,-1524.5 205,-1524.5 205,-1543.5\"/>\n<text text-anchor=\"middle\" x=\"157.5\" y=\"-1531.5\" font-family=\"monospace\" font-size=\"10.00\">ReluBackward0</text>\n</g>\n<!-- 138161001078000&#45;&gt;138161001084912 -->\n<g id=\"edge43\" class=\"edge\">\n<title>138161001078000&#45;&gt;138161001084912</title>\n<path fill=\"none\" stroke=\"black\" d=\"M178.67,-1524.37C205.79,-1513.32 252.96,-1494.08 283.96,-1481.45\"/>\n<polygon fill=\"black\" stroke=\"black\" points=\"285.47,-1484.61 293.41,-1477.6 282.83,-1478.13 285.47,-1484.61\"/>\n</g>\n<!-- 138161001079344 -->\n<g id=\"node46\" class=\"node\">\n<title>138161001079344</title>\n<polygon fill=\"lightgrey\" stroke=\"black\" points=\"202,-1609.5 101,-1609.5 101,-1590.5 202,-1590.5 202,-1609.5\"/>\n<text text-anchor=\"middle\" x=\"151.5\" y=\"-1597.5\" font-family=\"monospace\" font-size=\"10.00\">AddmmBackward0</text>\n</g>\n<!-- 138161001079344&#45;&gt;138161001078000 -->\n<g id=\"edge44\" class=\"edge\">\n<title>138161001079344&#45;&gt;138161001078000</title>\n<path fill=\"none\" stroke=\"black\" d=\"M152.31,-1590.37C153.18,-1581.07 154.6,-1565.98 155.73,-1553.9\"/>\n<polygon fill=\"black\" stroke=\"black\" points=\"159.22,-1554.19 156.67,-1543.91 152.25,-1553.53 159.22,-1554.19\"/>\n</g>\n<!-- 138161001081168 -->\n<g id=\"node47\" class=\"node\">\n<title>138161001081168</title>\n<polygon fill=\"lightgrey\" stroke=\"black\" points=\"208,-1675.5 107,-1675.5 107,-1656.5 208,-1656.5 208,-1675.5\"/>\n<text text-anchor=\"middle\" x=\"157.5\" y=\"-1663.5\" font-family=\"monospace\" font-size=\"10.00\">AccumulateGrad</text>\n</g>\n<!-- 138161001081168&#45;&gt;138161001079344 -->\n<g id=\"edge45\" class=\"edge\">\n<title>138161001081168&#45;&gt;138161001079344</title>\n<path fill=\"none\" stroke=\"black\" d=\"M156.69,-1656.37C155.82,-1647.07 154.4,-1631.98 153.27,-1619.9\"/>\n<polygon fill=\"black\" stroke=\"black\" points=\"156.75,-1619.53 152.33,-1609.91 149.78,-1620.19 156.75,-1619.53\"/>\n</g>\n<!-- 138161001750384 -->\n<g id=\"node48\" class=\"node\">\n<title>138161001750384</title>\n<polygon fill=\"lightblue\" stroke=\"black\" points=\"190,-1747 125,-1747 125,-1717 190,-1717 190,-1747\"/>\n<text text-anchor=\"middle\" x=\"157.5\" y=\"-1735\" font-family=\"monospace\" font-size=\"10.00\">fc1.bias</text>\n<text text-anchor=\"middle\" x=\"157.5\" y=\"-1724\" font-family=\"monospace\" font-size=\"10.00\"> (64)</text>\n</g>\n<!-- 138161001750384&#45;&gt;138161001081168 -->\n<g id=\"edge46\" class=\"edge\">\n<title>138161001750384&#45;&gt;138161001081168</title>\n<path fill=\"none\" stroke=\"black\" d=\"M157.5,-1716.8C157.5,-1707.7 157.5,-1695.79 157.5,-1685.9\"/>\n<polygon fill=\"black\" stroke=\"black\" points=\"161,-1685.84 157.5,-1675.84 154,-1685.84 161,-1685.84\"/>\n</g>\n<!-- 138161001080304 -->\n<g id=\"node49\" class=\"node\">\n<title>138161001080304</title>\n<polygon fill=\"lightgrey\" stroke=\"black\" points=\"89,-1675.5 12,-1675.5 12,-1656.5 89,-1656.5 89,-1675.5\"/>\n<text text-anchor=\"middle\" x=\"50.5\" y=\"-1663.5\" font-family=\"monospace\" font-size=\"10.00\">TBackward0</text>\n</g>\n<!-- 138161001080304&#45;&gt;138161001079344 -->\n<g id=\"edge47\" class=\"edge\">\n<title>138161001080304&#45;&gt;138161001079344</title>\n<path fill=\"none\" stroke=\"black\" d=\"M64.12,-1656.37C80.84,-1645.78 109.41,-1627.67 129.31,-1615.06\"/>\n<polygon fill=\"black\" stroke=\"black\" points=\"131.2,-1618.01 137.77,-1609.7 127.45,-1612.1 131.2,-1618.01\"/>\n</g>\n<!-- 138161001082608 -->\n<g id=\"node50\" class=\"node\">\n<title>138161001082608</title>\n<polygon fill=\"lightgrey\" stroke=\"black\" points=\"101,-1741.5 0,-1741.5 0,-1722.5 101,-1722.5 101,-1741.5\"/>\n<text text-anchor=\"middle\" x=\"50.5\" y=\"-1729.5\" font-family=\"monospace\" font-size=\"10.00\">AccumulateGrad</text>\n</g>\n<!-- 138161001082608&#45;&gt;138161001080304 -->\n<g id=\"edge48\" class=\"edge\">\n<title>138161001082608&#45;&gt;138161001080304</title>\n<path fill=\"none\" stroke=\"black\" d=\"M50.5,-1722.37C50.5,-1713.16 50.5,-1698.29 50.5,-1686.27\"/>\n<polygon fill=\"black\" stroke=\"black\" points=\"54,-1685.91 50.5,-1675.91 47,-1685.91 54,-1685.91\"/>\n</g>\n<!-- 138161001750576 -->\n<g id=\"node51\" class=\"node\">\n<title>138161001750576</title>\n<polygon fill=\"lightblue\" stroke=\"black\" points=\"92,-1813 9,-1813 9,-1783 92,-1783 92,-1813\"/>\n<text text-anchor=\"middle\" x=\"50.5\" y=\"-1801\" font-family=\"monospace\" font-size=\"10.00\">fc1.weight</text>\n<text text-anchor=\"middle\" x=\"50.5\" y=\"-1790\" font-family=\"monospace\" font-size=\"10.00\"> (64, 3072)</text>\n</g>\n<!-- 138161001750576&#45;&gt;138161001082608 -->\n<g id=\"edge49\" class=\"edge\">\n<title>138161001750576&#45;&gt;138161001082608</title>\n<path fill=\"none\" stroke=\"black\" d=\"M50.5,-1782.8C50.5,-1773.7 50.5,-1761.79 50.5,-1751.9\"/>\n<polygon fill=\"black\" stroke=\"black\" points=\"54,-1751.84 50.5,-1741.84 47,-1751.84 54,-1751.84\"/>\n</g>\n<!-- 138161001084960 -->\n<g id=\"node52\" class=\"node\">\n<title>138161001084960</title>\n<polygon fill=\"lightgrey\" stroke=\"black\" points=\"306,-1543.5 229,-1543.5 229,-1524.5 306,-1524.5 306,-1543.5\"/>\n<text text-anchor=\"middle\" x=\"267.5\" y=\"-1531.5\" font-family=\"monospace\" font-size=\"10.00\">TBackward0</text>\n</g>\n<!-- 138161001084960&#45;&gt;138161001084912 -->\n<g id=\"edge50\" class=\"edge\">\n<title>138161001084960&#45;&gt;138161001084912</title>\n<path fill=\"none\" stroke=\"black\" d=\"M273.84,-1524.37C281.02,-1514.59 292.89,-1498.42 301.96,-1486.08\"/>\n<polygon fill=\"black\" stroke=\"black\" points=\"304.86,-1488.04 307.96,-1477.91 299.22,-1483.89 304.86,-1488.04\"/>\n</g>\n<!-- 138161001072000 -->\n<g id=\"node53\" class=\"node\">\n<title>138161001072000</title>\n<polygon fill=\"lightgrey\" stroke=\"black\" points=\"321,-1609.5 220,-1609.5 220,-1590.5 321,-1590.5 321,-1609.5\"/>\n<text text-anchor=\"middle\" x=\"270.5\" y=\"-1597.5\" font-family=\"monospace\" font-size=\"10.00\">AccumulateGrad</text>\n</g>\n<!-- 138161001072000&#45;&gt;138161001084960 -->\n<g id=\"edge51\" class=\"edge\">\n<title>138161001072000&#45;&gt;138161001084960</title>\n<path fill=\"none\" stroke=\"black\" d=\"M270.1,-1590.37C269.66,-1581.07 268.95,-1565.98 268.39,-1553.9\"/>\n<polygon fill=\"black\" stroke=\"black\" points=\"271.88,-1553.73 267.92,-1543.91 264.89,-1554.06 271.88,-1553.73\"/>\n</g>\n<!-- 138161001750288 -->\n<g id=\"node54\" class=\"node\">\n<title>138161001750288</title>\n<polygon fill=\"lightblue\" stroke=\"black\" points=\"309,-1681 232,-1681 232,-1651 309,-1651 309,-1681\"/>\n<text text-anchor=\"middle\" x=\"270.5\" y=\"-1669\" font-family=\"monospace\" font-size=\"10.00\">fc2.weight</text>\n<text text-anchor=\"middle\" x=\"270.5\" y=\"-1658\" font-family=\"monospace\" font-size=\"10.00\"> (64, 64)</text>\n</g>\n<!-- 138161001750288&#45;&gt;138161001072000 -->\n<g id=\"edge52\" class=\"edge\">\n<title>138161001750288&#45;&gt;138161001072000</title>\n<path fill=\"none\" stroke=\"black\" d=\"M270.5,-1650.8C270.5,-1641.7 270.5,-1629.79 270.5,-1619.9\"/>\n<polygon fill=\"black\" stroke=\"black\" points=\"274,-1619.84 270.5,-1609.84 267,-1619.84 274,-1619.84\"/>\n</g>\n<!-- 138161001082896 -->\n<g id=\"node55\" class=\"node\">\n<title>138161001082896</title>\n<polygon fill=\"lightgrey\" stroke=\"black\" points=\"493,-1411.5 416,-1411.5 416,-1392.5 493,-1392.5 493,-1411.5\"/>\n<text text-anchor=\"middle\" x=\"454.5\" y=\"-1399.5\" font-family=\"monospace\" font-size=\"10.00\">TBackward0</text>\n</g>\n<!-- 138161001082896&#45;&gt;138161001074832 -->\n<g id=\"edge53\" class=\"edge\">\n<title>138161001082896&#45;&gt;138161001074832</title>\n<path fill=\"none\" stroke=\"black\" d=\"M454.5,-1392.37C454.5,-1383.16 454.5,-1368.29 454.5,-1356.27\"/>\n<polygon fill=\"black\" stroke=\"black\" points=\"458,-1355.91 454.5,-1345.91 451,-1355.91 458,-1355.91\"/>\n</g>\n<!-- 138161001083520 -->\n<g id=\"node56\" class=\"node\">\n<title>138161001083520</title>\n<polygon fill=\"lightgrey\" stroke=\"black\" points=\"508,-1477.5 407,-1477.5 407,-1458.5 508,-1458.5 508,-1477.5\"/>\n<text text-anchor=\"middle\" x=\"457.5\" y=\"-1465.5\" font-family=\"monospace\" font-size=\"10.00\">AccumulateGrad</text>\n</g>\n<!-- 138161001083520&#45;&gt;138161001082896 -->\n<g id=\"edge54\" class=\"edge\">\n<title>138161001083520&#45;&gt;138161001082896</title>\n<path fill=\"none\" stroke=\"black\" d=\"M457.1,-1458.37C456.66,-1449.07 455.95,-1433.98 455.39,-1421.9\"/>\n<polygon fill=\"black\" stroke=\"black\" points=\"458.88,-1421.73 454.92,-1411.91 451.89,-1422.06 458.88,-1421.73\"/>\n</g>\n<!-- 138161001752496 -->\n<g id=\"node57\" class=\"node\">\n<title>138161001752496</title>\n<polygon fill=\"lightblue\" stroke=\"black\" points=\"520,-1549 443,-1549 443,-1519 520,-1519 520,-1549\"/>\n<text text-anchor=\"middle\" x=\"481.5\" y=\"-1537\" font-family=\"monospace\" font-size=\"10.00\">fc3.weight</text>\n<text text-anchor=\"middle\" x=\"481.5\" y=\"-1526\" font-family=\"monospace\" font-size=\"10.00\"> (64, 64)</text>\n</g>\n<!-- 138161001752496&#45;&gt;138161001083520 -->\n<g id=\"edge55\" class=\"edge\">\n<title>138161001752496&#45;&gt;138161001083520</title>\n<path fill=\"none\" stroke=\"black\" d=\"M476.17,-1518.8C472.69,-1509.5 468.1,-1497.27 464.35,-1487.26\"/>\n<polygon fill=\"black\" stroke=\"black\" points=\"467.61,-1485.98 460.82,-1477.84 461.05,-1488.44 467.61,-1485.98\"/>\n</g>\n<!-- 138161001084528 -->\n<g id=\"node58\" class=\"node\">\n<title>138161001084528</title>\n<polygon fill=\"lightgrey\" stroke=\"black\" points=\"716,-1279.5 639,-1279.5 639,-1260.5 716,-1260.5 716,-1279.5\"/>\n<text text-anchor=\"middle\" x=\"677.5\" y=\"-1267.5\" font-family=\"monospace\" font-size=\"10.00\">TBackward0</text>\n</g>\n<!-- 138161001084528&#45;&gt;138161001081072 -->\n<g id=\"edge56\" class=\"edge\">\n<title>138161001084528&#45;&gt;138161001081072</title>\n<path fill=\"none\" stroke=\"black\" d=\"M663.07,-1260.37C645.28,-1249.73 614.82,-1231.51 593.72,-1218.89\"/>\n<polygon fill=\"black\" stroke=\"black\" points=\"595.42,-1215.83 585.04,-1213.7 591.83,-1221.84 595.42,-1215.83\"/>\n</g>\n<!-- 138161001083664 -->\n<g id=\"node59\" class=\"node\">\n<title>138161001083664</title>\n<polygon fill=\"lightgrey\" stroke=\"black\" points=\"728,-1345.5 627,-1345.5 627,-1326.5 728,-1326.5 728,-1345.5\"/>\n<text text-anchor=\"middle\" x=\"677.5\" y=\"-1333.5\" font-family=\"monospace\" font-size=\"10.00\">AccumulateGrad</text>\n</g>\n<!-- 138161001083664&#45;&gt;138161001084528 -->\n<g id=\"edge57\" class=\"edge\">\n<title>138161001083664&#45;&gt;138161001084528</title>\n<path fill=\"none\" stroke=\"black\" d=\"M677.5,-1326.37C677.5,-1317.16 677.5,-1302.29 677.5,-1290.27\"/>\n<polygon fill=\"black\" stroke=\"black\" points=\"681,-1289.91 677.5,-1279.91 674,-1289.91 681,-1289.91\"/>\n</g>\n<!-- 138161001750864 -->\n<g id=\"node60\" class=\"node\">\n<title>138161001750864</title>\n<polygon fill=\"lightblue\" stroke=\"black\" points=\"716,-1417 639,-1417 639,-1387 716,-1387 716,-1417\"/>\n<text text-anchor=\"middle\" x=\"677.5\" y=\"-1405\" font-family=\"monospace\" font-size=\"10.00\">fc4.weight</text>\n<text text-anchor=\"middle\" x=\"677.5\" y=\"-1394\" font-family=\"monospace\" font-size=\"10.00\"> (32, 64)</text>\n</g>\n<!-- 138161001750864&#45;&gt;138161001083664 -->\n<g id=\"edge58\" class=\"edge\">\n<title>138161001750864&#45;&gt;138161001083664</title>\n<path fill=\"none\" stroke=\"black\" d=\"M677.5,-1386.8C677.5,-1377.7 677.5,-1365.79 677.5,-1355.9\"/>\n<polygon fill=\"black\" stroke=\"black\" points=\"681,-1355.84 677.5,-1345.84 674,-1355.84 681,-1355.84\"/>\n</g>\n<!-- 138161001074544 -->\n<g id=\"node61\" class=\"node\">\n<title>138161001074544</title>\n<polygon fill=\"lightgrey\" stroke=\"black\" points=\"718,-1153 641,-1153 641,-1134 718,-1134 718,-1153\"/>\n<text text-anchor=\"middle\" x=\"679.5\" y=\"-1141\" font-family=\"monospace\" font-size=\"10.00\">TBackward0</text>\n</g>\n<!-- 138161001074544&#45;&gt;138161001081744 -->\n<g id=\"edge59\" class=\"edge\">\n<title>138161001074544&#45;&gt;138161001081744</title>\n<path fill=\"none\" stroke=\"black\" d=\"M675.22,-1133.87C671.07,-1125.49 664.63,-1112.51 659.37,-1101.89\"/>\n<polygon fill=\"black\" stroke=\"black\" points=\"662.37,-1100.07 654.8,-1092.67 656.1,-1103.18 662.37,-1100.07\"/>\n</g>\n<!-- 138161001081792 -->\n<g id=\"node62\" class=\"node\">\n<title>138161001081792</title>\n<polygon fill=\"lightgrey\" stroke=\"black\" points=\"740,-1213.5 639,-1213.5 639,-1194.5 740,-1194.5 740,-1213.5\"/>\n<text text-anchor=\"middle\" x=\"689.5\" y=\"-1201.5\" font-family=\"monospace\" font-size=\"10.00\">AccumulateGrad</text>\n</g>\n<!-- 138161001081792&#45;&gt;138161001074544 -->\n<g id=\"edge60\" class=\"edge\">\n<title>138161001081792&#45;&gt;138161001074544</title>\n<path fill=\"none\" stroke=\"black\" d=\"M688.02,-1194.37C686.62,-1186.16 684.46,-1173.54 682.67,-1163.05\"/>\n<polygon fill=\"black\" stroke=\"black\" points=\"686.12,-1162.43 680.98,-1153.17 679.22,-1163.61 686.12,-1162.43\"/>\n</g>\n<!-- 138161001751056 -->\n<g id=\"node63\" class=\"node\">\n<title>138161001751056</title>\n<polygon fill=\"lightblue\" stroke=\"black\" points=\"811,-1285 734,-1285 734,-1255 811,-1255 811,-1285\"/>\n<text text-anchor=\"middle\" x=\"772.5\" y=\"-1273\" font-family=\"monospace\" font-size=\"10.00\">fc5.weight</text>\n<text text-anchor=\"middle\" x=\"772.5\" y=\"-1262\" font-family=\"monospace\" font-size=\"10.00\"> (64, 32)</text>\n</g>\n<!-- 138161001751056&#45;&gt;138161001081792 -->\n<g id=\"edge61\" class=\"edge\">\n<title>138161001751056&#45;&gt;138161001081792</title>\n<path fill=\"none\" stroke=\"black\" d=\"M754.08,-1254.8C740.76,-1244.53 722.79,-1230.67 709.19,-1220.18\"/>\n<polygon fill=\"black\" stroke=\"black\" points=\"711.03,-1217.18 700.97,-1213.84 706.75,-1222.72 711.03,-1217.18\"/>\n</g>\n<!-- 138161001080928 -->\n<g id=\"node64\" class=\"node\">\n<title>138161001080928</title>\n<polygon fill=\"lightgrey\" stroke=\"black\" points=\"834,-960.5 757,-960.5 757,-941.5 834,-941.5 834,-960.5\"/>\n<text text-anchor=\"middle\" x=\"795.5\" y=\"-948.5\" font-family=\"monospace\" font-size=\"10.00\">TBackward0</text>\n</g>\n<!-- 138161001080928&#45;&gt;138161001071952 -->\n<g id=\"edge63\" class=\"edge\">\n<title>138161001080928&#45;&gt;138161001071952</title>\n<path fill=\"none\" stroke=\"black\" d=\"M781.07,-941.37C763.28,-930.73 732.82,-912.51 711.72,-899.89\"/>\n<polygon fill=\"black\" stroke=\"black\" points=\"713.42,-896.83 703.04,-894.7 709.83,-902.84 713.42,-896.83\"/>\n</g>\n<!-- 138161001081312 -->\n<g id=\"node65\" class=\"node\">\n<title>138161001081312</title>\n<polygon fill=\"lightgrey\" stroke=\"black\" points=\"846,-1026.5 745,-1026.5 745,-1007.5 846,-1007.5 846,-1026.5\"/>\n<text text-anchor=\"middle\" x=\"795.5\" y=\"-1014.5\" font-family=\"monospace\" font-size=\"10.00\">AccumulateGrad</text>\n</g>\n<!-- 138161001081312&#45;&gt;138161001080928 -->\n<g id=\"edge64\" class=\"edge\">\n<title>138161001081312&#45;&gt;138161001080928</title>\n<path fill=\"none\" stroke=\"black\" d=\"M795.5,-1007.37C795.5,-998.16 795.5,-983.29 795.5,-971.27\"/>\n<polygon fill=\"black\" stroke=\"black\" points=\"799,-970.91 795.5,-960.91 792,-970.91 799,-970.91\"/>\n</g>\n<!-- 138161001751248 -->\n<g id=\"node66\" class=\"node\">\n<title>138161001751248</title>\n<polygon fill=\"lightblue\" stroke=\"black\" points=\"834,-1098 757,-1098 757,-1068 834,-1068 834,-1098\"/>\n<text text-anchor=\"middle\" x=\"795.5\" y=\"-1086\" font-family=\"monospace\" font-size=\"10.00\">fc6.weight</text>\n<text text-anchor=\"middle\" x=\"795.5\" y=\"-1075\" font-family=\"monospace\" font-size=\"10.00\"> (32, 64)</text>\n</g>\n<!-- 138161001751248&#45;&gt;138161001081312 -->\n<g id=\"edge65\" class=\"edge\">\n<title>138161001751248&#45;&gt;138161001081312</title>\n<path fill=\"none\" stroke=\"black\" d=\"M795.5,-1067.8C795.5,-1058.7 795.5,-1046.79 795.5,-1036.9\"/>\n<polygon fill=\"black\" stroke=\"black\" points=\"799,-1036.84 795.5,-1026.84 792,-1036.84 799,-1036.84\"/>\n</g>\n<!-- 138161001082416 -->\n<g id=\"node67\" class=\"node\">\n<title>138161001082416</title>\n<polygon fill=\"lightgrey\" stroke=\"black\" points=\"836,-834 759,-834 759,-815 836,-815 836,-834\"/>\n<text text-anchor=\"middle\" x=\"797.5\" y=\"-822\" font-family=\"monospace\" font-size=\"10.00\">TBackward0</text>\n</g>\n<!-- 138161001082416&#45;&gt;138161001082512 -->\n<g id=\"edge66\" class=\"edge\">\n<title>138161001082416&#45;&gt;138161001082512</title>\n<path fill=\"none\" stroke=\"black\" d=\"M782.01,-814.87C764.87,-805.32 737.03,-789.81 716.94,-778.62\"/>\n<polygon fill=\"black\" stroke=\"black\" points=\"718.5,-775.48 708.06,-773.67 715.09,-781.59 718.5,-775.48\"/>\n</g>\n<!-- 138161001083232 -->\n<g id=\"node68\" class=\"node\">\n<title>138161001083232</title>\n<polygon fill=\"lightgrey\" stroke=\"black\" points=\"858,-894.5 757,-894.5 757,-875.5 858,-875.5 858,-894.5\"/>\n<text text-anchor=\"middle\" x=\"807.5\" y=\"-882.5\" font-family=\"monospace\" font-size=\"10.00\">AccumulateGrad</text>\n</g>\n<!-- 138161001083232&#45;&gt;138161001082416 -->\n<g id=\"edge67\" class=\"edge\">\n<title>138161001083232&#45;&gt;138161001082416</title>\n<path fill=\"none\" stroke=\"black\" d=\"M806.02,-875.37C804.62,-867.16 802.46,-854.54 800.67,-844.05\"/>\n<polygon fill=\"black\" stroke=\"black\" points=\"804.12,-843.43 798.98,-834.17 797.22,-844.61 804.12,-843.43\"/>\n</g>\n<!-- 138161001751440 -->\n<g id=\"node69\" class=\"node\">\n<title>138161001751440</title>\n<polygon fill=\"lightblue\" stroke=\"black\" points=\"929,-966 852,-966 852,-936 929,-936 929,-966\"/>\n<text text-anchor=\"middle\" x=\"890.5\" y=\"-954\" font-family=\"monospace\" font-size=\"10.00\">fc7.weight</text>\n<text text-anchor=\"middle\" x=\"890.5\" y=\"-943\" font-family=\"monospace\" font-size=\"10.00\"> (64, 32)</text>\n</g>\n<!-- 138161001751440&#45;&gt;138161001083232 -->\n<g id=\"edge68\" class=\"edge\">\n<title>138161001751440&#45;&gt;138161001083232</title>\n<path fill=\"none\" stroke=\"black\" d=\"M872.08,-935.8C858.76,-925.53 840.79,-911.67 827.19,-901.18\"/>\n<polygon fill=\"black\" stroke=\"black\" points=\"829.03,-898.18 818.97,-894.84 824.75,-903.72 829.03,-898.18\"/>\n</g>\n<!-- 138161001075072 -->\n<g id=\"node70\" class=\"node\">\n<title>138161001075072</title>\n<polygon fill=\"lightgrey\" stroke=\"black\" points=\"836,-641.5 759,-641.5 759,-622.5 836,-622.5 836,-641.5\"/>\n<text text-anchor=\"middle\" x=\"797.5\" y=\"-629.5\" font-family=\"monospace\" font-size=\"10.00\">TBackward0</text>\n</g>\n<!-- 138161001075072&#45;&gt;138161001075312 -->\n<g id=\"edge70\" class=\"edge\">\n<title>138161001075072&#45;&gt;138161001075312</title>\n<path fill=\"none\" stroke=\"black\" d=\"M803.84,-622.37C811.02,-612.59 822.89,-596.42 831.96,-584.08\"/>\n<polygon fill=\"black\" stroke=\"black\" points=\"834.86,-586.04 837.96,-575.91 829.22,-581.89 834.86,-586.04\"/>\n</g>\n<!-- 138161001074880 -->\n<g id=\"node71\" class=\"node\">\n<title>138161001074880</title>\n<polygon fill=\"lightgrey\" stroke=\"black\" points=\"851,-707.5 750,-707.5 750,-688.5 851,-688.5 851,-707.5\"/>\n<text text-anchor=\"middle\" x=\"800.5\" y=\"-695.5\" font-family=\"monospace\" font-size=\"10.00\">AccumulateGrad</text>\n</g>\n<!-- 138161001074880&#45;&gt;138161001075072 -->\n<g id=\"edge71\" class=\"edge\">\n<title>138161001074880&#45;&gt;138161001075072</title>\n<path fill=\"none\" stroke=\"black\" d=\"M800.1,-688.37C799.66,-679.07 798.95,-663.98 798.39,-651.9\"/>\n<polygon fill=\"black\" stroke=\"black\" points=\"801.88,-651.73 797.92,-641.91 794.89,-652.06 801.88,-651.73\"/>\n</g>\n<!-- 138161001751632 -->\n<g id=\"node72\" class=\"node\">\n<title>138161001751632</title>\n<polygon fill=\"lightblue\" stroke=\"black\" points=\"839,-779 762,-779 762,-749 839,-749 839,-779\"/>\n<text text-anchor=\"middle\" x=\"800.5\" y=\"-767\" font-family=\"monospace\" font-size=\"10.00\">fc8.weight</text>\n<text text-anchor=\"middle\" x=\"800.5\" y=\"-756\" font-family=\"monospace\" font-size=\"10.00\"> (16, 64)</text>\n</g>\n<!-- 138161001751632&#45;&gt;138161001074880 -->\n<g id=\"edge72\" class=\"edge\">\n<title>138161001751632&#45;&gt;138161001074880</title>\n<path fill=\"none\" stroke=\"black\" d=\"M800.5,-748.8C800.5,-739.7 800.5,-727.79 800.5,-717.9\"/>\n<polygon fill=\"black\" stroke=\"black\" points=\"804,-717.84 800.5,-707.84 797,-717.84 804,-717.84\"/>\n</g>\n<!-- 138161001080832 -->\n<g id=\"node73\" class=\"node\">\n<title>138161001080832</title>\n<polygon fill=\"lightgrey\" stroke=\"black\" points=\"1023,-509.5 946,-509.5 946,-490.5 1023,-490.5 1023,-509.5\"/>\n<text text-anchor=\"middle\" x=\"984.5\" y=\"-497.5\" font-family=\"monospace\" font-size=\"10.00\">TBackward0</text>\n</g>\n<!-- 138161001080832&#45;&gt;138161001080784 -->\n<g id=\"edge73\" class=\"edge\">\n<title>138161001080832&#45;&gt;138161001080784</title>\n<path fill=\"none\" stroke=\"black\" d=\"M987.74,-490.37C991.26,-480.97 997,-465.67 1001.55,-453.53\"/>\n<polygon fill=\"black\" stroke=\"black\" points=\"1004.93,-454.5 1005.16,-443.91 998.37,-452.04 1004.93,-454.5\"/>\n</g>\n<!-- 138161001084816 -->\n<g id=\"node74\" class=\"node\">\n<title>138161001084816</title>\n<polygon fill=\"lightgrey\" stroke=\"black\" points=\"1038,-575.5 937,-575.5 937,-556.5 1038,-556.5 1038,-575.5\"/>\n<text text-anchor=\"middle\" x=\"987.5\" y=\"-563.5\" font-family=\"monospace\" font-size=\"10.00\">AccumulateGrad</text>\n</g>\n<!-- 138161001084816&#45;&gt;138161001080832 -->\n<g id=\"edge74\" class=\"edge\">\n<title>138161001084816&#45;&gt;138161001080832</title>\n<path fill=\"none\" stroke=\"black\" d=\"M987.1,-556.37C986.66,-547.07 985.95,-531.98 985.39,-519.9\"/>\n<polygon fill=\"black\" stroke=\"black\" points=\"988.88,-519.73 984.92,-509.91 981.89,-520.06 988.88,-519.73\"/>\n</g>\n<!-- 138161001751824 -->\n<g id=\"node75\" class=\"node\">\n<title>138161001751824</title>\n<polygon fill=\"lightblue\" stroke=\"black\" points=\"1050,-647 973,-647 973,-617 1050,-617 1050,-647\"/>\n<text text-anchor=\"middle\" x=\"1011.5\" y=\"-635\" font-family=\"monospace\" font-size=\"10.00\">fc9.weight</text>\n<text text-anchor=\"middle\" x=\"1011.5\" y=\"-624\" font-family=\"monospace\" font-size=\"10.00\"> (32, 16)</text>\n</g>\n<!-- 138161001751824&#45;&gt;138161001084816 -->\n<g id=\"edge75\" class=\"edge\">\n<title>138161001751824&#45;&gt;138161001084816</title>\n<path fill=\"none\" stroke=\"black\" d=\"M1006.17,-616.8C1002.69,-607.5 998.1,-595.27 994.35,-585.26\"/>\n<polygon fill=\"black\" stroke=\"black\" points=\"997.61,-583.98 990.82,-575.84 991.05,-586.44 997.61,-583.98\"/>\n</g>\n<!-- 138161001082224 -->\n<g id=\"node76\" class=\"node\">\n<title>138161001082224</title>\n<polygon fill=\"lightgrey\" stroke=\"black\" points=\"1186,-383 1109,-383 1109,-364 1186,-364 1186,-383\"/>\n<text text-anchor=\"middle\" x=\"1147.5\" y=\"-371\" font-family=\"monospace\" font-size=\"10.00\">TBackward0</text>\n</g>\n<!-- 138161001082224&#45;&gt;138161001071904 -->\n<g id=\"edge76\" class=\"edge\">\n<title>138161001082224&#45;&gt;138161001071904</title>\n<path fill=\"none\" stroke=\"black\" d=\"M1128.16,-363.99C1105.8,-354.16 1068.79,-337.88 1043.1,-326.58\"/>\n<polygon fill=\"black\" stroke=\"black\" points=\"1044.43,-323.34 1033.86,-322.52 1041.61,-329.75 1044.43,-323.34\"/>\n</g>\n<!-- 138161001072048 -->\n<g id=\"node77\" class=\"node\">\n<title>138161001072048</title>\n<polygon fill=\"lightgrey\" stroke=\"black\" points=\"1227,-443.5 1126,-443.5 1126,-424.5 1227,-424.5 1227,-443.5\"/>\n<text text-anchor=\"middle\" x=\"1176.5\" y=\"-431.5\" font-family=\"monospace\" font-size=\"10.00\">AccumulateGrad</text>\n</g>\n<!-- 138161001072048&#45;&gt;138161001082224 -->\n<g id=\"edge77\" class=\"edge\">\n<title>138161001072048&#45;&gt;138161001082224</title>\n<path fill=\"none\" stroke=\"black\" d=\"M1172.22,-424.37C1168.07,-415.99 1161.63,-403.01 1156.37,-392.39\"/>\n<polygon fill=\"black\" stroke=\"black\" points=\"1159.37,-390.57 1151.8,-383.17 1153.1,-393.68 1159.37,-390.57\"/>\n</g>\n<!-- 138161001752016 -->\n<g id=\"node78\" class=\"node\">\n<title>138161001752016</title>\n<polygon fill=\"lightblue\" stroke=\"black\" points=\"1243,-515 1160,-515 1160,-485 1243,-485 1243,-515\"/>\n<text text-anchor=\"middle\" x=\"1201.5\" y=\"-503\" font-family=\"monospace\" font-size=\"10.00\">fc10.weight</text>\n<text text-anchor=\"middle\" x=\"1201.5\" y=\"-492\" font-family=\"monospace\" font-size=\"10.00\"> (256, 32)</text>\n</g>\n<!-- 138161001752016&#45;&gt;138161001072048 -->\n<g id=\"edge78\" class=\"edge\">\n<title>138161001752016&#45;&gt;138161001072048</title>\n<path fill=\"none\" stroke=\"black\" d=\"M1195.95,-484.8C1192.32,-475.5 1187.54,-463.27 1183.63,-453.26\"/>\n<polygon fill=\"black\" stroke=\"black\" points=\"1186.85,-451.89 1179.95,-443.84 1180.33,-454.43 1186.85,-451.89\"/>\n</g>\n<!-- 138161001082656 -->\n<g id=\"node79\" class=\"node\">\n<title>138161001082656</title>\n<polygon fill=\"lightgrey\" stroke=\"black\" points=\"1163,-196 1086,-196 1086,-177 1163,-177 1163,-196\"/>\n<text text-anchor=\"middle\" x=\"1124.5\" y=\"-184\" font-family=\"monospace\" font-size=\"10.00\">TBackward0</text>\n</g>\n<!-- 138161001082656&#45;&gt;138161001074208 -->\n<g id=\"edge79\" class=\"edge\">\n<title>138161001082656&#45;&gt;138161001074208</title>\n<path fill=\"none\" stroke=\"black\" d=\"M1107.31,-176.98C1090.25,-168.54 1063.87,-155.47 1044.1,-145.68\"/>\n<polygon fill=\"black\" stroke=\"black\" points=\"1045.52,-142.47 1035,-141.17 1042.41,-148.75 1045.52,-142.47\"/>\n</g>\n<!-- 138161001077952 -->\n<g id=\"node80\" class=\"node\">\n<title>138161001077952</title>\n<polygon fill=\"lightgrey\" stroke=\"black\" points=\"1181,-256.5 1080,-256.5 1080,-237.5 1181,-237.5 1181,-256.5\"/>\n<text text-anchor=\"middle\" x=\"1130.5\" y=\"-244.5\" font-family=\"monospace\" font-size=\"10.00\">AccumulateGrad</text>\n</g>\n<!-- 138161001077952&#45;&gt;138161001082656 -->\n<g id=\"edge80\" class=\"edge\">\n<title>138161001077952&#45;&gt;138161001082656</title>\n<path fill=\"none\" stroke=\"black\" d=\"M1129.61,-237.37C1128.78,-229.25 1127.51,-216.81 1126.44,-206.39\"/>\n<polygon fill=\"black\" stroke=\"black\" points=\"1129.89,-205.76 1125.39,-196.17 1122.93,-206.47 1129.89,-205.76\"/>\n</g>\n<!-- 138161001752208 -->\n<g id=\"node81\" class=\"node\">\n<title>138161001752208</title>\n<polygon fill=\"lightblue\" stroke=\"black\" points=\"1178,-328 1083,-328 1083,-298 1178,-298 1178,-328\"/>\n<text text-anchor=\"middle\" x=\"1130.5\" y=\"-316\" font-family=\"monospace\" font-size=\"10.00\">fc_out.weight</text>\n<text text-anchor=\"middle\" x=\"1130.5\" y=\"-305\" font-family=\"monospace\" font-size=\"10.00\"> (10, 256)</text>\n</g>\n<!-- 138161001752208&#45;&gt;138161001077952 -->\n<g id=\"edge81\" class=\"edge\">\n<title>138161001752208&#45;&gt;138161001077952</title>\n<path fill=\"none\" stroke=\"black\" d=\"M1130.5,-297.8C1130.5,-288.7 1130.5,-276.79 1130.5,-266.9\"/>\n<polygon fill=\"black\" stroke=\"black\" points=\"1134,-266.84 1130.5,-256.84 1127,-266.84 1134,-266.84\"/>\n</g>\n</g>\n</svg>\n",
            "text/plain": [
              "<graphviz.graphs.Digraph at 0x7da81d666210>"
            ]
          },
          "metadata": {},
          "execution_count": 21
        }
      ]
    },
    {
      "cell_type": "markdown",
      "source": [
        "##**Personalizar Layers y Models**"
      ],
      "metadata": {
        "id": "9Ntd9LJ-KvOX"
      }
    },
    {
      "cell_type": "markdown",
      "source": [
        "Se usa nn.Module para definir la capa personalizada.\n",
        "\n",
        "Se inicializan los pesos (self.w) y el sesgo (self.b) en la primera pasada dentro de forward(), equivalente a build() en Keras.\n",
        "\n",
        "Se aplica la operación torch.matmul(inputs, self.w) + self.b, equivalente a tf.matmul(inputs, self.w) + self.b.\n",
        "\n",
        "Se crean parámetros entrenables (nn.Parameter) para que PyTorch los optimice automáticamente"
      ],
      "metadata": {
        "id": "S76cig3jKv4D"
      }
    },
    {
      "cell_type": "code",
      "source": [
        "# Definir la clase de la capa personalizada\n",
        "class MyLayer(nn.Module):\n",
        "    def __init__(self, units=1):\n",
        "        super(MyLayer, self).__init__()\n",
        "        self.units = units\n",
        "        self.w = None  # Se inicializa en forward()\n",
        "        self.b = None\n",
        "\n",
        "    def forward(self, inputs):\n",
        "        if self.w is None:  # Inicializar pesos en la primera pasada (similar a 'build' en Keras)\n",
        "            input_dim = inputs.shape[-1]\n",
        "            self.w = nn.Parameter(torch.randn(input_dim, self.units))  # Pesos inicializados normal\n",
        "            self.b = nn.Parameter(torch.zeros(self.units))  # Sesgo inicializado en ceros\n",
        "        return torch.matmul(inputs, self.w) + self.b\n",
        "\n",
        "# Crear una instancia de la capa con 8 unidades\n",
        "linear_layer = MyLayer(8)\n",
        "\n",
        "# Crear una entrada de prueba (tensor de 1x2)\n",
        "x = torch.ones((1, 2))\n",
        "\n",
        "# Pasar la entrada por la capa\n",
        "y = linear_layer(x)\n",
        "y"
      ],
      "metadata": {
        "id": "8U1wluSVK1T7"
      },
      "execution_count": null,
      "outputs": []
    },
    {
      "cell_type": "markdown",
      "source": [
        "Se usa nn.Linear() en lugar de tf.keras.layers.Dense().\n",
        "\n",
        "Se aplican activaciones manualmente (F.relu() y F.elu()).\n",
        "\n",
        "Se maneja training=False congelando los parámetros de dense3 con param.requires_grad = False.\n",
        "\n",
        "Se usa torchinfo.summary() para imprimir un resumen del modelo (similar a model.summary() en Keras)."
      ],
      "metadata": {
        "id": "6LNopwK1K4qh"
      }
    },
    {
      "cell_type": "code",
      "source": [
        "# Definir la clase del modelo personalizado\n",
        "class MyModel(nn.Module):\n",
        "    def __init__(self):\n",
        "        super(MyModel, self).__init__()\n",
        "        self.dense1 = nn.Linear(2, 2)  # Entrada de tamaño 2, salida de tamaño 2\n",
        "        self.dense2 = nn.Linear(2, 4)\n",
        "        self.dense3 = nn.Linear(4, 8)\n",
        "\n",
        "    def forward(self, inputs, training=False):\n",
        "        x = F.relu(self.dense1(inputs))\n",
        "        x = F.relu(self.dense2(x))\n",
        "        x = F.elu(self.dense3(x))\n",
        "\n",
        "        if not training:\n",
        "            for param in self.dense3.parameters():\n",
        "                param.requires_grad = False  # Congelar capa densa3 si no está en entrenamiento\n",
        "\n",
        "        return x\n",
        "\n",
        "# Crear el modelo\n",
        "model = MyModel()\n",
        "\n",
        "# Crear una entrada de prueba\n",
        "x = torch.ones((1, 2)) * 2\n",
        "\n",
        "# Pasar la entrada por el modelo\n",
        "y = model(x, training=False)\n",
        "\n",
        "print('Resultado:', y)\n",
        "\n",
        "# Mostrar resumen del modelo\n",
        "from torchinfo import summary\n",
        "summary(model, input_size=(1, 2))"
      ],
      "metadata": {
        "id": "BTa5xO52K7Hi"
      },
      "execution_count": null,
      "outputs": []
    }
  ]
}